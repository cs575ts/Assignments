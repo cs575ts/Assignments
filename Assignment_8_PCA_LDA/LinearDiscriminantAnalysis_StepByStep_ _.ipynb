{
  "nbformat": 4,
  "nbformat_minor": 0,
  "metadata": {
    "colab": {
      "name": "LinearDiscriminantAnalysis_StepByStep_.ipynb",
      "provenance": []
    },
    "kernelspec": {
      "name": "python3",
      "display_name": "Python 3"
    }
  },
  "cells": [
    {
      "cell_type": "markdown",
      "metadata": {
        "id": "qgi88Yq4wkXY"
      },
      "source": [
        "#**Linear Discriminant Analysis**"
      ]
    },
    {
      "cell_type": "code",
      "metadata": {
        "id": "caO4EwaroFKs"
      },
      "source": [
        "# Load Packages\n",
        "import numpy as np\n",
        "#https://numpy.org/doc/stable/user/tutorials_index.html\n",
        "\n",
        "import pandas as pd\n",
        "#https://pandas.pydata.org/docs/reference/index.html\n",
        "\n",
        "import matplotlib.pyplot as plt\n",
        "#https://matplotlib.org/tutorials/index.html\n",
        "\n",
        "%matplotlib inline"
      ],
      "execution_count": null,
      "outputs": []
    },
    {
      "cell_type": "code",
      "metadata": {
        "colab": {
          "base_uri": "https://localhost:8080/"
        },
        "id": "BeGmYZATof31",
        "outputId": "fdd9efcb-643a-45be-ad8c-d4b84203ae63"
      },
      "source": [
        "df = pd.read_csv('https://raw.githubusercontent.com/uiuc-cse/data-fa14/gh-pages/data/iris.csv')\n",
        "print(df.info())"
      ],
      "execution_count": null,
      "outputs": [
        {
          "output_type": "stream",
          "text": [
            "<class 'pandas.core.frame.DataFrame'>\n",
            "RangeIndex: 150 entries, 0 to 149\n",
            "Data columns (total 5 columns):\n",
            " #   Column        Non-Null Count  Dtype  \n",
            "---  ------        --------------  -----  \n",
            " 0   sepal_length  150 non-null    float64\n",
            " 1   sepal_width   150 non-null    float64\n",
            " 2   petal_length  150 non-null    float64\n",
            " 3   petal_width   150 non-null    float64\n",
            " 4   species       150 non-null    object \n",
            "dtypes: float64(4), object(1)\n",
            "memory usage: 6.0+ KB\n",
            "None\n"
          ],
          "name": "stdout"
        }
      ]
    },
    {
      "cell_type": "code",
      "metadata": {
        "colab": {
          "base_uri": "https://localhost:8080/"
        },
        "id": "PGyYf5rKoiLq",
        "outputId": "148e5040-cbd3-4179-d321-5dc4c9e62b71"
      },
      "source": [
        "print(df.shape)"
      ],
      "execution_count": null,
      "outputs": [
        {
          "output_type": "stream",
          "text": [
            "(150, 5)\n"
          ],
          "name": "stdout"
        }
      ]
    },
    {
      "cell_type": "code",
      "metadata": {
        "colab": {
          "base_uri": "https://localhost:8080/"
        },
        "id": "yCiBbJjoolpE",
        "outputId": "af4687f4-6012-4f8e-de73-4096ffe557bd"
      },
      "source": [
        "df.head()"
      ],
      "execution_count": null,
      "outputs": [
        {
          "output_type": "execute_result",
          "data": {
            "text/html": [
              "<div>\n",
              "<style scoped>\n",
              "    .dataframe tbody tr th:only-of-type {\n",
              "        vertical-align: middle;\n",
              "    }\n",
              "\n",
              "    .dataframe tbody tr th {\n",
              "        vertical-align: top;\n",
              "    }\n",
              "\n",
              "    .dataframe thead th {\n",
              "        text-align: right;\n",
              "    }\n",
              "</style>\n",
              "<table border=\"1\" class=\"dataframe\">\n",
              "  <thead>\n",
              "    <tr style=\"text-align: right;\">\n",
              "      <th></th>\n",
              "      <th>sepal_length</th>\n",
              "      <th>sepal_width</th>\n",
              "      <th>petal_length</th>\n",
              "      <th>petal_width</th>\n",
              "      <th>species</th>\n",
              "    </tr>\n",
              "  </thead>\n",
              "  <tbody>\n",
              "    <tr>\n",
              "      <th>0</th>\n",
              "      <td>5.1</td>\n",
              "      <td>3.5</td>\n",
              "      <td>1.4</td>\n",
              "      <td>0.2</td>\n",
              "      <td>setosa</td>\n",
              "    </tr>\n",
              "    <tr>\n",
              "      <th>1</th>\n",
              "      <td>4.9</td>\n",
              "      <td>3.0</td>\n",
              "      <td>1.4</td>\n",
              "      <td>0.2</td>\n",
              "      <td>setosa</td>\n",
              "    </tr>\n",
              "    <tr>\n",
              "      <th>2</th>\n",
              "      <td>4.7</td>\n",
              "      <td>3.2</td>\n",
              "      <td>1.3</td>\n",
              "      <td>0.2</td>\n",
              "      <td>setosa</td>\n",
              "    </tr>\n",
              "    <tr>\n",
              "      <th>3</th>\n",
              "      <td>4.6</td>\n",
              "      <td>3.1</td>\n",
              "      <td>1.5</td>\n",
              "      <td>0.2</td>\n",
              "      <td>setosa</td>\n",
              "    </tr>\n",
              "    <tr>\n",
              "      <th>4</th>\n",
              "      <td>5.0</td>\n",
              "      <td>3.6</td>\n",
              "      <td>1.4</td>\n",
              "      <td>0.2</td>\n",
              "      <td>setosa</td>\n",
              "    </tr>\n",
              "  </tbody>\n",
              "</table>\n",
              "</div>"
            ],
            "text/plain": [
              "   sepal_length  sepal_width  petal_length  petal_width species\n",
              "0           5.1          3.5           1.4          0.2  setosa\n",
              "1           4.9          3.0           1.4          0.2  setosa\n",
              "2           4.7          3.2           1.3          0.2  setosa\n",
              "3           4.6          3.1           1.5          0.2  setosa\n",
              "4           5.0          3.6           1.4          0.2  setosa"
            ]
          },
          "metadata": {
            "tags": []
          },
          "execution_count": 4
        }
      ]
    },
    {
      "cell_type": "code",
      "metadata": {
        "id": "EjB3xifJon8w"
      },
      "source": [
        "df_2=df.loc[df['species'].isin(['setosa', 'versicolor'])] "
      ],
      "execution_count": null,
      "outputs": []
    },
    {
      "cell_type": "code",
      "metadata": {
        "id": "WuAS0EOAoqAU"
      },
      "source": [
        "df_2D=df_2.drop(['sepal_length', 'sepal_width'], axis=1)"
      ],
      "execution_count": null,
      "outputs": []
    },
    {
      "cell_type": "code",
      "metadata": {
        "colab": {
          "base_uri": "https://localhost:8080/"
        },
        "id": "TXMu8qyMorza",
        "outputId": "9cb16021-352c-41f3-bb09-cf63a0066da1"
      },
      "source": [
        "df_2D"
      ],
      "execution_count": null,
      "outputs": [
        {
          "output_type": "execute_result",
          "data": {
            "text/html": [
              "<div>\n",
              "<style scoped>\n",
              "    .dataframe tbody tr th:only-of-type {\n",
              "        vertical-align: middle;\n",
              "    }\n",
              "\n",
              "    .dataframe tbody tr th {\n",
              "        vertical-align: top;\n",
              "    }\n",
              "\n",
              "    .dataframe thead th {\n",
              "        text-align: right;\n",
              "    }\n",
              "</style>\n",
              "<table border=\"1\" class=\"dataframe\">\n",
              "  <thead>\n",
              "    <tr style=\"text-align: right;\">\n",
              "      <th></th>\n",
              "      <th>petal_length</th>\n",
              "      <th>petal_width</th>\n",
              "      <th>species</th>\n",
              "    </tr>\n",
              "  </thead>\n",
              "  <tbody>\n",
              "    <tr>\n",
              "      <th>0</th>\n",
              "      <td>1.4</td>\n",
              "      <td>0.2</td>\n",
              "      <td>setosa</td>\n",
              "    </tr>\n",
              "    <tr>\n",
              "      <th>1</th>\n",
              "      <td>1.4</td>\n",
              "      <td>0.2</td>\n",
              "      <td>setosa</td>\n",
              "    </tr>\n",
              "    <tr>\n",
              "      <th>2</th>\n",
              "      <td>1.3</td>\n",
              "      <td>0.2</td>\n",
              "      <td>setosa</td>\n",
              "    </tr>\n",
              "    <tr>\n",
              "      <th>3</th>\n",
              "      <td>1.5</td>\n",
              "      <td>0.2</td>\n",
              "      <td>setosa</td>\n",
              "    </tr>\n",
              "    <tr>\n",
              "      <th>4</th>\n",
              "      <td>1.4</td>\n",
              "      <td>0.2</td>\n",
              "      <td>setosa</td>\n",
              "    </tr>\n",
              "    <tr>\n",
              "      <th>...</th>\n",
              "      <td>...</td>\n",
              "      <td>...</td>\n",
              "      <td>...</td>\n",
              "    </tr>\n",
              "    <tr>\n",
              "      <th>95</th>\n",
              "      <td>4.2</td>\n",
              "      <td>1.2</td>\n",
              "      <td>versicolor</td>\n",
              "    </tr>\n",
              "    <tr>\n",
              "      <th>96</th>\n",
              "      <td>4.2</td>\n",
              "      <td>1.3</td>\n",
              "      <td>versicolor</td>\n",
              "    </tr>\n",
              "    <tr>\n",
              "      <th>97</th>\n",
              "      <td>4.3</td>\n",
              "      <td>1.3</td>\n",
              "      <td>versicolor</td>\n",
              "    </tr>\n",
              "    <tr>\n",
              "      <th>98</th>\n",
              "      <td>3.0</td>\n",
              "      <td>1.1</td>\n",
              "      <td>versicolor</td>\n",
              "    </tr>\n",
              "    <tr>\n",
              "      <th>99</th>\n",
              "      <td>4.1</td>\n",
              "      <td>1.3</td>\n",
              "      <td>versicolor</td>\n",
              "    </tr>\n",
              "  </tbody>\n",
              "</table>\n",
              "<p>100 rows × 3 columns</p>\n",
              "</div>"
            ],
            "text/plain": [
              "    petal_length  petal_width     species\n",
              "0            1.4          0.2      setosa\n",
              "1            1.4          0.2      setosa\n",
              "2            1.3          0.2      setosa\n",
              "3            1.5          0.2      setosa\n",
              "4            1.4          0.2      setosa\n",
              "..           ...          ...         ...\n",
              "95           4.2          1.2  versicolor\n",
              "96           4.2          1.3  versicolor\n",
              "97           4.3          1.3  versicolor\n",
              "98           3.0          1.1  versicolor\n",
              "99           4.1          1.3  versicolor\n",
              "\n",
              "[100 rows x 3 columns]"
            ]
          },
          "metadata": {
            "tags": []
          },
          "execution_count": 7
        }
      ]
    },
    {
      "cell_type": "code",
      "metadata": {
        "id": "QkhLobF6ot-F"
      },
      "source": [
        "Data_2D=df_2D.loc[45:54,:]"
      ],
      "execution_count": null,
      "outputs": []
    },
    {
      "cell_type": "code",
      "metadata": {
        "colab": {
          "base_uri": "https://localhost:8080/"
        },
        "id": "HTlq0HPBov_-",
        "outputId": "0da6bf33-7dbd-44b5-f923-7ecf035e1137"
      },
      "source": [
        "Data_2D"
      ],
      "execution_count": null,
      "outputs": [
        {
          "output_type": "execute_result",
          "data": {
            "text/html": [
              "<div>\n",
              "<style scoped>\n",
              "    .dataframe tbody tr th:only-of-type {\n",
              "        vertical-align: middle;\n",
              "    }\n",
              "\n",
              "    .dataframe tbody tr th {\n",
              "        vertical-align: top;\n",
              "    }\n",
              "\n",
              "    .dataframe thead th {\n",
              "        text-align: right;\n",
              "    }\n",
              "</style>\n",
              "<table border=\"1\" class=\"dataframe\">\n",
              "  <thead>\n",
              "    <tr style=\"text-align: right;\">\n",
              "      <th></th>\n",
              "      <th>petal_length</th>\n",
              "      <th>petal_width</th>\n",
              "      <th>species</th>\n",
              "    </tr>\n",
              "  </thead>\n",
              "  <tbody>\n",
              "    <tr>\n",
              "      <th>45</th>\n",
              "      <td>1.4</td>\n",
              "      <td>0.3</td>\n",
              "      <td>setosa</td>\n",
              "    </tr>\n",
              "    <tr>\n",
              "      <th>46</th>\n",
              "      <td>1.6</td>\n",
              "      <td>0.2</td>\n",
              "      <td>setosa</td>\n",
              "    </tr>\n",
              "    <tr>\n",
              "      <th>47</th>\n",
              "      <td>1.4</td>\n",
              "      <td>0.2</td>\n",
              "      <td>setosa</td>\n",
              "    </tr>\n",
              "    <tr>\n",
              "      <th>48</th>\n",
              "      <td>1.5</td>\n",
              "      <td>0.2</td>\n",
              "      <td>setosa</td>\n",
              "    </tr>\n",
              "    <tr>\n",
              "      <th>49</th>\n",
              "      <td>1.4</td>\n",
              "      <td>0.2</td>\n",
              "      <td>setosa</td>\n",
              "    </tr>\n",
              "    <tr>\n",
              "      <th>50</th>\n",
              "      <td>4.7</td>\n",
              "      <td>1.4</td>\n",
              "      <td>versicolor</td>\n",
              "    </tr>\n",
              "    <tr>\n",
              "      <th>51</th>\n",
              "      <td>4.5</td>\n",
              "      <td>1.5</td>\n",
              "      <td>versicolor</td>\n",
              "    </tr>\n",
              "    <tr>\n",
              "      <th>52</th>\n",
              "      <td>4.9</td>\n",
              "      <td>1.5</td>\n",
              "      <td>versicolor</td>\n",
              "    </tr>\n",
              "    <tr>\n",
              "      <th>53</th>\n",
              "      <td>4.0</td>\n",
              "      <td>1.3</td>\n",
              "      <td>versicolor</td>\n",
              "    </tr>\n",
              "    <tr>\n",
              "      <th>54</th>\n",
              "      <td>4.6</td>\n",
              "      <td>1.5</td>\n",
              "      <td>versicolor</td>\n",
              "    </tr>\n",
              "  </tbody>\n",
              "</table>\n",
              "</div>"
            ],
            "text/plain": [
              "    petal_length  petal_width     species\n",
              "45           1.4          0.3      setosa\n",
              "46           1.6          0.2      setosa\n",
              "47           1.4          0.2      setosa\n",
              "48           1.5          0.2      setosa\n",
              "49           1.4          0.2      setosa\n",
              "50           4.7          1.4  versicolor\n",
              "51           4.5          1.5  versicolor\n",
              "52           4.9          1.5  versicolor\n",
              "53           4.0          1.3  versicolor\n",
              "54           4.6          1.5  versicolor"
            ]
          },
          "metadata": {
            "tags": []
          },
          "execution_count": 9
        }
      ]
    },
    {
      "cell_type": "code",
      "metadata": {
        "id": "OL0FRk6fzSFN"
      },
      "source": [
        "Df_Data=Data_2D.drop(['species'], axis=1)"
      ],
      "execution_count": null,
      "outputs": []
    },
    {
      "cell_type": "code",
      "metadata": {
        "id": "pER7Gwkp2xLx"
      },
      "source": [
        "mean_x1=np.mean(Data_2D['petal_length'].values) #overall mean for feature 1\n",
        "mean_x2=np.mean(Data_2D['petal_width'].values) #overall mean for feature 2"
      ],
      "execution_count": null,
      "outputs": []
    },
    {
      "cell_type": "code",
      "metadata": {
        "colab": {
          "base_uri": "https://localhost:8080/"
        },
        "id": "9YsQbS2j0Aub",
        "outputId": "997dbf88-9503-4400-9da1-d72f82dd09f5"
      },
      "source": [
        "print(mean_x1)\n",
        "print(mean_x2)"
      ],
      "execution_count": null,
      "outputs": [
        {
          "output_type": "stream",
          "text": [
            "3.0\n",
            "0.8300000000000001\n"
          ],
          "name": "stdout"
        }
      ]
    },
    {
      "cell_type": "markdown",
      "metadata": {
        "id": "mnkHEaeKpkc2"
      },
      "source": [
        "#Within class scatter matrix"
      ]
    },
    {
      "cell_type": "markdown",
      "metadata": {
        "id": "bxRklnnZyzar"
      },
      "source": [
        "![within class.jpg](data:image/jpeg;base64,/9j/4AAQSkZJRgABAQEAeAB4AAD/4QBsRXhpZgAATU0AKgAAAAgAAgEOAAIAAAA9AAAAJgESAAMAAAABAAEAAAAAAABIYXBweS1CaXJ0aGRheS1HcmVldGluZy1DYXJkcy1IRC1JbWFnZXMtQmlydGhkYXktV2lzaGVzLS5qcGcAAP/bAEMAAgEBAgEBAgICAgICAgIDBQMDAwMDBgQEAwUHBgcHBwYHBwgJCwkICAoIBwcKDQoKCwwMDAwHCQ4PDQwOCwwMDP/bAEMBAgICAwMDBgMDBgwIBwgMDAwMDAwMDAwMDAwMDAwMDAwMDAwMDAwMDAwMDAwMDAwMDAwMDAwMDAwMDAwMDAwMDP/AABEIAjUEfgMBIgACEQEDEQH/xAAfAAABBQEBAQEBAQAAAAAAAAAAAQIDBAUGBwgJCgv/xAC1EAACAQMDAgQDBQUEBAAAAX0BAgMABBEFEiExQQYTUWEHInEUMoGRoQgjQrHBFVLR8CQzYnKCCQoWFxgZGiUmJygpKjQ1Njc4OTpDREVGR0hJSlNUVVZXWFlaY2RlZmdoaWpzdHV2d3h5eoOEhYaHiImKkpOUlZaXmJmaoqOkpaanqKmqsrO0tba3uLm6wsPExcbHyMnK0tPU1dbX2Nna4eLj5OXm5+jp6vHy8/T19vf4+fr/xAAfAQADAQEBAQEBAQEBAAAAAAAAAQIDBAUGBwgJCgv/xAC1EQACAQIEBAMEBwUEBAABAncAAQIDEQQFITEGEkFRB2FxEyIygQgUQpGhscEJIzNS8BVictEKFiQ04SXxFxgZGiYnKCkqNTY3ODk6Q0RFRkdISUpTVFVWV1hZWmNkZWZnaGlqc3R1dnd4eXqCg4SFhoeIiYqSk5SVlpeYmZqio6Slpqeoqaqys7S1tre4ubrCw8TFxsfIycrS09TV1tfY2dri4+Tl5ufo6ery8/T19vf4+fr/2gAMAwEAAhEDEQA/AP38ooooAKKKKACiiigAooooAKKKKACiiigAooooAKKKKACiiigAooooAKKKKACiiigAooooAKKKKACiiigAooooAKKKKACiiigAooooAKKKKACiiigAooooAKKKKACiiigAooooAKKKKACiiigAooooAKKKKACiiigAooooAKKKKACiiigAooooAKKKKACiiigAooooAKKKKACiiigAooooAKKKKACiiigAooooAKKKKACiiigAooooAKKKKACiiigAooooAKKKKACiiigAooooAKKKKACiiigAooooAKKKKACiiigAooooAKKKKACiiigAooooAKKKKACiiigAooooAKKKKACiiigAooooAKKKKACiiigAooooAKKKKACiiigAoor57/4KNf8ABSLwX/wTG+E2jeNPHmg+Mta0XWtWXRY28PWltcSQTtDLMvmCaeEBWWGTBBJyvSgD6Eorxf4+ft5eBf2dP2KpPj1rjapc+B10mx1iFLGKKS9u4rwwi3SNGkVGdjPHwXA6nOBmua/4Jv8A/BT/AOHf/BUL4e+IfEXw/sPFOlQ+GdRXTb201+2t7e6DNGJEkVYZplMbAsASwOUbjABIB9G0V8W+Dv8Agup8I/HviD472Wl+HfiLcwfs92N9f+Ir8WFl9lvktbhoGWzP2rdI0hR2TzFjBVSSVOAe9/Z8/wCCrvwl+Pn7Emo/tBS3eseB/hvpFzNa3t14kto4p7do5Ui5jt5Jt2+SRFRVJZmYALkgUAfStFeF6z/wUJ8B6X+wfdftFQW/iDUvh/b6S2txx29oi6hc2wk8sFIpJEUMx5Ad14PODxWr+wv+2p4V/wCCgf7OWlfE7wbp/iDTNB1i4ubaG31qCGG8VoJWicssUsqAFlJGHPGM46UAev0V5Z+2r+114b/YR/Zl8TfFbxdY65qXh3wr9l+12+jwxTXsn2i7htU8tZZI0OJJ0Jy4+UMRk4Bt/sh/tReH/wBtL9nHwv8AFDwtZ6xp+geLYJLizt9VijivI1SaSE+YsckiA7o2I2u3BH0AB6RRRRQAUUUUAFFfMPjz/grB8O/h5/wUR8P/ALM97ovjSXx54khjntr+C0tm0hFeCScb5DcCUHbEwOIjyR25H09QAUUUUAFFFFABRRRQAUUUUAFFFFABRWN8Q/iFonwm8Cax4n8SanaaL4f0C0kv9Qvrl9kNrBGpZ3Y+gAPTk9Bk1wv7Mn7ZXgL9rn4Dt8TPBuqTTeCRPeRJqV7A1msiWrsks218MseUYguFOBkgUAep0V5L+x/+258O/wBu3wZ4i8SfDPVpte8P+G9el8Ozag1q9vFdXMUFvO7QhwGaPbcIA5UZIbGRhj61QAUUUUAFFFFABRRRQAUUV5P+2N+238Nf2C/hOfGfxO8QR6DpEk4tLVFhe4udQuCrMIYYkBZmIVj2UAZYgc0AesUVT8Pa3F4l0Cx1GBZFh1C3juY1kADBXUMAcEjOD2JrB+Ofxd039n74JeMfHmswX11o/gnQ73X76GyRXuZYLWB55FiV2VTIVjIUMygkjJA5oA6qivDf+CfP7f8A4N/4KSfAeb4h+BtN8TaVosOqz6Q0Ou28EF0ZYkjdmCwzSrsIlXB3ZyDwO/uVABRRXz7/AMFC/wDgph8Mf+CZnw20vxH8R5tam/t25e10vTdIsxc32oOihpNgd0jVUDKSXdR8wAySBQB9BUV4L/wTx/4KJ+B/+CmHwX1Dx14B03xTpuj6bqsmjTx67aRW9wLhIopWAEUsqsoSaM5DfxY7GveqACiiigAorgv2lf2nPA37IPwh1Lx18RNft/DfhjSyqzXUqPIzuxwkaRoGeR2PAVQSfoDWx8GPitpfx3+D3hPxxoYuhonjLRrPXdPFzH5cwt7qBJ4t6gkK2x1yMnBzyaAOlooooAKKKKACiiigAorlfjn8XdN/Z++CXjHx5rMF9daP4J0O91++hskV7mWC1geeRYldlUyFYyFDMoJIyQOa83/4J8/t/wDg3/gpJ8B5viH4G03xNpWiw6rPpDQ67bwQXRliSN2YLDNKuwiVcHdnIPA7gHuVFFFABRRRQAUUUUAFFFFABRRRQAUUUUAFFFFABRRRQAUUUUAFFFFABRRRQAUUUUAFFFFABRRRQAUUUUAFFFFABRRRQAUUUUAFFFFABRRRQAUUUUAFFFFABRRRQAUUUUAFFFFABRRRQAUUUUAFFFFABRRRQAUUUUAFFFFABRRRQAUUUUAFFFFABRRRQAUUUUAFFFFABRRRQAUUUUAFFFFABRRRQAUUUUAFFFFABXxb/wAHBnwL/wCF7/8ABJ34pQxxl77wrbweJ7U7d3l/Y5lkmOP+vb7QMjGM56ZB+0qw/ib4Csfir8N/EHhfUl3ab4k0250u7GM5iniaJ/8Ax1jQB/Pt+1V+13qX7RH/AAQj/ZJ+DuiXEdx4s8aeIX8PT2ivlnj0qZrS1ibrhWNzZMCR1j46GvXP+CZeu2v/AARv/wCCmH7WnwlvLmc+GdI8HXPivSnvCcXaafB9ugzz8xNrdTAkHOYyOvT5Q/4IYfs0a98R/wDgrz4I8C+IWuJrH4L6tqfiC9tTlo7G4syE3KD93N4lqD7j1NfRf/B2T8J9R+EP7Vfw7+Kugy3Gn/8ACdeFr7wvqMsB+WUwho5Vf/rra33l4PVYuOQTQBuf8ETB4q/Z8/4I4ftXftDaPf8A9n+O9aa8l03VZLaKeQPYWplE+yRWjYGe7m+UqQShyOBXM/tP/tGftGft0f8ABu4fiR4g+IOj6lotj4juLXx7Dc6baWt1rdqNT0+PTY7dYLUIphuSHYq0JK9TJ92vsnw58C/+Gdv+DXfVPDz24t7y4+FV7rV2pXDia/jkvXD99y+fs56bAOgFfKf7NHw81z4qf8GlvxK0Xw7pd9rWrSa611HaWkLTTSRwazYXEpVVBJ2xRSMQOymgDY/Z98BfHrw7/wAG8nxX1b4ieNvDOvfCnVvh5A3gLRrGBEvtEjFy3mi4YWsRYtlMZmm6Hkd/LP2BviL+294E/wCCRsnjb4K6x4I8FfCf4V/2rql013bQ3eseJEjllubySNJ7eaMQxKSuN0TExNgt0HqP7Pn7fPh39or/AIN5/iv8JtN0HxNpuu/B/wCHyWmr3l9DGtjdyPdsAtuyuWYhQpYOqFS4GCPmPrH/AATI/wCVWX4lf9iV46/9FX1AHQ61/wAFcfih8Uv+DdjxJ+0Jot3Z+EfiroNxaaVJqFpZQXFu0y6zZ2skyQTrJGPNgmOVZSFZ224wpHKftKf8FP8A45+AP+DfL4R/HDSfHH2T4o+J9bis9T1r+xtPk+0xNNqClfs7QGBeIIhlYwfl68nPzP8As+/8qknxy/7He2/9Ouh1ufti/wDKqH8Bf+xkg/8ASjVaAOs/aL/4KCf8FDPhj+yX4S/aeuNa+H/h34W60tlJB4bi0+2vL2S2uFX7PdXe+33bJ8q2YJ0I81f3cY4H69fsaftAN+1X+yh8O/iRJYx6bN400C01aa0jfeltLLErSRq3Uqr7gM84AzzX5v8A/BTf/lVl+Gv/AGJXgX/0VY19i/8ABEf/AJRQfAz/ALFqP/0ZJQB5J/wW4/4Kp+Nv2K9X+HPwq+Duj2OsfGD4tXa22mSXkayxWEbzJbxbY2YK000zhELnYuxywPAryv4XfEn/AIKUfsqftR+A9J+J2n6D8evBPi6Qf2o/hvTbaFNBh3xrKWuUt7RYpkD7lWXekgVwpOCy5P8AwcW/s3fEHwr+0j8B/wBqHwT4XvPGtj8Ib+0k1rTbRHkkgFpfrfQSOqAsIXbzUeQD5Pkz1zVrwj/wcg+LP2wP2gPAvg39nL4D+IPFC6lMIPEjeJQbVbAsUAdZ7Z5khhjHms8sykkbcICMMAee/tQ/8ra/wq/7B9p/6bLuvqD45X37Z3xZ+P8A4+uF+InhH9kv4N+Fz5HhvWNV07RfEE/ipgXHmzebO4tkYJ5nzbGVXQbHYOR8v/tQ/wDK2v8ACr/sH2n/AKbLuvCPgz4y+Hek/wDBQ/46XX7enhrx1408e2128ngTQ7qw1DULa+IuJy9vaW8XyMjoLYQB8W4RXyQdtAH2l/wR1/4LPfET9pn9kX9ofXviTZaX4s8Sfs/6UdZjvtIhW3/4SOI219MsWyMBA+6xcB0VQwlT5QQSfBv2Y/2wv+CiH/BRv4eal8SvhV8Xvgvp0MFzMsPgGOPTV1R/LfBUR3FrK6KQeGnuU3KAQecmn/wbB+K7r4QeIf2vtLuvBmrXXiuxttOvk8FRwxwahcfZX1RJbNY5iiK6vPFGVfaAWAx2r59/ad/aD/Yv+IMviZb79mH42fBL4yBphpFl4cu0tYFufmELywzOgtz5n3kitjjbgEmgD9UP21f+Cg/x9/4J/wD/AASVj+InxE8KeC1+NU2oQaGyaXLJdaRaNMz7LyVMj5vLQgxq5TzWXnadg+d/gR4z/wCCnHxI8MeE/iF4R+LHwL+K+g+IPJuJ9DtZNMaLSopE8wC7eK2gYYA2FYbiRwT0OCRt/sTfEn4yfBz/AIIfaxqX7RXwb8c/HqxvNYeHTvC+pQC61VdCMUXlz3SXAabyUnRyhEbyxqyOAI1Vl/OT44fFT9nn4hw6XN+yp8J/2hvhf+0FJdRFbDSdUe5sbNy6+dHEUlkvHOeF2pCAcZUD5aAP6ePCdxqd34W02XWra0s9YktYnv7e1mM0EFwUBkSN2VS6BsgMVBIAOB0r8yf+CxX/AAU6+Nvwt/bs8A/s6/BfXfBPw31LxVpCapP4v8ViFLVXka5Cxh50khSMC3xkxuzyOqKBj5/vj9iy2+IFn+yT8OYvipJ5vxGj8P2i+IWJUubzyl8zeU+UyZ++V+UtuxxivhP/AILyftDfCHwF4z8M6D8dP2W/F/xN8HNbGWPxzpsi2/8AZSMG8yK3niZX8xWCloZZYVbhvmABIB3H/BPm2/b/APCH7RcOn/G7W/hX8SfhTdQF5vEmmz21vLzGzRtZi2t4Wkw+1WWaFQQSVcYyfH/2l/8AgpR+03+2l/wUc8Xfs6/sm3vhTwbD8N1mXXvFGtW0VxmaB0iuNxlinVIlmcQqiQPIzBmJC8J8i/8ABMzVrjxb/wAFUvAM37F+kfG7w58F0uLeTxvbeK7pZNO+zeaxu/METvCAYcLEHkeUygEEdB6f4q+IHiD/AIIK/wDBZ34v/Fbx14D8UeJvhH8ZXv7u31vRrcSeUb28S9Ko0jJF5scweNoXdGKlXBxjcAfaf/BLP49ftkf8Lf8AHfw+/aT8Bya5p3hm3lk0zxxptlb2EGq3EbJiGP8A1Mc6Sq2UkSNNpUh8ZJTx34//ABU/bo8L/Ab4o/GPx58YPAX7NK+FlvL/AMNfDibSdE1ptctreLzVjN+0kpE0uDEipuZ5AfkjDLXVfsif8FdPjx/wUlv/AIyf8K3+DTeHfAen+F9Rn8GeJtTMkF02pC0Is4HB3wXEslx8xWNlWOPGWYgF/wA1/wBl3UPg/rn7KPxu0n4w+BPiN8SP20NcbUdI0Kw1bS9S1TUrc3FoIbe5UMDHG0E8kkrtN+9BVSmeAAD7M+Kf7aXxv/4Kd/8ABvF4o8eaPqfhfwnr/h/UL+w8fM0AEPiHRLeyla4jt0aGbyppWntTgGPBikxIgIU+O/8ABK/4O/ti+If+CTHjDVvh78VvAOg/Cm60HVo9F0a+tInvrO5TUI3vnkY6fKSsltHfIuZnw00fCYDJ3H/BHnS7n4wf8G4H7RnhHw1bzax4mWbxBEum2yF7mV5NNtnjVEHLFwCFAyWYEDJ4roP+DfD9srTfiL+w/wCKv2WrPwv4st/iB4d8OeI9Rmuri2jj0+VpptsVsrb/ADBcE3JyjooAhY7j0AB5T/wbk+LvjF+z7+zN46+MEnjTw/a/sx+AdQ1u/wDFPhb7OjazqOpQ6RbSLLA5tWbaQbRQPtKDMbfJyS3cfDb9uD/gov8Att/ArxV+0V8NtW+H3hX4Z+H5rqa08JvY2s1xqtvbAmYQtNbvJJsCsGZp4S7KwRegryT/AIIyfE+3+I37GHxk/Ya1Hwv4t0n4ofEy61vU7G7u7QW+n6ZINIg8uK73MJon86xUY8sgiTqCMHxD9n/Uf2a/2S/hzrHw9/ab/ZP+JHiD45aPe3EVk0Gt6hpsWr5b91HKqXUYiAJ2iSCGYOu1huzyAfpF8Vv+C1vjr40/8EF9X+P3gK7tvAvxM0HXrTw7qr21pBe29tdC5txL5Udyki7JIJ43AcMU8zGSV3HrP+CRfxG/bb/bNvfh38Y/iB8QPBWk/BLUtNaKfw7FpNuNY194Imt/thK2o8nz7lGmO2dVC8JEFKmvBP23PhP4B+Hn/Buf401b4f8AwV8U/AjTfGHiPStUn8O6/qVzfXUz/araNbkG4mkkVHVFChhGSFDbAGBP6Df8ER/+UUHwM/7FqP8A9GSUAd5/wUf+LfiH4C/sGfFzxp4T1D+yfE3hjwve6jpl55Ec/wBmnjiLI+yVWRsEdGUg9wa/In4Yf8FDv+Chn7RX/BOnVPjd4c8Z+BdF8J/DFbw6xq1zpViNY8VeVI0srpAbV7ZUhiljjwiwlvJJy7k1+qf/AAV+/wCUXfx6/wCxK1H/ANEtX50/8E7P+VV34yf9g/xN/wCgigDJ0v8A4Kdft4/trfsLat8cPhofh78O/B/wr0+c+I7pbeK6v/E89pH513Nbw3MMyRxJCyMUynzLJtduEX7D/Yq/4KP/ABm/bN/4JCN8UfBHgLSPGXxuimn0KLSobyCw0+5vIpVT7XJ580aoghdZWjDgswKrtVgV+cf+CUX/ACq//Gz/ALFrxv8A+m+avmr9m27+LNn/AMGyviZ/hG3iBNQ/4WfONffRDKL9NI+yw+cUMXzhfN+zh9v/ACzMmfl3UAe7ft2ftq/tjf8ABML4R/D34ieNP2hvh74w8UeItRhttd+FjeF9KhbRfMgknZRcW58+eKPyvKeVSgDyJhnDA1w//B0H4j+JXxj+APwL+JB1fSbP4N+LdK028t/DO1X1C012e2urmS4MnkAtD9lkiiA87G5CfKH3j8t/tpXH7N/iX/gmH8O7f4GeAfEl98RtNnsNX+Jfi650m8c6XKLeS2mtri8mHljz7y6iZVgPlny0zhtor7O/4Li+GtR+NH/BB79mHxJ4VsLzXtH0a20S5v7izhaUWUR0V4zJIFBKKsg2MxwFYgHBIoA0P27f2rv2y/8AgmX/AMEw/AOr+Kvi94ZvviD4i8bfZ7PVNE0axuIYtBbSUeC0dJ7CNBIs8UrlhGWwyjzGHyj3D4QfEb9tux/ZT+MX7QHxR+IHgrRfCt58K9Y8WeC/CWlaTby33h29+wvdWbzNJajIiRQxSSWfczAOBgrXxf8A8Fpf2+/DP/BQz/gkh8K/FHhfRPEmg2fh3x8nh+aHWoY45biWLRi7zReW7q0JaVkVsgkxNlV6V+rf7TP/AChL+IH/AGRDUf8A0wyUAfKX7An7Tf7VH/BQP/gjL4u8ceGfihNF8cNE8S3o0m8Xw/pPl6rBbwW7/wBntC1t5K7/ADH2yBQwfZltuRXzbov/AAcLftA/tI/Af4X/AAZ+HFvdWX7UGteIpNF13WZtFtfLaKMjZILeSJoY3cM3nExARC1lYKoZdva/8Ed/2+/D/wDwTh/4IGeLfiHrH2a71VPGupWXh/SpJNraxqL21r5UPHOwYaRyORHG5HOAfkzwz8E/2iP2C/C3w7/4KBXv/EwvfF3ie51PW9Pkh8txZ3rZSS42nCw3oknUYUeVutyDudQoB/R58E/CviTwR8JfD+k+MPFE3jTxTY2SR6rrclnBZnUrnGZJBDAiRxpuJCqqjChcljlj+Gf/AAdY+DvirH+1x8K7zWvEmg3ngDWpLqLwHpiQr9o0W4RNNW/e5PkAssszQMoaSbCo3Cfdb9tv2Xv2kvC/7XnwD8MfEbwbeC98P+KLJbqAn/WW79JIJB/DJG4ZGHZlPUYNfk7/AMHa3/JSv2UP+wnrv/o3RqAPRv2yv+CkP7RP/BMv9mj4XfCjxBf+Efil+1V8UNSuILfUNNtFXTre2a5ENqVhW3tVkmcvHCimNVzG5bcAN3n/AMbP22v+CgP/AASUk8KfEP4/al4D+Kvwz1/UYrLU7HSbW2hm0hnDv5Hmw21uY5SiPtc+fESgBbLDPcf8HE37KvxIsf2gPgd+058OfC9542b4P31tLq2lWkbSzRra3yXtvL5aAu0RfzEkZQSgKEjGSPA/+Ch3/BU/WP8Aguv8LPDXwA+Avwh8d/21qutWt74hudXhiWHTWiD4j8yN3VIg7bmnmMeBGRsy3AB7v/wW+/4K6/FX9l7xv+zX4g+BfiKObwr8TNOOuyaW+l2t0niWBpLOS3iLyRPLGJI5imYXRv3mQcgEfYX/AATU+G37Vng2y8Uah+058RPBvi241Y28uhaVoFhDEuiKQ7TJLKltBvYFkQDMoGxj5jZr8yP+C8Xwf/4Z6+KX7BPgEXf9of8ACD6VZ+H/ALVjb9p+yTaZB5mO27y8/jX7uUAfk/8A8HYXhj4nXv7Ieg6toviLR7P4VWN/HD4k0aWJTfahfPKv2OWJvJYhI8S7gJkzuHyv2+f/ABV8a/25P+Ce3/BJr4UfFb/hb3he88EyReHYNC0fTdEsbmSx0G400Pbw3bTaejKyBIIiyySMTKfnYgNX3L/wctfDjXviV/wSq8SweH9I1DWrjTdZ03ULiCygaeWOBJtrybFBJVd4LEDgZJwASPJv2MfjJ4Z/4LE/8ERPFnwQ8P8AhzxBY618O/h3pHhl5tUt4vs99q9tZn7NJbFHYtGJ7GNssEYb8beMkA43/gvD/wAFqviR8AoPgda/ALxWPD1x488Jt431GSPS7PU3n064RGsyBcQyqqgR3TFlAyFyTgV0/wDwUe/4K1/FDUfhD+yHo/wG8UR+HviF+0OlnfXdxHpVrqBto5kt4PJaO4jkQA3NxJkqAR9lYbgPvfE3/BBf9mDVP+Ck/wAWPiZH42m+2ab4D+FM3gPTHnjIGmvfLNb2nPVfLjF2RgZyPY5vf8G5/wAIvFP7Sn/BSLwtN4yWebS/2ZfDN7a2kM+f9DmkvLoQ27cnLLNfXci9ABbqOigEA+vvjp/wUt/ad/bV/b38T/s9/sl6h4a0G3+GSPa+IfGuuWkMv2i4gdIbiV98MsUcYn3RqkUDs5VnGF4To/2C/wDgqH8fPgx/wUKh/Za/awh8Pal4n162E/h7xTpUMcCXrmN5EDCJEjeOURuisIomWRCrKd3y/O9p438Uf8G+f/BVz4weOvG/w88VeKPgz8Xbi6urPXdGhWVrdJrs3SKHdliMsbO8TxSPGzfK4OMbun/ZYu/G3/Bar/gtR4N/aS0/wP4g8E/Bz4VabFa6fqGqwqkmpCH7TJFEpHySSPcXUjMIy6xxrgtuK5AP2nubmOzt5JppEihiUu7u21UUckknoB61+NXw9/4KFftsf8FfvjB8Qrz9l3XvA/wv+GXgW7+y2l1rVnby3Gqht/lB2mtrk+dIqF9qIkcYZVZyfmb9jdf0aHxHoV7p9xvFvfwPbyFDhgrqVOD64Nfgd/wT8/bN1L/g3I+IXxb+Ffxw+G3jTUNO1rU47zQta0a2jMOpmJJI1kRpnjjkhlQxsGRi8ZDqyFsqoB9ofDT9of8AaM+Of/BH39p+3/aO+G934N8TeH/AHiCCx1aS0SxXxBE2l3m5jbhiySRsgywRI3WRCoyGryH/AIIReOfit8P/APghf4svvgn4JtvHnxKl8bX9tpGn3V9bWdrAzw2Ya5laeWJWSNctsDhnbaOASw9S+G37fXxg/wCCgf8AwSp/at8UfEL4T2/w68M2vw/8QR+HL3fcQzazG2m3hOIZlO5Y0EYMyuFZ2IVeDt+A/gvdfF60/wCDanUG+E7eIFRvirdL4pbQjKL5dK+xRbuY/m8nzvJEmP4SM/JvoA+jP26v27f2vP8AglZ4a+G/jTxn+0J8PviVrXiK7SPxD8Nv+EY0y1OisYvNeMT23+kSxqQ0XnZQBipw+a9u/wCCx/8AwVr+KHwCf4D+D/hC3hnwbrnxutItQbxL4laI2ejRyGFUjLzDyV2mbdJJIrBVC4X5sj8t/wBv+f8AZt8Sf8E/fhlH+z14D8RXHiHTGttR+IPi260i8P2O4aDyWtLi8nGwySXEu4JAfK+QY5wB+nP/AAUd/ag+GPhz9hD4DyfET9m7Xvj58N9e8M6Zep4h09xFb6CHtoQ+24j/AH8MzR4YDMSyY2+ZlW2AHRfsb2n/AAUa8HftFeG/+FgeL/g38YvhPqhjl1PW9PntLeGG3Zir/ZXt7W3madAu4BoXibO3cCcp5l+3N/wUx/aS+K//AAVK8S/s3/A3xt8N/gzD4Qs4pTrXi8W8Z1iRobeVgrXEM65PngRxxRFmRHcnHC/D/wABPEek+Nf28vho/wDwT78O/HrwnG2pq3imHxBdpJpYhEkJPnLFLKgtljEvmfaJG3bowoDYz9n/APBa39pP9nfTP2opvD/7RX7J/wAQtS0+ztVitPiLo8qWt1fx/KYhA8ckaTxgll2zT7ozkeWCTgA+sf8AgmL/AMNtaD4/8Q6P+0w3w98ReE7eBv7L8RaXPBFfXc4ZApSK2jSNrd0Ln95HFIpA4IOK+PfBH/BQ79tX/grf8Z/iNefss614J+Hfwz+Ht19mtbjWLS3km1zO8xKzz29wfOlVC+1VjSMMgZ8nc3nf/BB+x8V+O/8AgoZ4gj+Ctl8XNL/ZDudKuoNRs/GV15kR32hSMIUPkC4NyQwERZ1h3BmIyT8y/D/4G/Bb/gmD8aviD4B/bJ/Z+8deOEivv+KU8RaNqF3ZxXcC7wGjCXVtDNFKvlvvDs8ZDKy5BVQD9If2Qf8AgvJ448Xf8E/f2gPEPj7wjp83xn/Z3iWHULG3UxWupvLI1vFNIiMdvlTxyecsbbdqAqV3YXyL9mv4/wD/AAUm/bI+EWnfFf4b/GD4K+IrHUpvN/4Qe2XSlv7OMymMidXtcxKv3ir3YlwBwSdp9c/4JgwfCXwV+x18Vvi38Nf2K/iN4WW80xNPvPDlzq0+tf8ACcWe4mSO2iv5j5saKSXxCN4JRPNYFK/OD9o/43/sj/Efw5qjfD34A/HL4NftCebJ/ZOn6Dqe7TrW7BIjLK8nnL8oy0cNvGQcgH+IgH9IP7PWoeOtU+Cnhu4+Jmn6DpXj6SzX+27XRLh59PjuASD5LON20gBsHO0krubG4+M/8FXf+GjP+GX7f/hl3/kpX9uW3mf8gz/jw8ubzv8AkI/uPv8AldPn9OM1V/4I023xhtf+Cd/gNfjlJq8njxo53b+1yTqi2ZmY2wui3zed5W3O/wCcDaH+cNVr/gq7/wAFFP8Ah2H+y/b/ABI/4Q//AITjztcttG/s7+1v7N2+dHM/meb5M3TysbdnO7qMcgHsH7Mv/Caf8M3fD3/hY/8AyUP/AIRrTv8AhKP9R/yFfssf2z/Ufuf9f5n+q/d/3flxXcVw/wCzL8Zf+Gi/2bvh78Qv7N/sf/hO/DWneIvsH2j7R9h+12sdx5PmbU8zZ5m3dtXdjO0ZwO4oAKKKKACiiigAooooAKKKKACiiigAooooAKKKKACiiigAooooAKKKKACiiigAooooAKKKKACiiigAooooAKKKKACiiigAooooAKKKKACiiigAooooAKKKKACiiigAooooAKKKKACiiigAooooAKKKKACiiigAooooAKKKKACiiigAooooAKKKKACiiigAooooAKKKKACiiigAooooAKKKKACiiigAooooAKKKKACiiigAooooAKKKKACiiigAooooAKKKKACiiigAooooAKKKKACiiigAooooAKKKKACiiigAooooAKKKKACiiigAooooAKKKKACiiigAooooAKKKKACiiigAooooAKKKKACiiigAooooAKKKKACiiigAooooAKKKKACiiigAooooAKKKKACiiigAooooAKKKKACiiigAooooAKKKKACiiigAooooAKKKKACiiigAooooAKKKKACiiigAooooAKKKKACiiigAooooAKKKKACiiigAooooAKKKKACiiigAooooAKKKKACiiigAooooAKKKKACiiigAooooAKKKKACiiigAooooAKKKKACiiigAooooAKKKKACiiigAooooAKKKKACiiigAooooAKKKKACiiigAooooAKKKKACiiigAooooAKKKKACiiigAooooAKKKKACiiigAooooAKKKKACiiigAooooAKKKKACiiigAooooAKKKKACiiigAooooAKKKKACiiigAooooAKKKKACiiigAooooAKKKKACiiigAooooAKKKKACiiigAooooAKKKKACiiigAooooAKKKKACiiigAooooAKKKKACiiigAooooAKKKKACiiigAooooAKKKKACiiigAooooAKKKKACiiigAooooAKKKKACiiigAooooAKKKKACiiigAooooAKKKKACiiigAooooAKKKKACiiigAooooAKKKKACiiigAooooAKKKKACiiigAooooAKKKKACiiigAooooAKKKKACiiigAooooAKKKKACiiigAooooAKKKKACiiigAooooAKKKKACiiigAooooAKKKKACiiigAooooAKKKKACiiigAooooAKKKKACiiigAooooAKKKKACiiigAooooAKKKKACiiigAooooAKKKKACiiigAooooAKKKKACiiigAooooAKKKKACiiigAooooAKKKKACiiigAooooAKKKKACiiigAooooAKKKKACiiigAooooAKKKKACiiigAooooAKKKKACiiigAooooAKKKKACiiigAooooAKKKKACiiigAooooAKKKKACiiigAooooAKKKKACiiigAooooAKKKKACiiigAooooAKKKKACiiigAooooAKKKKACiiigAooooAKKKKACiiigAooooAKKKKACiiigAooooAKKKKACiiigAooooAKKKKACiiigAooooAKKKKACiiigAooooAKKKKACiiigAooooAKKKKACiiigAooooAKKKKACiiigAooooAKKKKACiiigAooooAKKKKACiiigAooooAKKKKACiiigAooooAKKKKACiiigAooooAKKKKACiiigAooooAKKKKACiiigAooooAKKKKACiiigAooooAKKKKACiiigAooooAKKKKACiiigAooooAKKKKACiiigAooooAKKKKACiiigAooooAKKKKACiiigAooooAKKKKACiiigAooooAKKKKACiiigAooooAKKKKACiiigAooooAKKKKACiiigAooooAKKKKACiiigAooooAKKKKACiiigAooooAKKKKACiiigAooooAKKKKACiiigAooooAKKKKACiiigAooooAKKKKACiiigAooooAKKKKACiiigAooooAKKKKACiiigAooooAKKKKACiiigAooooAKKKKACiiigAooooAKKKKACiiigAooooAKKKKACiiigAooooAKKKKACiiigAooooAKKKKACiiigAooooAKKKKACiiigAooooAKKKKACiiigAooooAKKKKACiiigAooooAKKKKACiiigAooooAKKKKACiiigAooooAKKKKACiiigAooooAKKKKACiiigAooooAKKKKACiiigAooooAKKKKACiiigAooooAKKKKACiiigAooooAKKKKACiiigAooooAKKKKACiiigAooooAKKKKACiiigAooooAKKKKACiiigAooooAKKKKACiiigAooooAKKKKACiiigAooooAKKKKACiiigAooooAKKKKACiiigAooooAKKKKACiiigAooooAKKKKACiiigAooooAKKKKACiiigAooooAKKKKACiiigAooooAKKKKACiiigAooooAKKKKACiiigAooooAKKKKACiiigAooooAKKKKACiiigAooooAKKKKACiiigAooooAKKKKACiiigAooooAKKKKACiiigAooooAKKKKACiiigAooooAKKKKACiiigAooooAKKKKACiiigAooooAKKKKACiiigAooooAKKKKACivFv26f27/A//AAT9+D0fi3xpLeTtqN7Fpej6VYRedf61eynEdvBH/EzHv0A5NeSar/wUY+Lnwx8Pf8JV4+/Zl8baL4HWL7Tc3emapaapqOmQYyZJ7SJt/wAq8sE3EVPMtX0WjfRPffbbX0aK5Xour2XX7tz7EorwP/gm/wDt/wDh3/gpV+zrJ8TPCml6jpegya1e6VaJfALNOluwUSlR93fnO08jvXvlaSi46S8n96uQpJ7ea+7QKKKKkYUUUUAFFFFABRXzP+1x/wAFLNH/AGePjp4b+EfhbwtrfxN+L3iu1fULPw1pDxxm0tFyDdXU0hCQxZB5PJwcCvJf2kf+Cz2vfsJfDPUvEXx0+A3jfwjawx7dPvdKuoNY06+uW4jt3niP7lmPdwF96nmVubpt6taWXd30066blcr5uXr/AJ9+2muvTXY+8qKw/hj41T4k/Dfw/wCIo4GtY9e0231FYWO5ohLGsgUnvjditytJRcZOMt0ZwkpRUo7MKKKKkoKKgttTtr25uIYbiGWa1YLNGjhmhJGQGHbI55qegAoqrrmt2nhrRrrUNQuIbOxsYXuLieVtqQxqCzMx7AAE18YfDT/grB4w/av0/UvEXwH+BniL4ifD3TbyWyj8SXerWukw6y0TFZGs45W3yqGBG4gAnpS5rvlXr6Lu+w7aXfp8z7Zor45/Zp/4LF+HP2kP22Y/gL/wgXjbwf46sdBn1rXLTXrZbc6U0boqxAgkS7wxYOhK4HWvsar5XyqXR7eerX5pk82rj1W/lon+TQUUUVIwooooAKKKKACvjD/gp9/wW9+Gv/BKDxn4c0n4i+G/HF5H4otXubK/0uwWW0JRtrRF2YDzBwdvoQa+z6+cf+Cpf/BOXwn/AMFPP2Std+HPiOOK31CRDdaFqmzMmk3yg+XKp67SflYd1JrGtKcY80NbbruvLz6r7uprRUHLlnpfr2f+Xc8x+H//AAWek+K3gjS/Enhv9nP9oDWtB1u2S7sL+00GOSG6iYZV1YSYINbH/D17xB/0a/8AtHf+E6n/AMcr8w/+DeT/AIKN+LP+Ccf7VGufsU/tBSzaRHb6m9r4Zur1yI9PuyeIFduPs84w0Z6Bj23V/QBXXUjHlVSk7wlqn+j81/wepzQlJSdOorSjuv19H/wOh8U+JP8AgsVqnhSza4u/2W/2mfJjG5mh8KCXaPU7XrxHV/8Ag66+Bfgvx9YeHfFngP4weDby9u47Vm1rQfsq25Zgu9tzZ2jOSRngV+oleV/tX/sVfDH9tr4a33hX4leEdI8SafeRNEss8C/arQkHDwy43xsM5BB6+tYczTulfy2v8zayejdvPf8AA9N0zUoNZ023vLWVJ7W6iWaGRDlZEYAqwPoQQanryX9ib4PeJP2eP2fdK8A+ItQbWl8Gs+k6Rqckm+bUNNjx9leX0kWMiNvUx57161WlTl5vc26enn59zOnzcvv79fXy8uwUVyfxy+NGg/s8/CbXfGfia6Fpovh+1a6uH6s+Puog/idmwqgckkCs/wDZx8ReMPGnwxtdc8bWNro+qa2xvYNKhB3aVbPgxQSt/FMFwXIwAxIHSpjre3T9dv1+4p6Wv1/Tf9PvO8ooooAKKKKACiiigAooooAKKKKACiiigAooYZHp71418Hf2htSb48+IPhX42jtLbxVYQHWNFuoFKQa9pbPt8xFPSWFiEkUE9VYcHgWr5euv4f8AA19E30B6Lm/rX/g6erR7LRVbWdYtfD2kXV/fTx2tnZRNPPNI21IkUEsxPYAAmvKf2Svjlrv7TOh6j45azh03wJq0pTwpC8ZF5f2qEqb2Un7qykZjTGdgDH72KI6tpdP6/Hp6PomD0V3/AF/X9bo9fooooAKKKKACiiigAooooAKKKKACiiigAoorxnWv2hdS+Ev7UGl+C/GCWi+HfH25fCerRKUC3kabpLCfPHmMoLxsPvAMuMgZFq1Hv/X/AA33b2DZOXb+v+H+/a56T8R/if4d+EHhSbXPFOtab4f0e2ZUlvL6dYYUZiFUFm4ySQAO5rz+b9vn4L297b20nxM8Hx3N0CYIW1BBJMB12r1bHtWz8cv2dNJ/aC1zwifEXk32heF9S/tZ9JngWWC/uEQiBpAeCI2beAQQWA9K+LfCng/Sf2k/+DhDXJo9L01/D/7PPw9jskRLZPJXU9TkyeAMbhArfTFFO8qig+vN8kot3+bVvmgqe7BzXS33uSjb5J3+8+5Phb+0N4H+Nt7qFt4R8VaJ4iuNK2m8isblZXtd2du9RyucHGeuK7KvPfh/+zlonw5+OXjDxxp0Fna3ni6ysbKeG3tEhCC184hiV+8W83uONor0Kjog1uwopHdY0ZmIVVGST0AqKw1C31WyjubWaK4t5lDxyxOGRwe4I4IoAmooooAK/OD4n/8ABzH8Ivhd+1lqnwVuvAPxUuvHum6u2jR2MWlxg3swbCGLc4LK/BU9wR61+j9fkb/wc5/8Ecrr9qP4axfH74V2ctt8WfhzCLi9SxGy41myiO/cpXkzQ43KepGR6VjUqezlGc/g+1bdLv8ALr9/Q2p0+dOEfi6dr9vn/wADqfV5/wCCrviAH/k179o7/wAJ1P8A45SH/gq/r4H/ACa9+0d/4Tif/HK8n/4N1v8Agsda/wDBS39mlfDHiy8ji+L/AMP4EtdZgkO2TVYB8qXijuTjDjs3Pev0crrrU3TlbddH3Xf+vQ5aNTnjfr1XZ9v69T4N+Iv/AAXRj+E2nyXniD9mf9prT7OIEvcN4RLRKPqrmo/2B/8Ag4g+Cf8AwUD/AGmI/hP4e0vxl4Z8W3FpNdW8Ov2K2onMQy8Y+YnftycEchTX3tXy1+2j/wAExPBvx98V6F8TPCej6X4X+NXgW+j1fQPENnCtvJcyxtk290VA8yKVdyNuyQGzWUJJTXPrHrbdefnbe3XY0lFuLUNJdL7Pyfa+1+h9S0VX0me4udLtpLuFbe6kiVpog24ROQNyg98HIz3qxQ9HYSd1cKK8j/as/aRn+Ctr4d8P+HrOHWPiB48vv7M8O6dI2Iy4UtLcy45EEMYLufYDqRXqHh+3vLTQrOPUbiO61COFFuZo4/LSWTA3Mq9gTnAojqr+dv69NPv9RvR2+f8AX4/cXKKKKACiiigAooooAKKKKACiiigAooooAKK5/wCKUfiKTwDqR8Jy2EXiKOLzLH7aha3lkXnY+DkBsbcjpnPaua/Ze/aK0/8AaY+F6a5a28mm6lY3Mumazpcx/faTfwttmgf6NyD/ABKVPeha3S6f1f8ArbTugeln3/r+vR9j0WivN/2pf2jtP/Zk+Fza5c20uqapfXMWl6LpUB/f6tfzNshgT6sck/wqCT0rqPhZH4jj8AaYfF0unyeI5IRJfCxQrbxSNyY0zyQuduT1xnjNEdU2umnz3t91r9rrugell3/r+vR9mdBRRRQAUUUUAFFFFABRRRQAUUUUAFFFFABRVfV4bi50u4js5lt7p42WGVk3rG+OCR3APavKf2YP2jLr4p6n4m8H+KLW30v4h+A7lLbWbSEnybqKQFoL2DPJhlUZ/wBlgynpQtXb5/1/X6g9Ff8Ar+v67HUfE39pLwD8Gdbs9N8VeLtB0HUdQjaa2tby6WOadFOCyr1IB4z0rl7f9vv4K3clykPxO8HyvZnbcKmoIxgPXDgfd/GpNV+APhfwj8U/GXxY8Rx2OsanJpqQW897ao/9jWNujO0UZbOAzlnYjBPA7V8n/wDBA74T2HxG/ZZ+IPxa1rR9Olvvjl431fX0M1ojgWQmaC3UAj7u1GIHTDUqd5XXVRv83JJL5q7/AO3X6lTskn3aX/krbfyaS+aPvLwH4/0T4o+E7PXvDmq2Ot6LqCF7a9s5hLDOoJGVYcHkEfhWxXEfs5/A/T/2cPg5o/g3S2jax0jzvLKQiFf3kzynCDhQC5AA7Cu3q5WvpsRG9tQoooqRhRRRQAUUUUAFFFFABRRRQAUUUUAFFFFABRRRQAUUUUAFFFFABRRRQAUUUUAflT/wdN/ss/Ff4pfBD4XfFT4TWN5rWsfBPxCdduNOtYjNNswpW4WMff8ALZBkDnaxNfOHwC/4PQLO0Wz0X41/BrVNLutog1C80ibK9MM32eUKwzydoJ9K/Qn/AIKdf8FMj/wT2/a8/Zzs9evms/hx4/vdV0/xGUtTM8RW3X7PNwCwSORgWwPu5Patn9qTwX+xn+1P8B9e1zxv/wAKd1rQLiwmlm1hZbRLiMFCd6ypiTeOo757VjCUoUpTVpQu3Z9Gkk/vSX+fbWSjOcYvSVkrrqru33O/9b7v/BHnw58I9K/Y6XVvgh4gfxB4A8Za/qXiS2LoI206W7m8yW0KD7nlN8u08gY9q+pq/JP/AINevBt9+yJ/wTX+I3jDxIurWfgLVPFd5qnhlLqJ/tFxp6ARpMkeM/vSFxgfMRX294a/4KY+C7/4VfGLxTrWnax4dj+B9w9t4mtblUkkidbdbgKjISrMUdQVByrHB5rqxDhB6aKMYvXdK0dH/huk+vcwoqct9W5NXWzd3qvW1+3Y+jqK8T039t/RdQ+LPwl8Jnw74mgk+MGgTa9pd7Ja7bazEUCTm3nOcpMUfO3/AGTXtlTKLjo/Nfc7P8UEZKSuvJ/ero8P+PX/AAUH+Hf7N3j1vDfib/hK/wC0lgS5/wBA8O3l9DsbOP3kUbLng8ZyK4v/AIfB/Bv/AKn7/wAI7Uf/AI1XbfHnxp+0BoXjxoPhz4H+Hev+HPIRhdaz4gnsrrzedy+WkLDaOMHPOa4v/hZn7Xn/AESz4N/+Fddf/I9Zxba1NJaPQ6b4Nf8ABST4afHf4iWHhfQP+Ew/tTUt3k/bPDV7aQ/KpY7pJIwq8A9TXvleC/Bzx1+0drHxDsbfx14A+Gei+GJN32u80vxHcXV1F8p27I2hUNlsA5I4r3qtHayM1e5+D3/BbDW/j3/wSk/4LFWf7WvgPwvN408E+JtAh0W9VoHmt7cIuyS1lKAtFuwsiPjGS1Tw/wDB0D8Bf+ClPwl1z4IfHbwT4g+Gum+P7T+ybjV4XS+tbCRyAsxyA6bGwwYjgjNfbmif8FZ/DPgv/gqv8bPgH8XNe0rS/DdlY6TdeGJdRgVLFfNt91xbzSkbdzsysu/AIUgV4D/wcVfs2fsp+OP2BfEmtaLpfw/h+Kl09uvhGTwwsA1LU715VVIVjg5kVwTuyOBzniuWMuTDx5lzwd7LrrJ3St1u3Zf0+mzlXbi+Satr00irPXpa12fq18INA0/wp8J/DGl6TfDUtL03SrW1s7sMGF1CkSqkmRwdygHjjmuginSdSY2VwDglTnB9K+Z/2Kf2btc0f/gmT8JfAfjrUNe03xBofhexj1FrG9a3uo5UiB8ppBk/KMKR/s1wf/BArWL7Wv2B5pNR1DUNUuIfG3iK3Fxe3DXEzImpTIoLsSThQB+FehWj+/qQvflu79/eS/U4cO/9npySteyt291v9D7WpNwHcUtfOXjX/gl98O/Hvi/U9bvta+JUd5q1y91Mlt4uvYYVdzkhEV8KvPAHArm1udGljK/Ytnkb9t/9qxXkdkTxDogQM2Qv/Epj6DtX1EGzX5r/ALJ3/BNH4e+Kv2vv2ktLuNX+I8dvoOuaRDbtF4tvI5JA+mRufMcNlzk8Fs4HFfZ37On7GfhT9mDWNRvvDuoeL7yXVIlhmXWNduNRRQpyCqysQp9xVRtyQv8Ayx/9JRDvd27v8zQ/bH+D2oftB/spfETwPpN59h1PxV4fvdMtZ87RHLLCyLk+mSM1/PP+wd/wXi+NP/BC/wACn9n34wfBm91TSPBd7PFZuxeyurZHkZ2VHKmOWMszMrZ6NX7/AH/BQz4va38Af2Hvin418N3Edrr3hfw3eajYTPGJFjmjiLKSp4PI6GvE/wBjv9ur9nv/AIKbfst+EdW8WXXgHVfEF9o1udZ0bxJb26XdncmNfOHlzDIQvkqy8FSCDWVLmVSpKm+kVJPqryaa9LO/qjWpyunBVF1k0+zSin96at6M8b/4Jh/t8fs7f8Fd/wBt6y+M3g+51jwt8YPB/hK40C/8NajHGj31lLKjiZXU/vREwI45AfkV+ll3qtrYSpHPcW8LyfcWSQKX+gPWvxK+CX7Hvw/0X/g508P6t+zTb2dr4I8LeGJdQ8cvojb9I066kSWIW6uuUDSAxEoDweeK+/Nb/ZWafT/jp4u/aIvtD1DQZr64u/Dmp2mo3NrLoejJbjahIZVjkRgWDJySTyeBWk6kfq8KiXKrSdn5Td7f4m3JX6JvsjOMJe3lTbu7xV/WKtf/AApJP1S7s+wap+Itet/C+gXupXXm/ZrCB7iXyozI+1QSdqjljgdBya+Uf+CG/jD4ieOv+Ccng/UviRNq15qU1zejSbvVVK395pIuHFlLPnne0O05PJGDX1d4hmvrfQbyTS4be41JIXa1iuJDHFJLg7VZgCVUnAJAOBVVouF1+n5rv3XfQKUlLfv303to+3Z9tT5nP/BYL4Ng/wDM/f8AhHaj/wDGqP8Ah8H8G/8Aqfv/AAjtR/8AjVOPxN/a8z/ySz4N/wDhXXX/AMj0f8LM/a8/6JZ8G/8Awrrr/wCR6kZ7P+z5+0Z4b/aa8GS694X/ALX/ALPhuGtm/tHTZrCXeACcJKqsRyOcYru64X9n7XPiJr3gySb4l6D4b8Pa8LhljttE1GS+t2iwMMXdEIYnPGK7qqla+hMb21CiiipKPyh/4Oaf+CNcv7aPwcT40fDWyaH4vfDe3+0OloNs2uWMfzlARyZosFkPXqPSus/4Nvf+CykX/BRb9nb/AIQPxteLF8YPh3bpbagkx2ya1aL8iXYB5LjAWQdQ2D3r9KNa1W00PSLq81CeC1sbWJpbiaZgscUaglmYngADOc1+O/8AwTV/4JmeEfj3/wAFg/Gv7WnwxXWfBvwb0y9mh0KKFjBH4u1FgyXdxEvawLkkA8O2ccdDB+7UlQfwSTk/7rXX/t56W6u/qjFe9TjVXxxaS/vJ9Pktb9EvKz/ZKiiigAooooA+Lf8AgpxrDfEr9q39lz4OyHdo/i7xjJ4h1iDPy3NvpVu10kbjurTCPIPpX01+0Prfj/w98MLu6+Geh6D4i8WRyR+RY6vfNZ2sqbhvzIqkhguccYJr5Y/bvtW8L/8ABWP9j3xJcZXT7q71/QDIfupPPp7NGM+rGMgetfYvj74keH/hV4dk1fxNrWmaDpcLBXu7+5W3hUnoCzEDJqY/wN7XlJv10X/pKj9/mVL+N392NvT3n+bkvkfn7/wTz/4Lka1+0r+0F8Xvhv8AFzwf4d+DPif4V6fJdy6fqWrHz7ryyfMkG5QphVQG3KTwwPSvUv8Agm1+2x8fv217bT/Fnij4S+GfBXwz1F7lbTU/7ZkkvtRjTcsVxDAyA+TIwBDNglTnFfnn/wAFP/2bH/4Ld+PfGXxw/Z5i8Jw2/wABIH04648w8z4hXMJEs1oQpC/Z441ZQ0nEhYr92vvb/gjv/wAFkvhv/wAFDv2aNHlkv9C8I/EDQ410vWvDBnSFoJ4k+9bR5y0LKpK7RxgjtWmHfNDml8Sirrum3affVW06b63RFdcs+WPwtvXs0leHbR3167aNM+3mnRJVRmUO33VJ5P0FOr5b+Gf7Q/w7/aT/AG6dLtBo3iiz8aeGfCs+s6FdTXLpZXml3M4gaZoFbAZmT5PNXcVyV619SVOvKpPrf8G1+mvZ3Q/tOPa34pP8mreQFgKTePUV4J8Xf+CcvgP41fEHUPEurat8QbfUNSZWlj0/xTd2luuFCjbEjBV4HYVzf/DpH4Y/9Bz4qf8Aha3/AP8AF0o3tqN2vofUAOa5X42az4q8P/CzWr3wRpel614qtrZpNOstRuja2txIP4XkAJUdecVz/wCzl+yt4b/ZfsNTt/Dt94nvI9WdJJv7Y1ifUWUqCBsMpO0cnIHXiu08deKNN8GeENR1PV7+z0vTbSBnnurqURQwrjqzNwB9aVbSDs+g6d+ZXXU/NP8A4Juf8F1vif8A8FEdb+IPgvRPhHo1t8RPBerfYZYjqr/2VY26F0luLiYrn/WKFREBLZJ6A1rfCX/gu14sm/bY8dfs0+MvhSs3xn8Psi6FBoF+ZtN1vciybnlkAMCJG+9mYYAVh1xXzD/wab/EPw3Y/tJftb282taPHfax4rjm0+NrlBJexLNfMzRjOXUDBJHHSs/9mb4w+Dpf+Dun4ma8fE3h9tHvPDz29pfm+j+zzTGzt0CI+cFicrgHOcitqcearRg/t03J+qhfTtqrddW/JLOpLlhWa+xNJejklr30flovVn2f4j/4LCePP2Y/+Cjnw4+Anxs8B+HdNj+LFusmia14e1N7mO2lZ2QRTLIqnhwASP7wNfoU7rGhZiFVRkkngV+Fn/Bd74p+GT/wX5/ZCm/4SHRfJ8O3Uceqv9sTbprC9UkTHP7s45+bFfox/wAFj/D9v4s/4Ju/FPxppHiTXrObRfBt/faZPo2qtbwTkwlkkJj++OhBB6GsPaJYFYlrXmmn6Ren4febeyvjPq6ejjB/OS1/H7j67R1kQMpDKwyCDwa+K/8AgrdrTfA/4kfs4/FyzYw3fhn4iWegXzrx5unaoDazxse65KNg91Br6P8A2PrmS9/ZM+GM00kk00vhXTHeR2LM7G0iJJJ5JPrXzH/wXYsm8XfBL4R+E7X5tS8WfFfw5ZWqDljtuhK7D/dVCSe1bzp8mJhDtUgv/J0n96uvRnPTqe0w8qm14Sf/AJI2vuZ0f/Bb74i33hP9h2fw5pdxJa6h8TPEGleDEljba6R313HFMQfXyi9fRuv6FrHwx+BraX8P9K0q71bQtLS00WwvZjbWjtEgSNHdQSq4AGQDXyp/wXbsJLT9nH4b+JCpNn4Q+J/hvU7w44SH7akbMfYeZn8K+zfEfi3S/CHh241fVtQs9N0u1j82a7uZVihiT+8zMQAPc1jDWjNt2fO18lCDX4yl+JtL+LBb+7f5uUk/wjE/O39mn/gtf4+13/gpncfs3/Gz4c+GvhPq0FjNdW9/NrLSQ6yVTdH9kZlCurcnkjhT3GK9D/ZD/wCCgPx2/bB+OPiSPw/8LfCC/B/w34ml0UeMW1x8azBGxDzWcez97t6E527gQCa+WP8Agq58HvD/APwX6+LN38PfgdfeFJNe+B9rJqOpeP0utzx3UkbeTpMDRnLK7fM8hO1MDHJNeof8EFP+Cu3hH4wfBVfgh8QW8NfD34tfCNx4cvNKWaK3tdUWJ/KWa252sxYYdRk7jnndWmF99Lm+JK6X865vj76bWXR821r54j3Ph+FtXf8AK7fD897va3Lvt+mkk6Qld7qu47Vycbj6CnV8r/EX9pD4b/GT9r/4YeA9a0nxNJqUesahf+FtTguXhsrq+06E/aA8aMGeNA5AZ1MZcYHIr6oqY6xUu+3p/wAPf+mVLSXL/XX+vW66AWxSbx6ivHv2hf2H/CH7S/iq11jxBqXjSzurO3+zImkeILnT4Suc5KRMAW56nmuB/wCHSPwx/wCg58VP/C1v/wD4ukr9Ru3Q+oA2aoeKZ9RtfDWoSaRb291qkdu7WcM8nlxSyhTsVm/hUtgE9q8q/Z8/Yb8H/s1eLrjWvD+peNLy7ubY2rpq/iG51CEKSDkJIxAbgcjmvXtQ1C30mwmurqaO3trdDJLLIwVI1AyWJPAAHenK1t/+AKLd9j8u/wBl3/gvB8VPjJ+258SP2fNZ+Dejr8S/B2LeytNK1hprWeUEGSWaZlAjgSNgxbkkkADJre8a/wDBc/xh+yj+33Z/AH4zfDOzfX/FGlx3/hm78JXr3q6lPKWWK2ZJFUqzOjLu6DqeK+Vv+CTvxW8Jt/wc7/tRan/wkWgtZ65ZywaXdfbI/Lv5GkswEhbOHY4PC+hpn/BSL4t+EZv+Dqf9nXVG8SaC2maLpdtb39017H5NjKst5lJGzhGBI4PIyKVBuSwfN/y9XvfdLbs00v1QV/deK5f+Xb93747907s+u/2yP+CyPxQ/4JxfFP4W/wDC5fhj4atfBHxQ1P8AsxJ9F1lrm/0R8p/rVZQj4DgnaccHFfo3BOtzAkkbBo5FDKR3B5Ffh9/weC/Efw/qul/s62Nrrmk3F7Z+K/tk9vHdI0kMDohWVlByEI6MeDX6sfF7SdD+PP7J0upaX4l1BtPtNHlu7a90DVPKW4ZLdhgyR53KD2B6il7Tlws6zXwykvkkn+GpXs28RTpJ/HFP58zX4qx7TFMs8YaNldT0KnINfJv/AAW10Cd/+CeXjDxVppaLXvhvLa+L9JnXh4LiynSYEHqMqGU+zGpv+CHWtXviL/glP8G73Uby71C9uNJmaW5upmmmmP2ucZZ2JLH3NXv+C0PiOHwz/wAEuPjVNLybjw3cWkS95JJcRoo9yzAUsfGVFT5NZRenqndfikVgZRqyhz/DK1/R6P8AA9i0/wCJuueNPgHoPirwlpNlrWpa5ptpqEFrc3f2WJlmjVyd+DjAb0r5o/4Jo/so/F39nH47fGbxV8RNF8KzXXxh8UPr0+o6bqrTPYW0cIjtrTYyAtsAOSDj5jX0r+yf4RuPAH7L3w50O63fatI8NadZyg9Q6W0an9RXoFdVeMaeIqOntrFel0//AG1f8Mzkw8pTw8OffR/Oz/zYUUVj/EHwPZ/ErwVqWg38t9DZ6tA1tNJZ3DW86qwwSki/Mre45rnle2h0K19SP4mP/wAW48QbW+b+zrjGD/0zavFv+CUM7S/8E4Pg20kjO7eGbYlnbcx69Sa4zx//AMEnPhnp/gPWpl1z4pM0NhO4DeNL4g4jY8gvXk//AATV/wCCYnw7+IX7BPwp1q91j4kw3Wo+H4JpUtvF17DCrHOdqK4VR7CnT/5ef9uf+5BS+z/29/7afohnNFcl8EvgzpXwD+H1r4a0W41i60+0d3STU7+S+uCWOTmWQliPTJ4rrabtfQSv1CmyxLPE0bqro4KsrDIYHqDTqKQz+dX/AILO/sU+Mv8Aghf/AMFA/D/7XHwIt5LXwLrmqb9Y06BSLewuZDma2kUcfZ7gZxnhW49K/cf9gv8Aba8H/wDBQf8AZg8N/E7wXdLLp2uQD7TalgZtNuVAEtvIOzI3HuMHvXNf8FT/ABt8KvCH7EXjaD4xWa6t4T1yzbTF0mNPMu9WuZflhgtk6mdn27cdDz2r5z/4Nzf+CVWuf8E1v2X9XvPFGoapD4g+I90uqy+H5p98OgQDPkxMOhuNjDzGHcY7UYPSlOhL4YWcX2v9j7tV2Vu+pitZwrR+KV1Jd0vtfo+7/D9FKKKKACiiigD4t+BWsN8eP+C0fxi1S8bzrP4M+EtM8N6Sh5WCe/Z7m5kA7MVijQn04rq/+CmX7Vvxw/Y8+HN943+G/wAK9F+JnhjQNPa81eD+03g1OLaeTFEEIkVVyxwc4BwK4f8AYXtW8F/8Fbv2u9FuvluNaTw7r9ru482BraWEkeoDrj8a9/8A2v8A9uT4V/sVfDXWNe+I/irRdHgsbJ7r7BPcJ9qvl5ASOInc5ZvlGBjJrKo2sPTadvdv83dv195vTfoaQ1xE01fVL5JRS9LpL7z498Hf8F3Lz4n/APBLvQfjZ4V8O+FfEHxF8Qa5Hodr4GtdVdrma5eXb9mX5d/nBPnI27QOc4r7L/ZI8a/Fvx34FuL74veDfDvgnWJHRrSw0rVDf7YimSJWKgK4bjAyK/C/xj8KfGX/AASE/aC8Hft3ReDvCsfwp+JWsyT6p4Is5BK3hW2vceVNCSdhuHjy5aMfKSV6Gv278Ff8FA/hj8WPgXYePfBXiCz8Y6fqyW32O00uVZruSa44ihZAcxuTkHdgDaSeBXVpySnazvZx6wdl7vnfe/nbdHPrzqN7qzal/MrvXyttbyvsz2qOdJWZVdWZDhgDnafenV8//wDBPjx54E+Mfgvxp428E2GuadNr3iq+g12HUrx7kpqNqwt5RESzIIxsAHl/Kea9117RovEWiXmnztMkN7C8DtFIY5FVgQSrDkHngjpWUrpJ+Sf3q+/bs+q1NFZtrza+52+/yLW8eoo3j1FfMDf8Ek/hkzE/258VOTn/AJHW/wD/AIuj/h0j8Mf+g58VP/C1v/8A4ugD6gzXyT/wWE/br+I3/BOr9me6+KHg3wT4f8ZaFoI364moam1pNbIzKkZiVVO/LNz6AV9NfDbwBZfCzwLpnh7Tpr+ex0mEQQyXty1zcMoyfnkbLMeepr4Y/wCDm/xro+gf8Egvihpl9qmn2epatawrY2s06pNeFZ4ywjUnLEDriufG1HTpuUHs1+Z0YOKnUUZr+rDvgr/wVG+NH7W/7FVp8Yvhn8LfDf8AZNpoTanfya5qslvHf3MSF5re0VULMqEFfMfALAgdKpfsA/8ABabxZ/wVQ+CUGqfBz4YwweJtNZofEz6/fGDSdFm/gjSVVLTNIBuAUfKPvYrJ/wCCT3xl8G6N/wAG9PhATeJ/Dtqul+Cry0vd99GgtbiQ3BSOTn5XbPAPJzXg/wDwZw/Erwz4c/YC+Idlfa5o1nqMPi66v54JrpI5ktltoAZmUnIjHPzHgV6FSnFYrEUvswSa9eZp/K2tuyWu7OGnOTw1Gp1lKz9OW/33VvV7bI+vv+CU3/BXS6/b3+LnxZ+F/i7wjD4O+I/wf1F7HVIbS7+1WV6iytEZInIB+8vQjoRX2tNqtrb3SwSXFvHNJ92NpAGb6DrX4b/8EDPin4b/AOH537Y8i+ItF2+JNUuF0hzeJt1JjfMV8nn95kc/LnivtX41/sy/8K+/Yf8AjF4w/aC1bT28ZRz6rqGl+I9F1K6gubSEsx09IvmG2ZfkUIgwx7HNcjqWw1OvJb01J+uzS83vY6I074mpRi9p8q9GrpvyW1/Q++6+K/gVrL/Bb/gtT8XPAkLeXo/xM8GWHjmKAcIl7BMbOdwPV1MZPrsFerf8Es/EPxF8V/8ABPj4U6j8WFul8fXmhRSaobpNtw5JPltKO0jRbCw9Sa8dsbNvGf8AwcGXl5a5aDwb8Hlt71l6JLdajujQ+5VGOPat5U/Z4tU3/fT87Qk/zSfqkYqpz4Z1F/cf3zivybXoy/8AGnWG+M3/AAWm+FPgm4PmaP8ADPwff+NJID90308i2lu5HqqmUj0Jr2X9t/4qfGL4O/Df+3fhH4C0H4hXWnxT3Ooabfam1ncSRom5Vt8KQ8jYIwcdq8NltW8Hf8HAMNxc/LF4z+EjQWTHo72l8GkUe4WUGvqj45/tI+A/2aPCk2t+PPFeh+FdNihknEuoXaQ+asY3NsDHLEDsMnkVzv8A3WDvb43fzVSa/JJeiN1/vEla/wAKS8uSL/Nv5nwL+yR/wX8b9o79gb4s/FTVdB8K+FfG3w3u3sl8IXWqOLqSYYWOKRSocPI+UUKpyRjrX1V+wP8AG/46fHrwfH4g+Lnwz0H4a2OqWEN3ptlb6s15qCs/JW4TaBGQuDjJPODX40/tgfBXxReeOJP+Clnwn8KeELPwDpuuQ6i3hOZg3/CR6fCzRtqs658tZnfJCY3LhW+9X7Ffsl/8FU/hD+2D+y/Z/E3wz4kspIP7MN/qGkCVX1LTXXCyRPCPm3ByFBxg5HrXRDWEpyVpKylH+XTfv72/91qzV7mU9JqEXeLbtLvr8Pb3dv7yd1ofSAnRpWjDqZFGSueQPpTq+cP2Ofip4H+PX7QHxa8QaRoviTRPHWg3FloHiSDUbxpoYwIfPgESq5iVtr/OFAYHhua+jyNwrOzsm+qv9+q+9WZV1dpen+f43E3AdxRvHqK+cPFf/BLb4deMvE2oatd618TEutSne4lWDxfexRKzHJCor4VfQDgVn/8ADpH4Y/8AQc+Kn/ha3/8A8XSV7ajdr6H1ADmvI/24Pi549+BH7OmveLvh34b0XxVrWgQvfT2Gp35s4mto0Z5CrgH5wBwO9dN8BfgLov7Ongb/AIR/QrrXLyx89rjfq2pS38+5sZHmSEtjjp0Fcv8At7eNtH8C/sd/Ea51rVdP0m3uPD19bxy3k6wo8jW7hUBYjLE9B1NYY6bhQnOD1SbXqlf89DbBxU60YTWjdvlc+Of+CaP/AAWW+Kv/AAVP/Z6fXvh78LdAs/EOn3k0Gr3GpanJHpOnAf6mNXCl5ZnX5iqjCggk8ioP2If+C7vir9s/xv43+E+l/CXyfjh4F1abTb+xGof8SOKGGRo5Lt7kjKoHGAmCzEjAryD/AIM9vid4X8M/8EyvFNnfa9otjfWXim9v7yGa7jjlgtxDAPOdSchO248V5x/wbj/EvwzH/wAFgv2yZG17RQ3iDXZ/7KJu0zqIN/O37nn5xjB+XPFehUpxWL9gvhdPm87pRat63afz66nFGcvqrrdVNR+Tclr6Kz+7ofbP7Mv/AAV98Ta3/wAFPdb/AGVfiz4L0jw/40t9O/tTStV0S/a6sb+PyhLsIdVZW2Z/FSK+8b3VLbTdv2i4gt/MOF8yQLuPtmvwq8R/GPwiP+Dv/TdcPifQRosfh0WrXxvo/s6zCxdTGXzt37uMZzniv061H9lq+8dfGr4teKfjPceH9a+HM8Fu3hIpfXEEujWiQf6R5m1lRSXywcc9OeK5oyvhqdV9VK76e7JpfNq3lpc2lHlxE6S2923/AG8k38k7+Z9RBtwyOQehr4s/al1l/gT/AMFeP2fPElm3k2/xT0zVPBWrIpwtwYo/tlszepVkcD/fNQ/8EIPGHjbxn+yT4gm8TX2sat4XtvGGp23gXUNWZnvL3QklxbuzN8zr94Kx5KgGoP8AgovZN4z/AOCk/wCxvoVrl7qw8R6rr04XrHbwWDqWPtudR+NXy2rUvNr1SlHW/ZqLd10aZMpXpVV2UvRuL0t5OSVvkevf8FEvBnxc+L37PXi7wL8LdL8P/bvF2iXGmjVtT1JrddPeVShbYqkthSTx3rR/4J1/BnxF+zd+yZ4N+HfiDQ9L0VvBOlW2kwfYL77VHeCOMB5idoKlnycH1r3Giph7qlb7Vr/K9vu5n95Uve5b/Zvb52v+SCiiigAooooAKKKKACiiigAooooAKKKKACiiigAooooAKKKKACiiigAooooAKKKKACiiigDm/F3we8K+P/E+k61rnh7R9Y1TQVmTTrm8tUmksxMuyXZuB27lGDjqK8qvf+CXf7O+o+KP7Ym+Dfw/e/8AM80n+yYxGz5zuMQHlk55yVr3mihaO6DpYpLoFnbaGun29naQ2cMYjht1hUQxBfugLjAAwMADjFfl14t/Yd+Mr/8ABPr4mfBe38EXWpeMPGfj+98S69rJvYY7PxBp8uorcEJIWz5j2qJCEYDBXnjmv1SopW97m+X4qX5xV+5V7R5V0d/wa/Jv0PE/hf4U1f4m/GLSfF2reGrzwrovg3SX03RLC+KfaZJpgollKqSFVY0CLzk7mPTFe2UUVcpX/ru7mcY20/rsFFFFSUFFFFAHCeJv2X/hz41vvEVzrPgfwrq1x4sES6zJe6bFcNqQiXbGJSyndtHA9K5L4Yf8E6PgX8GPGMPiDwv8KvBeka3btvgvItORpbY+sZbPln/dxXtFFEdHdBLVWZzPxa8W6j4M8FXN5pfhzU/FN5/q1sLCSNJn3cZBkZVwPrXyn/wRZ+GvxG/Z1/Z8vPAPxA+Hur+Fr7/hINZ11b2S8tri1eO7vXmijBjctv2ycgjAKnmvtKiiHuty7q3yun+aCXvRUezv+DX5MKKKKAPO/hP+zppvwk+LvxI8YWd5d3F78Sr60vr2GUDy7Zre2W3UJ3wVXJz3r0Siijol2SXySsvwAzPGfgzSfiJ4V1DQ9c0+11XR9Vga2vLO5TfDcxMMMjL3BHavMviZ/wAE/Pgj8YorFfEnwt8E6o2m26WtrI+mRxyQQoMLGroAwUDgLnFewUUrId3/AF/Xkcf8Gf2fvA/7O3hltH8C+E9B8J6Y7+Y9vplmlusrf3n2jLN7sSa+If22/HX7RXxN/aLutHX9l/U/iJ8IfDUySadbDxbY2MHiG5XkXF1E7ZaJT9yJuCRlgeBX6HUUSu5KTe39L7un39EEbKLilv8A1+PU8n/Yw1/4jeLPgjDqnxQ8N2/g3xNf3txImgQ3Edwuj2obbBB5kfyMQgByPXHavWKKKuUru5EY2VgoooqSgooooAKCcCivgf8A4LvftCftAeCfgha+Av2ffhp4w8V694zRo9V17SY+NFss4kSN+1xICQp/hGT6VnUqcq03ei/rt3NKcOZ67FP9oPxxrH/BXX9oDVPgd4D1K7074E+CbtYvib4psnKHX7hTn+w7SQdQcfv3XoPl6mvu7wL4G0f4ZeDdL8O+H9OtdI0TRbZLOxsraMRw20SAKqKB0AAr8if2aP8Agox+0p+yR8FtD8A+B/8Agnp4y0vw/ocIjjX+2t0txIeZJ5XMWXlkbLMxySTXef8AD6v9sL/owfxt/wCDn/7VW1lCPJHXq33ff0WyXRebbeN3KXPLTol2X+b6vq/JJL9UKbLKsETO7KiICzMxwFA6kmvyi17/AILT/trS2bLpn7BfiiGcj5XudXZlX8FiGfzr5I/a4/aK/wCCpH7fXk+CF+E/iD4U+EvEE6WN9/Ytm0MghkYKxluWYsFCk5244qPfbUYLV93ZfM091Lmm9PvP3i+B/wAdtD/aE8OalrPhuSS60ex1S40uK9wPJvngbZJJEf4oxJuTd3KNXaVwP7LHwD0v9lr9nHwT8O9FjEeneD9It9NjPeVkQB5D/tO+5ie5Y131a1IxjJxi7paX7+fz3t0MqcnKKlJWv07eXy2ueE/8FCf2YtQ/aV+CNq3huSO18d+BdWtfFfhW4fhV1C0fzEjY/wByVd0bez1u+C7/AME/t2/AOzk8UeFdP1awuHC6poGuWST/ANm30RxJDLHICN8b5wccjBHBr1mobbT7eykmeGCGFrh/MlZECmVsY3NjqcADJ9Kzikk49G7/AD0V/mkvuVut7erUuq0+W9vk27er8rcd8OP2avh78HvCmpaF4U8E+F/Dei61n7fY6bpsVtb3mV2nzERQGypI5HSuf8DfsJ/Bf4ZeKLPXPDvwp+H+h6xYMXtr2x0K3gnhJBGVdUBBwT+der0UX15uodLdD4r/AGSvgH8UPAv7dvxg8aeIPDtvat4y8QxW8OrvIklrF4as7YLZ2lsoO5ZHmd3cEALtPqK+1KKKFpCMOyS+79Xu+7be7B6ycu7v/XpsuySXQKKKKACsnxz4D0X4neFL3QfEWk6frmi6lH5V1Y3sCzW9wn910YEMPY1rUUNJqzBNrVHlfgT9hr4NfC7xLDrPhv4W+AtB1aBGjjvLDRLe3nRWBVgHVQcEEg+xrP07/gnj8B9I1aG/tfg78N7e+tphcRXEfh+1WWOQHIcMEzkHnNeyUU7tO4dLHkvjD9gv4J/ELxRfa3r3wn+Husaxqkpnu7280G2muLmQ9Wd2Qkk+pNeaf8FQPhz4l8V/sF+NvhP8M/h7ea9deKvDF1oOmQ6fNb2lnphaLy4lbzGUKgyMBQcAV9S0VlUpqdN03szSnUcJqot0eRfsQ3fiK0/Zw8KaH4o8I6t4Q1Twvo9jpU0N7NDL57xW6I7o0TMNu5TjODXmDeD2/bR/bw0Hxa0UjfDv4EtcrpkzqRHrOvyoYpJEz96O2iLLu6eY5x9019WEZFQ2NhBplqsFtDDbwpnbHEgRVycnAHHU5ronUcqvtXvq/m+vy1a87PoYU6ahS9kttvl2+ez8rrqcH+1b+zxpP7V/7O/iz4e60WjsfFGnyWnnL962kIzHKv8AtI4Vh9K4H9lLXx8eP2f7j4b/ABU0WyvfFnhGFNB8VaVf24mttR2DbHdKrArJDOiiQHkAllPIr6AqFdPt0vmulghFy6CNpQg8xlHIUt1x7VnFJcyeztf1Wz/Fp99OyLbejW62+dr/AJJ+VvNnEfCH9ln4a/s/3V9P4H8B+E/CM2pxiK7fSNLhs2uVByA5jUbgM96561/YB+B9j4nTWofhH8O4dYjuftq3qaDbLcLPu3eZv2bt27nOc5r16ii7vfqHS3c+KdS/Z++Jw/4Ko+IPiHH4btZtHg8P2Hh3whqbOhsdHtJJ2n1WV48hvtDlUVQBznk4zX2tRRRHSCh2v+Lv+bb9WwlrNz72/BJfkkFFFFABVbWNHtfEOk3NhfW8N5ZXkTQzwTIHjmRhhlYHggg4INWaKHrowvbVHkPhr/gn/wDA3wZ4hsdW0n4R/DvTNU02Zbi1u7XQLaKa3kU5V1dUBDA8gg03X/8Agn18C/FWu3mqal8IfhzqGpX8zXFzdXGgW0k08jHJdnKZLE85NewUUAeW+O/2H/g38UdbXUvEnwu8B69qEdvHaLc3+iW9xKsMY2pGGZSQqjgDsKpfGLwpH8EP2br7wv8ADn4dtfWtxZ3FhZ6NoKW9nFamWN/mwxVFXcecc816/RUVYc8JU3tLcunPkmprdbHyd/wRv8D+O/gT+xJ4H+GXj7wLqvhPW/BenPBcTzXVvcW127XEr4iaN2PCuOoFTftjeE5P22vjR4W+DtjHJJ4P8Napa+JfHd4ARDst2EtppwPRpJpVVmA+7Ghz1FfVdQ2un29i0rQwQwtO/mSFEC+Y3TccdTwOTW1So51FUl3v873X3PW3lba5lCPJBwj2t8tn+Gnle5KiCNAqgKqjAA7ClooqCgooooAp+INHj8Q6De6fIzJHfQPAzL1UMpUkfnXKfs2/A2w/Zo+A/hXwDpd1c32n+FNPj0+C4uAPNlVOjNjjJrt6KFpe3W1/le33Xf3h/X9fcFFFFABXM/GL4weHPgF8Mda8Y+LdUtdF8O+H7V7y9vLh9qRIoyfqT0AHJJArpq/Gz/gq58dv2jvjl+27pGi2f7Lfj74i/Ab4b3v2pdJWb7Hb+MNRjOY7idgG320bcrGRhiMms5SfMoLRvr0S6v8AyXV9ldrSMVZzey6d/L/g9F32f0/+yF8HvEn/AAUZ+POnftLfFrS7rS/B2iMx+FPgu9TH2KE8f2xdxnj7TKOY1I+RSD1NfelflZb/APBaP9r+0gjii/YE8aRxxqERF1gKqAcAAeVwBTz/AMFq/wBsP/owfxt/4Of/ALVWzskoQ2W36t92+r+6ysjFXbcp7v8ApJeS6fe7ttn6oVyfxv8AjV4f/Z7+GWqeLPE14llpOlx7nJI3zOThIkH8TuxCqo5JNfln8Qf+CzH7emqac8fhn9hvVtJuCPlmvr6S6Cn3VUX+deO/sW/B/wDbe/4KU/8ABTDwL4g/ao8N+IPC3wq8AXLeI49Ga0+x6TLdQ828flgnzG8wqfnJ4U0qcHOagtF1fZdfV22XVjnJQg5vXsu76Ly830P3R0bUG1bR7W6aCa1a6hSUwyjEkRZQdre4zg+4qzRRQ99Aje2p8t/tX/Dq6+BP7VPhH9ojRbW4urOw05/Cvji1t0LySaTI4kiuwo5Y20wDEddjv6V618R/2XvhN+01Pp+v+LPAngvxtKbVRZ3up6VBet5DfMoRnUnac549a9IliWaNkdVdHBVlYZDA9jTbS0isLaOGCOOGGJQqRxqFVAOgAHAFKOkeXs215Xu3+Lb+b6Ws5NuXN3Vn52sl+CS+S+fG+Mv2bPh98RPh7p/hLXvBXhfWfC+k7DZaTe6bFNZ2uwFU2RMpVdoJAwOAa4H4jfssaP8ABX9nT4hW/wADPAfg3wx401TR7j+zFsNOhsY5r0ROIC5VQMqzcE9M17pRU1I88ZRb+K9311Kpy5ZRdttu2h80/wDBLX4KeJf2ef2YfD/g/V9Dbw9p2g6bbwRwXTK9/e3zAyX11Mykj553baOuFyetfS1FFbVKjnJyZlThyR5UFFFFZlhXE/F/9m34f/tBCxHjrwX4Y8XjTSxtBq+mxXgti2N2zzFO3OBnHpXbUUbhdrY8t0/9h/4OaV4I1Dwza/C/wHb+HdVnS6vNNj0W3W1upU+47xhdrMvYkcUeDP2H/g58OZNQfw/8L/Aeitqto9heGy0S3g+1W7/fifao3I3cHg16lRR/X6floH9fqeS+Dv2Dfgp8OPEtjrfh/wCE/wAP9H1jS5BPaXlloVtBcW7joyOqAg++a+M/2gfiT+018Rv2kr7UNW/ZK1Dx14J8J3xPhOxl8Yafb2csiH5b64hZj5khIyitwg5xu6fpNRS15lK+359/VdP87D0s1bf8u3p3/wCHPJfhJ8UvEXgL9k+x8YfGCCHw/wCIYLKTUdas4nWZdPZnZltlKcSMilIwV+8R71xH7AXwO1fSdW8ffF7xhZSaf4z+MGoR3zWUv+s0nTIEMdjat6MIyXYdmkI7V9F32n2+pweVcwQ3EW4NslQOuQcg4PcEAj3FTVd1zOaW+i8le7/JfK/dkW91Rfr69v1frbsfNv7fPwP1i/13wD8YvB9jJqHjL4Q6hJemxi/1msaXMnl3tqvq5j+dB3eMDvXoet/DH4V/tseAvD+veIPCnhjx1o8kJudNOsaZHdfZ94G4BZFOxuMMOoK4PSvT6hsrC302Dy7eGG3j3FtkaBVyTknA7k81MUlHle17ryfX/Pyd31Kk3dSW9rfLp+b+Vl0OOT9mr4ex/CT/AIQFfBPhdfBGCP7BGmxf2dgtvP7nbs+9z061ieDP2P8A4Z/BBNT1LwB8N/A3hvXLmzeBZdP0iC1M38So5RRldyqcH0r1KilK7vrq+vUI6W7LofHH/BJX4EfEj4D+A9Ts/G+hLo+qa5qWo6/4ovbmRJp9Z1e6uSwaJlJ/cRwKignk8Y6GvseiircrpLskvktvuWi8hW1b7tv5vf73r6hRRRUjCub+Kfwc8J/HHwz/AGL4y8N6L4o0jzVn+xapZpdQb1+62xwRkZPNdJRRvuF2tjy3wh+w/wDBz4fxanHofwv8B6OmtWjWF+tnolvCLy3bBaKQKo3IcDIPHFQ+Cf2EPgr8NvE9nrXh/wCFPw/0TWNPbfbXtjoVvBPA2MZV1QEHBI6969Yoou73DpY8bl/4J4/AefV21B/g98N2vpJzctcnw/bea0pbcXLbM7t3OfWvmv8A4KF+Mv2gvG3xnj8G+H/2c9U+IXwb0uKOS4Ft4qs9LXxHPwRFKrsHFsnQpxvIweOv3xRU8u3ZdOhXNv3fXqeGfsP+MPiNrPwd1TWPip4KsfhbJFeMmm+G4ruG4j0bT4o1VAZIfkOcM2B0HFcX+zZ4DuP2j/2wde+P2qWs1voOm6Y3hTwJFOhV5rQyb7u/2nlRNIqqnqkee4r6kubeO8t3hmjSWKRSro67lYHqCD1FLBBHawJHGixxxqFVFG1VA6AD0rTm9/n6pWX3Wb821dfN+Vs+X3OTz/W6Xonb7ku46iiipKCiiigAooooAKKKKACiiigAooooAKKKKACiiigAooooAKKKKACiiigAooooAKKKKACiiigAooooAKKKKACiiigAooooAKKKKACiiigAooooAKKKKACiiigAooooAKKKKACiiigAooooAKKK4v4+2fjy++Gd8vw1vPDtj4sGGtJNcgkms2xyVYRkNz0yOlTKVlcqKu7HaUV+Ufwu/wCCz3x58e6lqXwDvPBPhvSf2v7XxQLJdEuLeVdCXRhh31Lzt+WjEQYjBySV4r9KPAmp+J/AnwZW++Il3peqeINNtpbjUptCtJRbyBdzfuomy5O0AY6k1X2PadOj76J3Xpez801umTrz+z69u2rWvra67qz2aO0qve6ra6YB9pube33dPMkCZ/OvNvj/APtK2fwd/ZE8S/FWK1uJLPR/DsmuwwXETRSECHzEV0PzKeRkHkc18Y/DPxd+zb438L2evfGHx3qHxE8cazAl3qU13LfxWVnLIoYwW0Ee1I4o87BwSduSeaWvM49rX+d7fkw05VLve3ytf80fo3a3kN9AJIZY5o26OjBlP4ivKfif+2x4B+F/j3/hE3v77xB4uVPMk0TQbKTUr63Q9GlSIHy1Pq+K8F/bH/a18LfsS/8ABIzx38SPgpbQmx0exeDQVAlaOK8nmWBHPmkthZJAxz6V6V/wS+/ZVsf2Xv2SvDCTSNq3jTxVZQ674q165PmXmtahcIJZZJJDyQpbaq5wqqAAKpRu5do29W3d2+SV2/Naa3Q5WUe8r/JK13+KSXr216bwx+3h8OfEvxF0Lwa+pX2leNPEU7wWnh/UrGS11E7ImlaQxMAREFQ/vPu5wM5r2SvH/GHwB8GeLP2u/D/xSurm1fxZ8PNBvNOWFEVpYYLwoS7H7w4iYKO+Wrb+Bf7VXgn9o/W/FOn+EtTk1C68G3UVlqyPbvCbeWWPzEX5gM5XmlHVeerfpey/T5uwS0flovna/wDXkrnotFFFABRRRQAUUUUAFFFFABRRRQAUUUUAFFFFABRRRQAUUUUAFFFFABRRRQAUUUUAFFFFABRRRQAUUUUAFFFFABRRRQAUUUUAFFFFABRRXyx/wVB+Jn7SXwN+E1541+A+keC/Fkfh+0NzqWgapBMb+7RTl3t2VgpKpk7DycVM6igry2/L18ioQcnZbn1PRX54/sl/8FO/ih/wU9+IOi3nwFj8J2fw30HSbb/hNdW8R2My3FvrD4aWwt41bJKrnLH5Rxya+7/HHxEsvh6mkfb4b+ZtY1CHTIfslq8+2WTgF9o+RBg5Y8CtZU3G1+rsvvsn6Pp3Vns0Zxmnt0V/wu16rr2d1ujfqnP4gsLWfypb6zjkzjY0yq35Zr5l/wCCmv7Tx+DNj4C8Gp4ok8EL8SNWksb3xBFCZZ9NsoYWmnMIAOJXVQisR8pbPavK/Csn7Ftvd2KNdTa3qvmptvtSu9TuLqeXIwzOWAJJ56Ae1RT95/O3n0/zLl7u/a/5/wCR963l7Dp1nJcXE0cFvCheSSRgqIo5JJPAA9a8QtP+Chvw+8R391H4Zj8UeNLLT5DFc6l4f0O4v7CJl+8BOi7GI7hSa+bP+Cuvj3WvjL+0z+zr+zBot/eaP4b+L2oXOpeLLq1kaOa50exRJHtFccgSlgGxztBHevvHwV4K0f4Z+ENP0LQdOs9H0XSYFt7S0tYxFDbxqMBVA4AAohrF1Ol2l523fpfT1T20upaSUOtk35X2XrbX0a3vpyHwN/au8B/tJavr1l4J16316XwyYE1NrdTstJJVZlhYkcSAL8ydVyM9a9Fr53+GmgfDH9iK08W+JdP1KCdvjF4ul1WOKyiDy6nfyRrH5ECJ/rGAhY8ejGvQvgV+1P4P/aF1TX9L0G8uI9d8KzJBrGk31u1rfaczjKGSJgCFYZIYcHFNapW3sr+Tsrr5N/dZ9Qej12u7eau0n87fmuh6NRRRSAKKKKACiiigAooooAKKKKACiiigAooooAKKKKACiiigAooooAKKKKACiiigAooooAKKKKACiiigAooooAKKKKACiiigAooooAKKKKACiiigAooooAKKKKACiiigAooooAKKKKACiiigAooooAKKKKACiiigAooooAKKKKACiiigAooooAKKKKACiiigAooooAKKKKACiiigAooooAKKKKACiiigAooooAK4v4+6N481/wCHF1a/DnWdB0HxRIyiG91e0e6tol/iJjUgk+nOK7SiplG6sxxlZ3PzP+Jf/BA7XPG/wd8N+ILP4lQ6b+1Fo/iY+I7v4ppBL9ovSXObcxBv9QI9iLF91Qvuc+s/t2z/ABc+GX7DFi3iHxmtx4+k1CDSF1Lw1ay2Nn51zKkMV5NyWRIAzSsB8pIAPHFfa9NmhS4jKSIsiN1VhkGq+zyra6dumllp2ulbT13Evi53vZq/rd697N9fTY8/XwtpX7SX7NUmh6wt9eaP4o0h9PuZLuLyri6jZTGZivYvjePZhXiPgjXPjT+zX4dtPCOs/Cq2+K1nosS2mneI9GvrW2mvrZBtjNzDMV2zBQAxUlWIyOtfWAGBRTk7ycl13/G33Xe3cUVaKi+m34X++y+48Z8c/B3Tf26f2Rte8E/EbwbfeFdN8YWcthe6TNPE9xaDPySq8RKbgwV1I6ECuR+D/wAM/wBoT4NeANL8E/274C8TWGh2yWFj4ivY54bx7eNdkZngUFWlCgAlWAYjPGa+lKKXVtdbX+V7fm/vH0SfS9vna/5L7jg/g78HLb4NaZrGoahqU2teINdlF7rWr3ChWuWVcKqqOEiRchUHQE9SSa+Xv+Cdvxc8N+IP28f2oI7PVoJm8SeItLuNKIVlXUIotNVZHiJADKrAgkdCK+3TzTEt442ysaKR0IWiOk+Z9rfin/7aglrHl87/AINfqPooooAKKKKACiiigAooooAKKKKACiiigAooooAKKKKACiiigAooooAKKKKACiiigAooooAKKKKACiiigAooooAKKKKACiiigAooooAK+bv2/v2bPjJ+1H4fi8K+A/iPongHwhqaxxa832GSTVLyHzMyxQzKQIg8eVLAZGTivpGipcU7X/4Hz7ryKjJrb+vQ/PzTP+CN/ij9lj9syH4l/szeNPDvwu8L6ho0Om+IfB95YzXena1NHkC4Khvkk27fnHJYEnqa7r9pr4heJPAn/BQj4U2MeveJk0ua1uNW1O3tIm+yXkaRi3j0+JB8sjyzzCVi3KrFxjmvsmmvBHJIrMis0f3WIyV+laRk0432i2/vvpfsm7pbdNiHFWlbqrfkr+tlvv1vc8f/AGvv2c9S+N2i+Hda8L31jpfjvwJqI1fQbi9i8y1lfY0ctvMOvlSxsyEjkZB7VxekftB/FSwuLez1j9m/UGu1dY57rTdXsJbQc4LoWZXK9+QDivpaipjp6Xvbz/pDlrv6fL+mz5//AGzP2Jj+0z4i+H/jrw7rC+E/id8L759Q8O6pLD58GJU2T2lwg5aGRcA4OQQCKuf8IZ8bvijpjaP4m1bwj4T0udPKvrrQTLcXtyhGGERkAWLPTcckZ4Fe6UUJJLl6Xvbpd7/1sGuj62tf+vU+c/2xfiH8If2HPgF4Y8QeLtAW7sPA93Evha1gsnu7iG92MiNHtBIbaX3OexYmvKf+CWvxF8G/tBftCfFb4mabquoeIvG3ii2sI9Zul02ex03SbaLeLbT4PNVWlZQXZ5Mck9hivuB41lHzKrfUZoSJYh8qqv0GKcG1Jzlq3f8AFa/f1e9tNr3JK8VFeX4O6+7t317WdRRRSAKKKKACiiigAooooAKKKKACiiigAooooAKKKKACiiigAooooAKKKKACiiigAooooAKKKKACiiigAooooAKKKKACiiigAooooAKKKKACiiigAooooAKKKKACiiigAooooAKKKKACiiigAooooAKKKKACiiigAooooAKKKKACiiigAooooAKKKKACiiigAooooAKKKKACiiigAooooAKKKKACiiigAooooAKKKKACiiigAooooAKKKKACiiigAooooAKKKKACiiigAooooAKKKKACiiigAooooAKKKKACiiigAooooAKKKKACiiigAooooAKKKKACiiigAooooAKKKKACiiigAooooAKKKKACiiigAooooAKKKKACiiigAooooAKKKKACiiigAooooAKKKKACiiigAooooAKKKKACiiigAooooAKKKKACiiigAooooAKKKKACiiigAooooAKKKKACiiigAooooAKKKKACiiigAooooAKKKKACiiigAooooAKKKKACiiigAooooAKKKKACiiigAooooAKKKKACiiigAooooAKKKKACiiigAooooAKKKKACiiigAooooAKKKKACiiigAooooAKKKKACiiigAooooAKKKKACiiigAooooAKKKKACiiigAooooAKKKKACiiigAooooAKKKKACiiigAooooAKKKKACiiigAooooAKKKKACiiigAooooAKKKKACiiigAooooAKKKKACiiigAooooAKKKKACiiigAooooAKKKKACiiigAooooAKKKKACiiigAooooAKKKKACiiigAooooAKKKKACiiigAooooAKKKKACiiigAooooAKKKKACiiigAooooAKKKKACiiigAooooAKKKKACiiigAooooAKKKKACiiigAooooAKKKKACiiigAooooAKKKKACiiigAooooAKKKKACiiigAooooAKKKKACiiigAooooAKKKKACiiigAooooAKKKKACiiigAooooAKKKKACiiigAooooAKKKKACiiigAooooAKKKKACiiigAooooAKKKKACiiigAooooAKKKKACiiigAooooAKKKKACiiigAooooAKKKKACiiigAooooAKKKKACiiigAooooAKKKKACiiigAooooAKKKKACiiigAooooAKKKKACiiigAooooAKKKKACiiigAooooAKKKKACiiigAooooAKKKKACiiigAooooAKKKKACiiigAooooAKKKKACiiigAooooAKKKKACiiigAooooAKKKKACiiigAooooAKKKKACiiigAooooAKKKKACiiigAooooAKKKKACiiigAooooAKKKKACiiigAooooAKKKKACiiigAooooAKKKKACiiigAooooAKKKKACiiigAooooAKKKKACiiigAooooAKKKKACiiigAooooAKKKKACiiigAooooAKKKKACiiigAooooAKKKKACiiigAooooAKKKKACiiigAooooAKKKKACiiigAooooAKKKKACiiigAooooAKKKKACiiigAooooAKKKKACiiigAooooAKKKKACiiigAooooAKKKKACiiigAooooAKKKKACiiigAooooAKKKKACiiigAooooAKKKKACiiigAooooAKKKKACiiigAooooAKKKKACiiigAooooAKKKKACiiigAooooAKKKKACiiigAooooAKKKKACiiigAooooAKKKKACiiigAooooAKKKKACiiigAooooAKKKKACiiigAooooAKKKKACiiigAooooAKKKKACiiigAooooAKKKKACiiigAooooAKKKKACiiigAooooAKKKKACiiigAooooAKKKKACiiigAooooAKKKKACiiigAooooAKKKKACiiigAooooAKKKKACiiigAooooAKKKKACiiigAooooAKKKKACiiigAooooAKKKKACiiigAooooAKKKKACiiigAooooAKKKKACiiigAooooAKKKKACiiigAooooAKKKKACiiigAooooAKKKKACiiigAooooAKKKKACiiigAooooAKKKKACiisHwj8U/DHxA1rXdN0HxHoOt6j4Xuxp+s2thqEVzNpFyVDiC4RGLQybWDbHAbBBxg0Ab1FFFABRRRQAUUUUAFFFFABRRRQAUUUUAFFFFABRRRQAUUUUAFFFFABRRRQAUUUUAFFFFABRRRQAUUUUAFFFFABRRRQAUUUUAFFFFABRRRQAUUUUAFFFFABRRRQAUUUUAFFFFABRRRQAUUUUAFFFFABRRRQAUUUUAFFFFABRRRQAUUUUAFFFFABRRRQAUUUUAFFFFABRRRQAUUUUAFFFFABRRRQAUUUUAFFFFABRRRQAUUUUAFFFFABRRRQAUUUUAFFFFABRRRQAUUUUAFFFFABRRRQAUUUUAFFFFABRRRQAUUUUAFFFFABRRRQAUUUUAFFFFABRRRQAUUUUAFFFFABRRRQAUUUUAFFFFABRRRQAUUUUAFFFFAHwN8B/i34x+CH/AAX8+Mnwn8UeKvFGseC/i14E0zx94HstU1Ka7stFktJDZ31pZo7FYfMkaSZo0CjbGhI+6T82fHn/AIKF/E7wj/wcO6Dq1t4q1+H9nPw34o0j4H6vpiahMuj3uu6pptzeJM1uD5XnRXEkSNMy7gsIXdsr3T/gutfw/so/Gz9ln9qxvNh0/wCEHjo+HfFc8QJ8nQNahNrczuB95YmVdq4yWmGMdR886L+yXr37R3/BtZ8UviN9nksPih8T9d1X9oO2lgXzLi3vY9QN9aiPIyzNY2scajBA83A7UAfWf/BRD4q+MPH/APwVF/ZF+B/gnxR4i8OWsuqah8R/G7aPqM1mZ9J0yMC2tbnymXzrW5uWaJ4nyjELkEdPnj9lD/gob4X/AGO/+CgX7bHh+Twj8TfiZ42174lJqNn4V8A+HH1rVms4dNgWW6ddyRRQqzKgMkil2YKgY5A7j/gip8Y4P+Cmn7cXxq/a0S1T+xY/DPh34a+GJGiYPbFLOLU9Ygyw423tzGvy8Hb34J77/gkTptun7ev7eV4tvCt3J8UbSF5wg8x0XTYiqlupUFmIHQFj6mgD6O/Y+/4KFfDH9tr9mq8+KvhPVrnTfDOjTXVprsevQf2bd+Grm1UPcwXqOcQvEjKzfMVCsCGIOa+fbz/g4S+Eum6Sniq5+G/7Qlv8IZLhYY/ilJ4DmXwg6M4jW4E/mfaPs5c7RKYNhPAOSAfl7wN8Jtd+Jv7En/BVvwr4H095td1b4m+KRZ2Nkm2S8Y2VvJLEiqPmklXzFCgZdnx/FXDfs3/Cv9l79of/AIJp+GLjxp/wUK+Omg+F7/wja6V4l8H6h8UNHs4tKYWyRXGmmwlsmlEaMGjSPD7kC7S4IYgH6Yftrf8ABWb4S/sFeJPhrp/jaTxBdR/Fmz1K78O3eiWSahFeNZpaMsCosglkmuWvYEgSGOTezHcUUbqj13/gq34F+HX7Ken/ABU8feD/AIrfDU6zq/8AYGk+DvEfhsxeLdZvy22K3tbCF5TO8o+ZNjEbQSxXa2PmP9pL4XeGfAf/AAVJ/wCCVnhLRJrjXvCvhnQvG1lpF1qjC5uLqC08M2QtbiVio3TYijk37VO8bgAcYxP+Djrwn9j/AGj/ANjbx14l8beNvhj8KvDXivWdJ8TeMfC12LW+8NXGoWtsljciVopEiTdDOjSOhCo7jq1AH1P+zP8A8FefA/7QXx8034W694B+MfwX+IHiCzmv9B0b4keGP7Gk8RQwKGmNnIkssUrRqdzJvDgAnbwcfV1fmN8Ev2Tv2atc/bh+Cutf8NufFT46fEbw5eXuqeCvD2q/ErSfEMMzGylNxJ5VraCRYzbo7FvMRW8sDLcqfu/4Z/te/Dn4xfHv4gfDDw34lh1Px18Lfsf/AAlGlraXEbaX9rjMtv8AvHjWKTcgJ/dO+3o208UAelUUUUAFFFFABRRRQAUUUUAFFFFABRRRQAUUUUAFFFFABRRRQAUUUUAFFFFABRRRQAUUUUAFFFFABRRRQAUUUUAFFFFABRRRQAUUUUAFFFFABRRRQAUUUUAFFFFABRRRQAUUUUAFFFFABRRRQAUUUUAFFFFABRRRQAUUUUAFFFFABRRRQAUUUUAFFFFABRRRQAUUUUAFFFFABRRRQAUUUUAFFFFABRRRQAUUUUAFFFFABRRRQAUUUUAFFFFABRRRQAUUUUAFFFFABRRRQAUUUUAFFFFABRRRQAUUUUAFFFFABRRRQAUUUUAFFFFABRRRQAUUUUAFFFFABRRRQAUUUUAFFFFABRRRQAUUUUAc/wDFH4TeFfjh4HvfDHjXwz4f8YeGtS2fa9J1vTodQsbrY6yJ5kMysjbXVWGQcMoI5Aq5ofgnRfDHgyz8N6bpGl6f4d0+yTTbXS7a1SGytrVEEaW6QqAixLGAgQAKFAAGOK1KKAOX+EHwQ8F/s+eDU8O+AfB/hfwP4fjme4XS/D+lQabZrI/LuIYVVNzYGTjJxzVrwj8KvC/w/wBd17VNB8N6DoepeKrsX+tXdhp8VtPq9wFCCa5dFDTSBQF3uScADOK3qKAMDwT8KfC/w0v9cuvDfhvQPD914n1B9W1mbTdPhtJNWvHAD3Nw0agzTMFUGR8sQoyeK4rU/wBhf4I618Sn8aXnwd+Fd34wkk859dm8J2EmpM+c7zcGLzC2ec7s5r1SigDA8QfCrwv4t8deHvFGq+G9A1PxN4RFyNC1e70+Ka+0UXMYjufs0zKXh82NVSTyyu9VAbIGK0PFHhXS/G/h+70nWtNsNY0rUIzFdWV7bpcW9yh6q8bgqy+xBFX6KAPO/gz+yD8Jf2cb+4uvh58Lvh34DurzInm8O+G7PS5J84zuaCNC2cDr6CvKf+Cc/wCwxqv7Lmp/FT4gePLzRtY+L3xu8Ty6/wCJr3S3eWztLaMvFp2m28jxxO8NtbkKHeNWZ5JCRjFfTVFABRRRQAUUUUAFFFFABRRRQAUUUUAFFFR3t7DptnNcXE0dvb26GSWWRgqRqBksxPAAAySelAElFV9I1i08QaVb31hdW99Y3kazQXFvIJIp0YZVlZSQykcgg4NcT+0p+094G/ZB+Fc3jb4i64PDvhe3vLWwkvTZz3QSa5nSCFdkCO/zSSIuduBnJIAJoA76iiqT+JdOi8Qx6S2oWS6tNAbpLIzqLh4QwUyCPO4oGIBbGASBQBdooooAKKKo+KfE1j4L8MalrGpzfZtN0m1lvbubYz+VFGhd22qCxwoJwASccA0AXqK5H4DfHXwr+038HfDvj/wPqo1zwj4rs1v9KvxbS2/2qBs4by5lSROh4dQR6V11ABRRRQAUUUUAFFFFABRRRQAUUUUAFFFFABRRRQAUUUUAFFFFABRRVL/hJNP/AOEi/sf7fZf2t9m+2fYvPX7R5G7Z5vl53bN3y7sYzxnNAF2iiigAooooAKKKKACiiigAooooAKKKKACiiigAooooAKKKKACiiigAooooAKKKKACiiigAooooAKKKKACiiigAooooAKKKKACiiigAooooAKKKKACiiigAooooAKKKKACiiigAooooAKKKKACiiigAooooAKKKKACiiigAooooAKKKKACiiigAooooAKKKKACiiigAooooAKKKKACiiigAooooAKKKKACiiigAooooAKKKKACiiigAooooAKKKKACiiigAooooAKKKKACiiigAr8RLrQvgL8bP+CsH7QXgn9vi61S28XXniQ/8KkHibXL/AEfwzH4bI22p02WKaKCO6OE8x2YMZCQh8zzRX7d1+cv7ZX/BVX9iT426D4u+Fn7Q+j6pDq2iX15pX/CJeLPAt+2qXsscjRLPpjxwur+cUVopYJQ2HjYlMigD7i/Zu+Cul/s7fA/w74L0TWvEPiDR9Bt2hsb7XNSbUr6SBpGkRXuG+aRUVwiE5OxEBJIye4r82f8Aggf468VfssfsofB/4N/FbR/H2i6t8SJPEes/D6319Ekk0fQ7OS3kt9Mu33+ZFdGCdpo4imBFHIuU8sRj6H+DX/BWr4X/AB7+BXgP4geGbPxVeaX8RvHi/D7RrNrSBL2W+Mkv79l87YLYWsEl7vDlzbAMELkR0Aej/td/tY2/7IXgXTdeuPh98WPiKupX4sBY+AfC83iC+tiY3k82WGIgpD8m3eeNzIO9eJeAf+Cx+neP/HWi6Cv7Nv7YukNrV/BYLfar8JL60sbIyyLH5txMzYjhTdudzwqgntXtv7Xfwb+Jnxr8C6bp/wAL/jHffBXWbW/Fzdata+GbDXmvbfy3U25ivFZEBdkfeo3fu8dCa8S8A/sO/tVeG/HWi6hrf7cHiDxJo1hfwXN/pL/Cnw5arqlukitJbmWOMPGJEDJvQ7l3ZHIFAH1J8XPhnpfxp+FPifwbrcIuNF8WaTdaNfxEZElvcwvDIv4o7Cvzo/4Iz/tdTfsy/wDBFf4iWfjmRJfEX7H154m8J69EwKtKdKMlxAqqTkq0UkUSEY3FMDkGv04r8I/+Cp3gfxB8Kv8Agpz8UP2b9Ct9Ui8N/t+Xvg2/W4th+50xrbUBb6yy45UvbwtLL1JVxz0FAHpv/Br9N41/Zh+KvxM+CPxG1Ca71j4heFtA+Oujm4O2addVto49SZ17MlwbeJiOrIScZAHb/skjRf2hdX/4KPftJeLtFk8YeC/EEuqfD3T9JkvGtIdZ0HQdMlguUimjBeKO7Z2HmL8ykFgAwOW/8F//AIk3v/BM349/Av8Aas8LabK0WhaNr3wx1a3tIA3npeafLcaRGem2OK9hZjnI5GBnhvbPgB+y5N+xt/wbx3ngG+haHWtP+EesX+tByWf+0rywuby7DMeWInnkXJ7KOgwAAfLf/BQj9rTx58HP+CDHwL179nT4Z6l8OPAPiDSvDl6L7SfiFLbXvgpZLyzaDTVdkFxfJceY8LzF0wpLOrBitd1/wW6+NPxO8e/8ETvHWvfGT4T2fwd1fS/G3h0Q6VZ+LIfE4urNNUsZPtPnQwxBWLGRPK2k/uwc/MAOP/ad8Ja14l/4NKfhTLoui6prs2heFPBet3Vpp8Bmufsttd2U00ip1YJGrMcdFBY4AJHbf8Flv24Phf8At9f8EVvFHjP4S+Jj4s8M2vjnw1p0t8NOurOMXC6rp8rRgXEUZYqsqZKggMSpO5WAAPU9d/4LX+MvhT8RPhzffE79mbxx8Nfgv8V9etfDnh7xrqniCykv7e6uz/ov9o6TGDJYpIoZjvlZkCkMu75a7nxp4k+HEf8AwXc8F6LdfDOO6+KVx8Hry/svHh1y4VrLTY9TMZ077BjyW3STSSeeTvXcUAwc1x//AAcWf8mN+D/+yq+Ef/TnHTfiCpb/AIOXfh3gE7fgBqhPt/xO46AKun/8FoviJ8W/jF8Yvhz8If2YfE3xM8ZfB7xdfeH78jxXa6PoslpAsfk3L39xCFS5nczqtoiSlRDuaQKwI+hP+Cbv7f8AoX/BR39naXxxpOhat4T1TRtZvPDXiLw9qbo93oGq2hUT2sjJw2A8bhsAlZFyqnKjwP8A4Inf8l1/bi/7L9q//pLa1F/wQL/5vU/7Oq8c/wDtjQB77/wUE/4KCaT+wf4T8Jxp4W174hePfiNrK+HvB3hHRWjjvNcvSpc5kkISGGNQDJK2QgYHBzXnegftUfGv4w/Cj4teG/i/+zhqnwXktfA+pajYapB4vs/E2laiBAUaDzoEjaKcbydjpyqMQSBXmP8AwWu/tL4A/te/sgftLXXh3VfEXw7+B+v6/Y+Mf7M02XUbjR7XWLCK2TUGhjBbyoGhZmYAkMYwASQD6do3/BVj4J/t6/Cz4p+HPhF4i1bxoul+BNV1S81e30C+t9ItgIfLEBup4o0Nw3mhhEuTtRycbTQB5/8A8Ewfj1rf7O//AAQf/Z31rw38N/GPxW1+88P2WnWGgeHEiWaWWRpSJJppnSK3t12nfNIdq5UYJIFdp8Af+CqXjm//AGzvCvwL+O/wD1D4IeLviNpt7qfg26t/Ftr4n03XhZR+bdQGaCKPyZo4gzlSrDCj5huTd8bx/tMfEz9lj/g3T/ZH1fwLrGueC/DurTaRpfj3xho+h/2xqHhDw/L9oNxewwFXAYFUXzCjbdwAG5lNcL+z34p8D/EX/guL+xrrHw3+On7Qn7Qvh21fxnBd+JfH5aTRba6l8OzsINKkNpbZciNzOqh1ULbjcCGFAH3N4k/4LAfELxp8YfiZpnwV/Zn8UfGbwP8ABrxHP4U8W+IbLxXYaZejUrYIbu3sNOmUy3jQ78cvEHYYTdkZ9A/bJ/4KVa58Cvjh4E+Evww+EmqfF74t+PNFuPEsOgy67beHLfS9MhZUee5urhXCsXYqI0R2JRs443fnj/wUd/aL+AvgD4q/FTxl8BvHnxv+BP7ZUeqTWp8F6PoGotH8RdSglaGJrjTGhlsruG4VS6XCEZDrIwZyUb6G/wCCmPxM/Z21S0+EMX7WV98QPgj8WtN8I22vaN8SfC0GoWH9h6jcI0d9YWuo2aygTRyRFmgnUpsliKlmc0Afdn7J3xs8T/Hv4P2+t+NPhv4g+E/imG6mstS8O6tcxXbW0sbY3w3MP7u4gcEMkqgA5IwCDXjP7Z3/AAUn8Q/A39qDw38DfhP8JLz40fF3XvDkvjCfSW8SW3hyx0rR0ufsv2ma7nRwWaYMixpGzHaSdowTzv8AwQj+M/xW+OX7Gmtat8UtU8ReJraz8aarp/gfxJr+j/2TqninwzEYhY6hcwbVKySEzDLKCVRSdx+dvMf+CyPjz9k+H48+HLP48eIvid8E/iJ4d0X7b4O+KXhmDUrCWJJ5JVks7a/tI5UkkRotzW88ZAEqlM+Y2QD3j4j/APBUK0/Z2/YI/wCF0fFn4aeOPh/ri3w0T/hBJFhvtYu9Ve5NtDaWrxt5VwszDfHKpCtH8+BjFN/Zf/bQ/aB+Jvxj0fw/8Uf2UNc+FPhzxBBNNZ+Irfxxp/iKGzZInlEV9DAiPbO4UKD8672C7s1+efxI1T9oL9pr/gjR8I/i1400XxV8TtS+BPx70/4g2gu/Dhs9d8Z+EtMuJ4obt7BQD5jpcFyCozDGXJYZkb9AP2ff+C1vwG/bF+IWl+DfhD4g1vx14s1a1uZ/s1t4b1CC30dobaSbbfzzQxxWxZo/KAZsmRlXHINAHnPx4/4K8fG74KeCfEXxIk/Yz+IB+C/hMS3Oqa7qvi7TtM1+OxhYiW8TRSrymNVG/EksbbMsQoBNeU/8FoP2/wD4xWmnfse+Jvgb4X1S/wDh38RviN4M1jTfEFj44/sGTxlLfLeSReGbq18sulrdQeTI88rPEpIVomK5r4l8f/teXX7WX7DnxUX4xftJ/tQQftOX2ja/p1/8E/CehNpOj6ZJ5dykdtd2osX3ad5PlGeaS4U+WZAW39fqX9se/k8C/wDBEL/gm/8AES60/VLrwp8IfFXwr8beLLqxtHum0nSLTSD9oumjQFiqGSMcAnLigDof+Cvf7cX7Wngj4GfAu/j+CVx8L9S1f4m6HHqH9i/FqGR7q4+2zJDokrw28fmW97GqNJI2Y03bXjfFfW3xF/4KSeJP2Y/2UdL8afGj4Q33hH4jeKPEcfhXwx8PfDviGDxLfeI7+c4tYoblI4YwZAsjNuAEaxkkkkKfnX/gsr+094P/AGqP+CbXwt+N3w1utS8bfDXwP8YPDvifVtV07SrrMOm6feyJd3KxSRpI8cbYBZVKnqDgEjjP+C1PiDwT/wAFNv2Q/gb8cPh1pniL42fBn4Z/EuK+8Y2Hh201Gy1C/wBICGK8mtcLDcN5PALRYxuY71EbsoB9JeAf+Cq3xI8E/tD/AA+8A/tCfs46v8Eovixfto/hXXbTxlY+KNNuNR8tpFsrprdIzbTOqkJw6sejEBiuR8U/+Cx3jW3/AG6fix+zv8K/2eda+K3xC+GjaXcIYvFEOkaZcWN1p1veSXN1dTwGO0ZHuVhjiBmeZlZv3YBx86/sheA/+CYvxb/ag+Gq/Brw14z8dfETTdcg1bSPIuvGV9F4ZvLY+el1ei8m+zwCJkHEwPzADaa9+/4J4ow/4Lqf8FFG2naT8NQDjgn/AIR6f/EUAfePhu/u9U8O2F1qFi2l31xbRy3Nk0yzG0kZQXiLr8rbWJXcvBxkcV+eHgz/AILlfEz4/f8ACx7X4O/sn+LPiRqHwn8SavofiSX/AIS220rTI1sriWKMW1zNBuuryWOPzTaxRHyxJGDKSwz+jlfAv/Bvf/yQr9oD/sv3jP8A9KoqAOP8Mf8ABwP4k/aH/Z0uPix8C/2X/iB8TPAPhfTlvvGGqX+uWmgDSpETzLq2sUkSR9Slt0DF/KCKcKAxLAV9Saj/AMFAofFv7E/gv4zfC/4deOvixH8RLeym0Lw/osEMN8WuULD7VJM6w2sURVlllZiisAAWyM/GH/BvRbyL/wAG2UaGNw7aZ4uAUryT9pvR/PivGPhd+0x8TP2WP+Da/wDZR1fwLrGueC/Dura5Fpfj3xho+h/2xqHhDw/Lf35uL2GAq4DAqi+YUbbuAA3MpoA+6vgD/wAFUvHN/wDtneFfgX8d/gHqHwQ8XfEbTb3U/Bt1b+LbXxPpuvCyj826gM0EUfkzRxBnKlWGFHzDcm75h/Yb/bq/a68Wf8FZP2oNB1L4Gz6xZ2t74Ji1fwtefF6GXT/hZBNpr7prLdbmO6+1x7rmRIEhIeMKxZjuHjf7PfinwP8AEX/guL+xrrHw3+On7Qn7Qvh21fxnBd+JfH5aTRba6l8OzsINKkNpbZciNzOqh1ULbjcCGFfR3wq/av8ABP7CH/Bfr9rHTPivfal4Tl/aBTwEfh9LJpN3dQ+JmtNMNjPHA0Eb/OtzOiYbGNrE4AzQB6p8U/8Agsd41t/26fix+zv8K/2eda+K3xC+GjaXcIYvFEOkaZcWN1p1veSXN1dTwGO0ZHuVhjiBmeZlZv3YBxtaF448D6j/AMF0LXQ7r4Qx6d8aLj9n+PxRL4wl8SzSG2sjrQtW0VrRFNuds37z7WpLEAqF28nmf+CeKMP+C6n/AAUUbadpPw1AOOCf+Een/wARUd5dR6d/wdFzXVxJHBa2/wCymXlmkYLHEo8Wkksx4AABOT2BoAs6B/wXm8L6D+yv8ZvFfxE8F3Xgf4qfBLX38Lat8OI9UOoX2p6lKxXTI7KbyI2niveDHIsPCrI21kQM32l8FvFPiLxx8I/DeteLvDcPg7xNq2nQXep6FFqH9oLpE8iBmtjceXH5jRk7SwRQSDjIwT+G37R/grxl+2b8e/EX/BSzwD4N0vU/AvwO8SWEXhrwzc6eGuPiJ4f0lp49R1wntMpkZrZ2GUjtSdu6NA/7hfAH45+Gv2mvgn4W+IXg6/XU/C/jHTYdV024A2s8MqhgGX+F1yVZTyrKwPINAHXUUUUAFFFFABRRRQAUUUUAFFFFABRRRQAUUUUAFFFFABRRRQAUUUUAFFFFABRRRQAUUUUAFFFFABRRRQAUUUUAFFFFABRRRQAUUUUAFFFFABRRRQAUUUUAFFFFABRRRQAUUUUAFFFFABRRRQAUUUUAFFFFABRRRQAUUUUAFFFFABRRRQAUUUUAFFFFABRRRQAUUUUAFFFFABRRRQAUUUUAFFFFABRRRQAUUUUAFFFFABRRRQAUUUUAFFFFABRRRQAUUUUAFFFFABRRRQAy4h+0QSRlnUSKVJRirDPoRyD715R/wpr4jT/8fHxUuG+0f6DdeVo0EW6yX7ssW0/ur84O+Yfuj5j7YE2xeV61Xnvxj/a3+FP7O2q2Nj8QPid8PfAt9qmPsdv4h8RWely3eTgeWs8il+ePlBrGrRjU+K/ybX5NHoYHNK2Ev7JRd7fFCE9u3NF2+Vr2V9kfMf8AwUg/Zz8afEL4D+bp3xZ8HWHxb8A3o1zwzrHiFf7JsdNtJ7S80ieSb7PHJI8ktvfTl/LURyTpCqpCu0Li/A79i7Qvgl/wUAstb0zx14BHwi8D6PaazpXh9L8/2lYeIJ9HsfD0VzsC+Stu2mWwVSshZ5L0/IuQ8n23LoHhv4jvoWvNa6Prjaeftuj6gEjuPI8xMeZBJzgMpHKnB4PYVU0z4I+DdE/sv7H4V8P2v9h3U19p/lWESfYp5c+ZJHgfIzZ5IxnA9BjNQrR92Fred2/vv/VvPT0J4rLa69tiVNVHvyKnGF+lkkklotkvivZ8n7zqKKKK6j58KKR3WJGZmCqoySTgAV5p4M/bU+DfxG+Jkvgrw98Wvhnr3jKAssmg6d4osbrU4yoywNskplGBycrxQB6ZRXkei/tn+Ftc/bh1v4Aw2OvL4y0Hwhb+NJ7t4IhpsllNdNbKiSCQyGYOuSpjC7SCGJyB65QAUUUUAFFFFABRXNH4z+D1+Ky+Az4s8Nf8Jw1gdVHh3+04P7WNmGCm5+y7vN8kMQvmbduSBnNdLQAUUUUAFFFFABRRRQAUUUUAFFFFABRRRQAUUUUAFFFFABRXF/CX9ozwL8eNZ8Wad4N8VaL4kvvAesS6B4hgsbgSvpF/FxJbTAfddTkEdirDqCB2lABRRRQAUUUUAFFFFABRRRQAUUUUAFFFFABRRRQAUUUUAFFFFABRRRQAUUUUAFFFFABRRRQAUUUUAFFFFABRRRQAUUUUAFFFFABRRRQAUUUUAFFFFABRRRQAUUUUAFFFFABRRRQAUUUUAFFFFABRRRQAUUUUAFFFFABRRRQAUUUUAFFFFABRRRQAUUUUAFFFFABRRRQAUUUUAFFFFABRRRQAUUUUAFFFFABRRRQAUUUUAFFFFABRRRQAUUUUAFFFFABRRRQAUUUUAFFFFABRRRQAUUUUAFFFFABRRRQAV+Kt9qvwv/4J+f8ABSv9oq+/ba+EMfiTw38a/FBv/BnxX1zwwviPQrfR3URw6NKxjkNp5K+XGQq/Nsy4CLG7ftVXwv8AGT/gqHrmmt40+H/j/wDYv/aM8SXBurzSrS20XwtD4m8NeKbTzHjgkN6riKKOZNjus6L5Ykx85VqAPqT9kzwd8NfAf7OnhXTfg8uiL8Mxam58P/2Pd/atPa3mkebMEm5sxlpGIAbaoO0AAAD0SvzC/Yh/4J/fGr9lH/giFrHgmfxvefBTxRe3mt+Lr2z0MJqV/wCGNLnimmXRrK6kYpazhhGWuVWUxlpvLAkZJ0+zf+CZXizVfHv/AATb/Z813XdS1DWtb1r4a+HL/UNQv7h7m6v7iXS7Z5ZpZXJeSR3ZmZ2JLEkkkmgDz/45/tk/tMfD34s65ovg39jfXPiD4Z0+fy9P8RQ/EzQNMj1WPap8wW9xIJY+SVw4B+XPQivRP2Ofj38XfjjF4ib4q/AXUvge2mG3GmLd+L9M8Qf2yH83zSpsnbyvK2R58zG7zht+61ed/HP/AIJN6f8AHT4s654ul/aC/aw8Kya5P57aT4Z+KN5pek2Pyquy3tkG2JPlztHck969E/Y5/Yltf2N4vES2/wAUPjZ8Sv8AhIjblj8QvGVx4iOn+T5uPsvmgeTv8359v3vLjz90UAfLP/BwJ418S+PrT9nv9nPw7rGqeHbX9pH4gQ6B4m1HT5fJuRoUAWS+gRxypkWRCccMsbIcq5B9t8Uf8EVv2X/EPwVsPA1r8HfBvh2z0dIjpWr6HYJp2vaVPFgx3UOoxgXK3CsofzTIWZhlt3OeM/4LY/sQePv2ovhn8M/H3wfh028+L3wB8Y2vjbw5p1/KsMGuLEQbiwMjYCGUJGQSQpMe0kbgy5Nj/wAFc/ir8UvD8Ph7wR+xz+0Hp/xUvCtqbfxlo66L4T0mY8PPNq5cpNbx/e/cIZJAMBVY8AFP4ef8rL3xG/7IDpf/AKepKT9qD9pX9u/4VeAfHvxP0b4a/s7aT4D8CQX2qf8ACLaxrOpah4n1fTrQO7TLc22yzhlkhQyLEVkxnaWzW/8ADv4T+LrX/g4H8deNrzw1rcPhO8+B+maRHrv2CYaXNfLq0kj20dwVEbSqnzFAdwUgkAGvzTj/AGU/FnxY+CXxD8M/tBfs0/tafGb9ra+k1i3i8UNrOpW3gWNnaUWtxZ3UN3FZi1jjMJ+ziGRmMe1Yyp2KAfof+1H/AMFh9a0X9mL9mfxJ8LfD/hWw8UftTT2kOhXXj2+ltfD/AIZ82zFywvpYPneTLLFHGhUyNuIPG09p4x/bO+On7Ff7CPxi+Jn7QXgXwHqniD4ZWjX+lv4Avrk6X4mhZVCZiuQ1xaFJGAlL7wEy67tpFeIeHVX4R/8ABHv9mX4e/F79lP4i/G3wbeeCrOy8W6Ppfh4alrPhG+gtbcW/maVLsuNzF7gGSIrJAYcYJkGMD/gmb4V+KX7L/wAB/wBpjxBo/wAEPjBrHwJvtQ0gfCz4QeOL9f8AhI4tN8vydaRILt5DFCyyeZDaTNmQQGPhnMjAH0r+wH8c/wBqf4v6x4b8Q/E7Sf2e9e+FfjjRTqmnaz8OdWvnuNGkZVeKOcXRZLtHUlDJAV2uOV2819U+OtDvfFHgjWNN03VrjQdR1GxntbXU4I1kl06V42VJ0VwVZkYhgGGCVweK/KL9gj4KXLf8FV/BHjD9nX4EfHj9m74Kx6XrD/FbRvGmmy+HdC126ltgunLYabJLIhnjuMM8kCiMImFIG7zP1g8ZeJF8G+ENV1hrLUtSXSbOa8Npp1ubm8uhGhfy4YhzJI2MKg5ZiB3oA/LH9mj9hvwj+wr/AMHDPgzRfDd94k1/VfEnwQ1XWPEfiLxDqcmoat4j1BtWgje6uJW43FY0AVFVFCgBRX6wV+P/AIs/b61rWv8Agsh4R+O0P7L/AO2N/wAIPonwsvfB1wrfCLURfG+m1FLlCsfQx+Wpy24HPGO9frd4N8SL4y8IaVrC2WpaaurWcN4LTUbc215aiRA/lzRHmORc4ZDyrAjtQB8A3/8AwUS/aW/aY/a7+NHgf9n3w78BI9L+BGrR6Nqmk+PNS1CHxF4lk8tJHmtlt8R2tuxZkjmlWRXKg8AkL6N+27/wUK+JXw3+Mvwj+B/wh8D+F9U+O3xZ0yfW5YfFGpSDQ/Bthbxgz3F41sPNnHmbokWLbvZGIbop+S/+Cs2k6d+0r4p8eWMf7Gf7ROm/tLaLNeaZ8Ovib4F0/wAu0unTfHpuoTa5bSxLHAU8t5ILoZiVmjU7hvHoPx9+GHx6/ZE/aX/Zc/aU1LwV4o+NmoeFPhb/AMK7+Lem+EYI7/WluXjhnfULS3ypug14JCyx4O1BgAPwAfS/wq+Iv7YHhD4VfEY/Ef4c/Bvxl420aCzl8GDwRrtzpem+JJJpJUmiuRf75LQ26rC7NmQSK7BMsNteL+L/ANvP9q/9ir4//Bm0/aE8J/AfVvhz8bPGln4Btbn4fT6oupeGtUvt/wBkE5vD5dzExUhmjSMgRu2B8qtV/bQ/aw+P37dX/BPj40W/wG+Dvx2+E/ifS7XTDo1/4ksovDmva/E93nUYdPt3dpopUtUIWRgrMZcR/MF3fEniP9j7w98RPjj+y/4m+C/7JX7WHhHUfCnxl8Jaz418X/EmXV5J47VL0echs7i6mDqpKyy3iQxxRJBjfiRhQB7v+0jbftWN/wAHFejr4K1L9n2HxBJ8KdUPhlta0/WJLJPD/wDa6fJerDMrtf8AmbTuiKw7c/LnBqH9qi1/a6H/AAXe+D66Lqf7OaeLpPh1rX/CPPeadrR01bINb/bBdqk4kaYzDMRjYKExuBbmvbv2+9R8afso/wDBYX4W/tAW/wAJfih8Uvh6/wANdS8C348A6I2uanpd698t3G8tqhDCFlAUPkDO7JGADD+394i8bfA7/gpb+zn+0da/Bv4sePvAdn4K1jw5run+EdE/tjX/AA9c3ghmh8+yiYkrkFGZGKqVf5iQgcA2v2xv+CqPj74MfHbwb8AfCmofAXS/jLJ4Pt/FPjPxP481qbSPBuiBmEJitovMF1cSyzCRo4vMDJHsZ2OWK7X/AATR/wCCpXib9pH9qbx18CfiZJ8IdU8e+ENCg8U2HiH4Za62p+HvEGmyTCB2VZGaW3mhleJXjd2P7wEfLtZ/n/8Abi/ZruPDv/BSvw/+094u/ZX1j9ob4R/Ej4c2eia94Vl8KWPiHxN4D1OORZopf7NkZ1kbyj5UnksxVvOG/ARZPqD/AIJpN8N/EnxE8T6x8Ov2N9S/Zw02DTorYeItZ8B6b4Q1DXt8gd7VbaEfafKUojkyhVLBeMgGgDyf/gkb/wAFEP2sv+Cnfwz+HvxPm8C/Brwb8K7ieaz8RXV4dRXVPEjxSSxyz6PEsskcEMUiiL/SXkMjxy48sAV9nftu/GvVf2a/2L/i98RtCt9Pu9b8A+CtZ8SafBfxvJazXFnYzXESSqjI7Rl41DBXUkE4YHkfOP8AwbjfCTxV8C/+CMnwb8K+NvDWv+D/ABPpY1o3mka1p8thfWnma5qEsfmQyqrpujkRxuAyrqehFe3f8FNfCeq+Pf8Agm3+0HoWhaZqGta3rXw18R2Gn6fYW73N1f3Eul3KRQxRIC8kjuyqqKCWJAAJNAHwj43/AOCu/wC2F4I/YP8AD/7WF98Ifg3p/wAF007StU1Xw7c6lfHxZqdhcmGNtRtnVja28UjzLJFDJ50ixMCzEjB6T42/8FZv2n/2b/hh4P8A2hvHPwp+Fvh/9m3xJq9ja3uhyapdv460HTb2ZYrbUbmXIsQSro7W6qxTeqGTO9kuftd/ATx14o/4NYtJ+Hmm+DPFWoeP4/g/4T01/DVvpM8msLdQQ6b51ubRVM3mx+W4aPbuUowIGDUn/BdT4A+Ovi//AMG/sngnwn4N8UeJ/GX9n+F4/wCwtJ0ua81ItDcWZlHkRq0mUCsW+X5QpJwAaAPqj9r7xd+00PGuk+H/AICeEfhT9hmsTd6l4t8e6pdGxtJfMKi0isLMC4lkKgOZGkjjAYDLEEV4f+yv+3X+0Z+0rp/7Q/wfufDvwf8ACv7TnwF1LRbWS9m/tG78E6tbaiouYblY1dbxN9rFcEIXJV2hJOC6DyP/AIK7/Dvxh4n/AOCinhe4+KHw9/aK+LH7LM3gz7Pa6B8J5L2QW/iIXTtJLqVvYyw3Lxm32orl9ilhj/lpix/wQD/Zg1b9n/8AbI/a21aP4J/ED4IfD/xpH4NufCWkeKrq41C4aGG01FJs3kss3mzb2EskQnkNv9pSMkYAoAy/+DVeL48t/wAE4PhLLql78JX+BH2LXBpMFtaaiPFy3I1q8B8+VpTaGLzhcYCRhtnlDOQxPff8Ewv+Chv7WX/BSPQfDvjK18C/Brwn8N9G8QXmjeKdR1M6il74kWG/mjdtGhSWRYhDbCFWe5Z1luBKqhFUlav/AAbweJ/G/wCzN+zD4a/ZY+IXwX+L3hPxb8L31v7b4pvdBK+EdSjk1Se6ja11EsFmLrdhVVFY/unJwBXpn/Bvj8J/FXwV/wCCZ+h6D4y8N694T1yPxN4iuH07WdPlsbtI5dXunjcxSqrhXRlZSRhlYEZBBoA4z4CftIfE7xv8Nv23Lj4I/Df4MaN8Tvhn8UdV07RbWDw7LbweNZYIbeZpNR8m5iafUJ1aRBceYi7zGWXAOaXwn/4LjXv7cWv/ALP3gv4A6Pod58Q/iAp1r4kWuuQTXEPw00m0cw6gtxHHLE/2p7kGK3DMA3yuyhXWsn9mPxP8SP2FfAH7efj+2+EXxB8UeItU+Mmqal4L0G28P3jzeKjPBaRW00ISMs9mZDl7hMoqRyHdlcV5T+y/+wd8Zf8Agjp+0v8ADD40LY+JvixJ+0G7aR8fdP0LSn1CXRNYvbmW9h1e2it4y4tbaSaSGTChAiFsbpVCAH7DUUUUAFFFFABRRRQAUUUUAFFFFABRRRQAUUUUAFFFFABRRRQAUUUUAFFFFABRRRQAUUUUAFFFFABRRRQAUUUUAFFFFABRRRQAUUUUAFFFFABRRRQAUUUUAFFFFABRRRQAUUUUAFFFFABRRRQAUUUUAFFFFABRRRQAUUUUAFFFFABRRRQAUUUUAFFFFABRRRQAUUUUAFFFFABRRRQAUUUUAFFFFABRRRQAUUUUAFFFFABRRRQAUUUUAFFFFABRRRQAUUUUAFFFFABRRRQAUUUUAFFFFABRRRQAUUUUAFFFfM/7Un/BYn9mv9jH4mS+DfiL8UtL0fxVawrc3el2mn3urXOmxMqsJLlbOGX7MpVlbdNsG1lPQg0AepftUfDPxr8Yvg5qXhnwP4p8L+EL7W45bG+vtd8Nz69CbOWCWKRIoYb6zKTbnRlkaR1ARgY23Blwf2Dv2ePF37Jv7MXhH4a+KvGHhvxtD4D0ew8PaLf6T4am0NvsFnaRW0QuEkvrsSzkRbmkQxId2BGuMn0H4R/F7wx8e/hro/jHwXrmm+JvC/iC3F1p2p2Ewmt7uMkjKsPQggg8ggggEEV0dABRRRQAUVm+MPGOk/D3wrqOu69qen6LoukW73d9f31wtvbWcKAs8kkjEKqqASSSABXyz8Nv+C7v7JPxb+Kdj4N0P406BNrOqXX2GxkubG+stNv7jIURQX08CWkrliFCpKxYnAyeKAPriivA/Dv7cQ17/gpZ4k/Z2/4Rgwt4f8A2vjka/wD2juFwJ71rX7L9m8obdu0N5nmnOcbRjJ98oAKKKKACiis3xl4y0j4d+E9S17X9U0/RND0a2kvb/UL64W3tbKCNSzyySOQqIqgksxAAGaANKivkz4Xf8F0f2T/jL8Y9M8B+HvjNoV14k1y5FnpaT2F9Z2eqzFgix215NAltOzMQoEcrbmIUZJAr6zoAKKKKACiiigAorBn+Knhe1+Jdv4Lk8SaDH4xutPbV4NCbUIl1OayWQRtdLb7vNaESEIZAu0MQM54ov/in4Y0r4iaf4QuvEeg2/izVrSXULHRJdQiTUby2iIWSeO3LeY8aFlDOqlVJAJGaAN6iiigAooooAKKKKACiiigAorA+GHxW8L/G7wLY+KPBfiTQPF3hnVA5stX0XUItQsbsJI0b+XNEzI+2RHQ7ScMrA8git+gAoryn9mn9tDwJ+1p4o+JWj+DLvUrq9+E/ii58H+IRdafLapDqEHEixs4AkUHI3LwcZ6FSfVqACiiigAooooAKKKKACiiigAooooAKKKKACiiigAooooAKKKKACiiigAooooAKKKKACiiigAooooAKKKKACiiigAooooAKKKKACiiigAooooAKKKKACiiigAooooAKKKKACiiigAooooAKKKKACiiigAooooAKKKKACiiigAooooAKKKKACiiigAooooAKKKKACiiigAooooAKKKKACiiigAooooAKKKKACiiigAooooAKKKKACiiigAooooAKKKKACiiigAooooAKKKKACiiigAooooAKKKKACiiigAr8moPEXxO/4Ibftn/tC+PPFnwd8QfFv4CfHHxRJ4zuPHHhGJb/AFzwnvzvtL61Yh2s4N52MCEjQMQWLsifrLXxP44/am/bY8BeJ/E3h+3/AGUvBfxEt21C6j8P+KNH+JFnpemPZtKwtnvbO8H2lHSIxmURFw7BwoUbcgH0V+xz8aPhf+0J+zl4b8YfBu70K8+HuuRyXOmtpNqLS3jZpXaZWhCqYpRMZPMRlDBy24ZzXp1fAH7En/BK34efsU/8E2IfD/7SUfgHxVZaJq+p/EXxTDfwZ8I6Vd3CMZVFpL+4mgtovljM0ZCspkRUbbj1X/gjd4H1PwZ+xitxNpOqeGfDHiTxNrWveCvDmoFhceG/DlzeySaZaFDzCv2fZKsHWFJljIBQgAEPxz1D9uaL4s64vw00n9k+fwKJ/wDiTyeJtW8QQ6s0O1f+Phbe2aIPu3fcYjGO+a9E/Y5uv2jbmLxF/wANA2PwTs5FNv8A2F/wr2+1O6Dj979o+1fbYo9uP3Ozy85zJuxhc+d/HP8A4Ib/ALKX7SvxZ1zx144+Deh+IPFniSf7VqWozX99HJdSbVXcVSdVHyqBwB0r0T9jn/gnP8Ff+Cf0XiKP4O+AdN8Dr4sNu2rC0ubib7abfzfJ3edI+NvnS424++c54oA+Q/8Ag4R8z40+P/2Sf2f9QvGs/BPxq+KVvH4rjW4MI1SwsfLlNixHVZWlUgf89I4yOQK+7vH37Mfw7+KXwOk+GfiDwX4b1T4fyWaaePD81hH9gigQBY0jiAAj2ADaUwVwCCCBXhP/AAV3/wCCeuuft8fBDwrN4D8RWnhH4tfCfxPaeNfBGr3aM9pHqFsSRDcBQT5MgxkgEhkQ4YBlbgbH9pD9vT4qeH4fCMX7N3w/+Ffia5K2t54/1Tx7a61oFivSS7ttNtx9rlfGWjhmKKGwHcrkkAp/Dz/lZe+I3/ZAdL/9PUlef/t3/EX9pv4AeFPiB45vv20Pgh8P/E3hm0v9a0P4Xw+GNNaz1S1t1eaC1lur6X7c9xNEEUvEqKJHG1dpFe+eA/2W/Hmjf8Fu/GPxgvNHX/hX2qfB/TvCtvrAurcfadTi1N55IhAJDMuIyG3FAnOAxORX56/Cv/gkd8bvhv8As/8AxA+EfiL9j34J/Fj4jeIrjWM/H7xZ4i06/fU/tTzNHei3njk1CO6RZQERTGm6NWZwcsQD6S/bP/4KwfESH9gT9lf4iaDrGj/BPTf2gJdPHi74gXWjf27p/wAPEuLITDEEmEPmzEokk/yKqNu5O4enXfx0+O/7Ln/BMv4w/EiH4keC/wBq7VtA0uXWfAmv6Do8No2pw7Bv+1Q2LG3mWA7pc27KZERgQpwaofDLwb+0b+yL/wAE2f2dfA2g/Anwj8XH0HwZD4f+IfgrU/E1pp+oRTJb26RfZriQyWM0astysqOSHzFscAMTw3/BPP8AYt+P/wCxx4N/aa+JXg34U/Dj4Z+IvixrOjat4O+DUniH7Ro2gpZr5V/vurUCCK4vI3kK+SDFHJHDnMa7AAdz/wAEl/iv8VP2hLnRvHTftcfDn9o3wDrmkeZrmiWfhSy0XUfCl86q8aRfZW8xQpzG0V4ofHzA54r7n8W+EdJ8feGNQ0TXtL0/WtF1aB7W9sL+2S5tbyFxh45I3BV0YEgqwIIr81/2dP2Mfi58av8AgrP8Pf2hdc/Z08K/sr6b4F0jWbTxOun+K7HWL/4kzX1sIYUmWwVYvKt5P3wknxIzKuV+VNn35+1B4m8eeDf2ePGWqfC/w3Z+L/iJZaVPJ4d0a8u47W31C92/ukkkkdEVN2CcumQMblzkAH56/wDBx54d0v8Aar8K/BX9lXwTYw3vxe8deL7HV9IFlEBL4M0i0Ei3Oqsy8wRoh2LjbuAcLkpg/qNX5A/8E7fCP7Wv7G2qeLPHvjP9i/xb8Uvjt8SJjN4s8cX3xY8MQSXEQbMVjaQ+cwtrOIBAsSnBKgnhY1T9bPBuq6hrnhDSr7VdLfQ9UvLOGe8017hLhtPmZAzwGRMo5RiV3Kdrbcjg0Afl/wCMf20Pjl+0P/wUa+MXwr0n9pXwP+zLrXw71W3sfBXgbxD4Psr9/H9q0KyLfvdXTrJJHM28COzIdEwSCVy3tX7cv7Vfxu1n9rD4N/sx/CXXPDPgT4hePPDl14s8Y+NJNIOsW/hnT7bETGytZiqSvLc7kUzZCrtyMtkeWf8ABUT4MftGftu+CfiJ8H9c/ZB+FfxDtNYnv7HwP8TW8aWVpD4ZtZmcWl7Lazob6O7gjMbSC3LJLIrAARnad346fsEfHr9nD4l/sy/Gr4Tw6Z8ZfiB8F/h4nw38baBqet/2TN43svs8QNzb3U+Y45/tKPMfPOGJTJJU5APdvhb8F/2sPg98J/iRpmr/ABv+H/xa8S3dvaN4H13xD4QXQv7LlMkovPt8FgfLmjWMwtEYwhZkYPgHdXyP4z/bY+NP7D37VvwJtdY/a0+Gf7S2g/Fj4h6b8PfEfhCy8P6RpN94bk1BmSK9tTZSvP5UTjDC4L9EUndJuX0n9s34aftaf8FP/wDgn38ZvAup/C7w/wDAbVNWttMHhrS5vHMeqX+vCK786/tru4sgIbeGaGNIlCu2d7ByFYlfnXXv+Ca3xW+L/wAQ/wBm7VPC/wCwr8G/2bdP+FPxV8L+J/EV/pWv6LfeI9StLW6BudlxbKm+yjRmlZJZnnleOHbFleQDpf2k/wBmn44+Lv8Ag4s0ex8O/tKar4R1bWvhTqmr6LqcfgbSL1vDulf2si/2QsUqFJ13kP8AaJQZflxnBqH9qn9l749at/wXf+D2lad+1Bq2k69q3w61q50nW18BaNM+hW0TW6XFssDJ5cwnk/eF5AWjJ2rgV9G/t5/BH46fDH/gp18Nf2jvg/8AC+x+M9hpvgW/8B634bHia08P3tmJboXUd2k10RE67gFKjLAKeDkEQft3fBr4/aB+3R8BP2kPhl8KNM+J154U8K6p4Z8U+C4vFVrpV3Zm9WKQS295dbIZVjkVlJIUsFGF+cmMA8j/AOCkv/BWrWf2af2p/CH7N93+0N4e+Cdxofgq113xf8VdY8HrrN/rV4xESW1npyIbWGSXY88jOpjRZNqLlMN0v/BGX/gq/rH7UX7Y/wARfgfqPxg8OftEaP4d8NQeLNA+IOleGH8PTzRG4S3uLK9tgqwiZHliKtEAGUseuVj6P9oP9mz9oj4Nft8+HP2sPhH8OvDXjnWfFvw/tvCHxF+Glz4pisbmCVJFuElsNRmjWBzE4ERLiNXEeQuZMxfS37H3xj+Pvxj8R65efFr4M6B8GvDsFvEukWH/AAl0PiDWLuck+Y0zWyC3jjC4ACu7En0oA+O/+CHnxZ/a6/4KJfs8fC744/EH40aHofglZ7q2k8PWXhHT7i68eRQXE9vPc3lyFj+xMJ43jjjtUUBYAz799fb3/BQn4pa98Dv2Bfjh428LX39l+JvB/wAP9e1vSLzyY5/sl5badcTQS+XIrRvtkRW2urKcYIIyK8h/4IL/ALLXjr9iz/gk/wDCn4Z/EvQx4c8beGxqx1LThe2959m8/WL65i/ewPJE2YZo2+Vzjdg4IIHr3/BQn4W698cf2Bfjh4J8LWP9qeJvGHw/17RNIs/Ojg+13lzp1xDBF5kjLGm6R1Xc7KozkkDJoA/NX4pftT/txfDX/glh4c/bK1D4xeA7WzsdB0TxJN8NIPB9tNZa5pV19mUS3OonE6XkyTrMyW6xRRklFHAI6X9rD9rn9sL9jD9mbwh+1t4z+J3gV/A97qulz+I/hFY+F4WsdL0fUJ0SMRatzeTXkccse9sLEXLFUKoFf2L9qD9h/wCKHxH/AODcLTPgJo/hkXXxYt/hb4Z8OyaGdRtI9t/ZxWAuIftDSi3+QwSjf5mxtvDEEZk/4LI/sPfE79q3/giPJ8H/AAD4cTXfiJ9h8OQDSzqNragtaz2rXH76aRIfkWNz9/nb8uSQCAewft/WXxkutX0uTwl+0B8OP2c/h1BaE6n4i1XRbbVNZub4u22GIXzrZRQeWASzB5CSwCqADXzr/wAE+v2ofjf+2Yf2n/gDJ8fPDOoeOPg1qXh8eHvjR4W8PabeR6rY6ijXY32GXsWmEdtLA+35VM7YG6IMa3/BTb9hD4keO/8Agpl4V+M0fwD8L/tZfDO28FHw0ngfW/ENlpy+GNRF207ajHBqBNpMJE2RtwXxnIwi7uj/AOCMH7C/xL/ZW/a4/ae8beNvhP8AD34O+HfixH4TuPDvh/wRdW0mi6f9jtb+K4t40hEZWRPMheVzDGkss8jR7hkgA80/4NVfgt8T9P8A+Cb/AMJfGl58aL/UPhhfWeuwWHw6PhfT4rfTJhrV4hnGoqv2uQmRJZNrttBnK9EWt7/gjv8AFX9rv/goT8NvDPxS8YfGjRPDHgfw14m1HTJNJtPCOn3l78Qbe31O4ErXcwWMWCpHstYhbKHP2dpXLFgG7b/ghl8Gf2hP2EPg5pH7NvxF+EOm2vgb4dPq7aZ8S7LxbaT2/iBJ9Qku4VTTV3XMbsbqUEybAoiHUtivTP8Agh7+y945/Y9/4J96P4I+IuiDw94otvEGu30tl9st7vZDc6pczwt5kDvGd0To2AxI3YOCCAAeX/An42/tB/tlfDb9trwz4P8AiWvh34g/Dr4oap4c+HWqPo+nPFpcNtBbTQWcqyWzpJE7F42llR5VWUsGyq485/Ze/wCCuXxX/wCCnvxQ+D/wo+G9vqPwz8beD3bVf2hNQn0iKX/hGxZTPavo9uLmKSLzr64jdgwBaGIAgllkC9/8GfgX+0Z+yB8Mf219f8DfDmHWfiL8TfipqWv/AA7tJ9Y05be7trqG2hi1GYvOESKIiSQwyFZW8rbs+YGuA+E//BIT4l/8EwvjN8D/AIr/AATW/wDiV4s1RW8PfHuzudXht38ZxXs7XdxriG6lSP7RbXLyFF3b3j8pB/y1LAH6oUUUUAFFFFABRRRQAUUUUAFFFFABRRRQAUUUUAFFFFABRRRQAUUUUAFFFFABRRRQAUUUUAFFFFABRRRQAUUUUAFFFFABRRRQAUUUUAFFFFABRRRQAUUUUAFFFFABRRRQAUUUUAFFFFABRRRQAUUUUAFFFFABRRRQAUUUUAFFFFABRRRQAUUUUAFFFFABRRRQAUUUUAFFFFABRRRQAUUUUAFFFFABRRRQAUUUUAFFFFABRRRQAUUUUAFFFFABRRRQAUUUUAFFFFABRRRQAUUUUAFFFFABRRRQAUUUUAFFFFAHiv7bf7E2nftyeDvDWh6v428b+D7Hwzr1v4iSPw//AGa8WpXNvlrdbuG+s7qG4hjkIlWJ4ynmxxuQWjQr23wS+F2ufCnw/dWevfEjxp8TLi4uPOjv/EltpNvcWqbVHkoNNsrOIpkFsujPlj82MAdpVPxB4hsPCehXmqarfWemaZp8L3N1d3cywwW0SAs0juxCqqgEliQABmgC5RXy3+xT/wAFgvg3/wAFB/2hfHXw9+Ft1r2vSeAbGG/udeaxWHRtTjklaL/RJGfzZQrowLmJUOMqzDmvqSgAoory39tP9rbw3+wl+y94v+LXi+z1rUPDfgu1jur230iGOa9lV5o4QIkkkjQndIv3nUYzzQB6lRXjH7BX7dngj/got+zxZ/EjwHHrdlpst9c6Xe6ZrVqtrqmj3lu+yW2uold1SQfK2A7fLIhzzgeaf8FQv+Cynwn/AOCTOm+GpfiJp/jTXrvxQJ5oLHwxp8F5cWttC8Ucl1P508KRwiWeGMHcWZ5AApwxAB9ZUUUUAFFFFABRRRQAUUVx/wC0L8ZtO/Zx+AXjj4h6xDPcaT4D8P3/AIivYoRmSSC0tpLiRV/2isZA96AOwor5I/4JXftB/tI/tX/DHRfid8XNE+Dvh/4f/ELw/B4g8Lad4afUjrmnx3BWSBLxrgmCUPbOr74thDEDaQSV+t6ACivL/wBt3416r+zX+xf8XviNoVvp93rfgHwVrPiTT4L+N5LWa4s7Ga4iSVUZHaMvGoYK6kgnDA8h37Evxr1T9pX9jL4R/EbW7ews9a8f+C9G8SX8FijpawXF5Yw3EiRB2ZhGHkYKGZiABkk80AenUUUUAFFFFABRXiv7cf8AwUG+FX/BO74Vf8JZ8UPEkelQ3LNFpmmWyfadU1ycDPk2lsvzyvyMnhFyC7KOa6T9kb9pzQf2zv2avBvxT8L2esWHh/xxpyanYW+qxRxXkUbEgCVY3kQNweFdh70AejUUUUAFFFFABRRRQAUUUUAFFFFABRRRQAUUUUAFFFFABRRRQAUUUUAFFFFABRRRQAUUUUAFFFFABRRRQAUUUUAFFFFABRRRQAUUUUAFFFFABRRRQAUUUUAFFFFABRRRQAUUUUAFFFFABRRRQAUUUUAFFFFABRRRQAUUUUAFFFFABRRRQAUUUUAFFFFABRRRQAUUUUAFFFFABRRRQAUUUUAFFFFABRRRQAUUUUAFFFFABRRRQAUUUUAFFFFABRRRQAUUUUAFFFFABRRRQAUUUUAFFFFABRRRQAUUUUAFFFFABRRRQAUUUUAFflb8MvhF8Wf2+P8AgqD+174H1L9of4ueAfhJ8PPEOjfZtI8Ia29hqj3NzpMLqkN6wdrO0QxyO0NuE82SYsx4w36pV8x/sbfsXeKf2eP22P2ofiRrV/oF1ofxs1vRtS0OCynme7tY7PT/ALNKLlXiVEYvyojeQFepB4oA+Ef+CbPwU+O3/BRGy+OHw6+I37VPxl0vwj+zv4/1r4caHqHhHUV0bxLrtxa3Dhb/AFLUVVpZwkbIqxDAY5Lltoz9K/8ABGf4l6n/AMFEP+CZ+ueE/jpJbfEq68M+KNY8A67dalaqE8Sw2NyvlyToDhy0bRq2QN5Q7txJZvRf+CX/AOwf4s/Ym8YftJah4o1Pw7qMPxj+L2teP9GXSpppGtbC9dWiiuPMijCzjBDKm9Bxhz253/gnb+wx8Xv+Cff7GnxY8M6XffDfWviN4m8ca74t8OG6u73+xQt48bW8d46wrMpAQ7xGjYJGC3WgDj/2WvDmn+EP+Dgn4+aXpNhZ6Xpen/CTwtb2tnaQLBb20azzhURFAVVA4AAAArY/4KD/ABe8ReCv2hHstM/b/wDgj+zha/2dbv8A8If4p8O6JfagpO7Nz5l3qEEuyTsPL2jYcE815X4E/ZA/4KAeB/26PG3x2jh/Y7m1zx14e0/w3e6e2t+I/slvBZu7pJH/AKFv3tvOdzEcDAFfoB8Rv2U/hd8YfEZ1jxd8NvAPinVzEsJvtX8PWl9cmNc7U8yWNm2jJwM4GaAPmf8A4Jt/FbXvHXxp1i01X9uj4N/tP28eiSTL4Z8I6Bo+n3mnMJ4B9vd7K+uJDEoJiKsgXdcIdwIAMP8Awcdf8oTvj5/2B7T/ANONpX1J8Mf2Yvhr8E9bm1Pwb8PfA/hHUrmA2s13oug2thPLEWVjGzxIrFCyqdpOMqD2FeXf8FZP2R/En7d//BPH4nfCXwjfaHpviTxpYQWtjc6xNLDYxMl3BMTI8UcjgbY2A2o3JHbkAHyp+xnOv/BPj/gsbr/w1lZbH4e/tbeFbf4g+F0yFgh8TWUCx6tbxjAzJPDi6c5PSMDknHxj/wAFQJf+G4v2Dv27f2sro/afDjXWg/Cn4ZyFg8Z0PTfE2mte3kR7x3V/uZTwR5TA5GDX6Q/8FgP+CXXi/wDb5/ZJ8B6T8OfFGl+CvjH8L9StdS8N+Ibi5nt4IP3P2a8hMsUbyLHJE27iM7mhjBwpaq37Zn/BIy9+If8AwQyuP2SPhVfeHdJ1C30bRNLsb/WXlt7KaSz1KzvLq4mMMcrh5jBPJ8qHMkvO0EkAHl//AAW0/bp8YeDv2xfhL+z74duvjdo/hzxZoV74q8V3nwg0JtU8aXttE7Q29rZlctax+YrvNOqlwBGAVBbPP/8ABLn40fFzwv8A8FE7PwTo2l/tpa98A/E3hm7uL+8+PPhe6S68NaxCweIwanOoZ4Zo9yeS5JDkEZH3fpj/AIKI/wDBPbx98bf2g/hn8ePgd4y8O+CvjR8Lbe80yBfEdjLdaH4k0y6U+ZZXghIlVVYl1ZMlSzEANtdey/ZR0H9rC9+KUmr/AB01/wCBmn+F4NOlt7fw74AsdRuZLm6aSMpcTXt6UZQiK4EaRAEyck7RkA/P3/goz8YPhL8MfEfxMk8Wf8FIPivovxosX1K48P6F4U177Bofh6VGeS002406xhkjkKfu4ZDcyeZJgn5DnHSftV/tt/Gf4r/8ETv2Qfid4b8aTeEvir8QvHfg60vNWs2kt7W9nmkmicXUMTKJbaWRFeW3/wBW4yu3GAOr+A3/AASo/as/ZN+HvxC+Dfw68cfs+2fwo8catqd4PGWo6JfzeN7e3v3ZpI5IFAtJ5UVyiSySMAOdmAqL2erf8EkviRf/APBL79lz4JprXgkeKvgj4y8NeItcujeXX9n3dvp1xLLOts/2fzHkZXAQSRxgnOWXrQB5/wDtQfCv4sf8Er/2kv2YvH2m/tGfGT4pWvxa+Kuj/DPxxoXjLVo7nR9QGqCYC7s7NIlisTEYnYJDjpGMkby36oV8v/8ABTn9irxV+2j/AMM9/wDCLah4fsP+FTfGrw58R9X/ALVnmi+06dp32nz4rfy4pN1w3nLsV9iHBy68Z+oKAPyj/YA+D3xK/wCC3HwD1H9ozxt+0P8AHf4Yaf431jUYvA3hb4deJf7A0/w3ptrcyWsRuURW+2XBkhdnMpKnoBggLxU3xA8eft4f8ESv2vPBfxY+InjSbx1+yrrPjTw5deJPDGoHQ/8AhOV0jS7sRJqEcQAmtZhKyzW7ALKIo2Yltxr2/wCBv/BPH9rb/gm9Y+JPh3+zb4w+AutfBfVdYu9W8P2nxCttUj1bwULqTfJbQfY1aO6iRmdlErISepAJr0n4R/8ABJe8+BX/AAS0+N/wZ0/xZb+Kvif8c9L8TXniPxZqcBs7fVfEGsWcsD3DpGHaK3VmjG1Q5CqzAEsRQBP/AMEI/wBliD4B/wDBPr4W+JIfHvxS8XP8RPh54W1OTTfFPiabVdN8PEaasnkaZA422cH+kFfLTjZDCv8AAK57/gpx8TPiR8Zf26/gR+y/4B8c+IvhbovxD07V/FHjPxP4ekjh1pNOsUQRWtlM6sYXkmbDyKu4ApglQ6t9R/sRfBTVf2a/2L/hD8OdduNPu9b8AeCtG8N6hPYO8lrNcWdjDbyvEzqjtGXjYqWRSQRlQeB4f/wUi/4J+ePPj78bPhP8bvgn4r8M+EfjR8G3vodPHiS1muNE1+wvYvLnsrvyT5qL1ZXQMRufjJVkAOC/aV/Yf1b9jn/gmj+11n42fGL4peHdc+E3iE2mm/EDWxrlxo0yaTe+Y8N2yrKUkDIDG+4KUyDyRWV4fv8AS9K/4Ibfss3XiT9oq8/Zr8Iw/D/wp/bmvafNaWupatbnQ4gLG1ubgN9nlZykgeKN5MREAAEkejaz+z3+1d+0r+yp8e/Bvxi8Q/AuxvviN4C1Twp4X0jwfBqX9n6deXVncQC6u725UzupaVMrHBhFU4Dn73nP7Q//AASP+JnjL9kf9j/T/B3iD4byfFb9lPTtLhjsfFFrcXnhPxFPDplvZXCylEE6qGh3xSCPcM52qxBUA8Q/4JhftseG1/4K56X8Lfgx+018Q/2ifg/408DX2qalb+N9TutYvvDeq2kqFGgu7mKOXZJGxynK/M2eibef8NfFrWtb/bJ8eaT+0Z+1B8fP2avjanjq7XwFpsl39h+G2p6OkqfYVt4ni+xXyvGwWQTTLKxOOHDk/VvwT/YR/aS8S/8ABSX4e/tBfGjxZ8H54fC3hXV/DT+G/B1tew2+kpcGBoWgluEMl0XZZTK0piCBYwiHLEcT+2L/AME8P2xv28Pg/rHwN+I3j39nXUvhLrupwS3PjCLQb9fGCWcVwsyeXZY+wpdYXb5qSKMFgFUndQBzf/BWr4reIPCH/BQbSNP+M3xQ+PvwP/Zgl8JRnRPFfwwuZ7G0OvtclZl1i8t4pZYQI2j8tXUREAMTjzc/fn7FMkMv7LPg1rb4o/8AC6bNrJjaeNS0Dvr0Hmv5UjvATG8ix7Y3dcb3jZiFJIHjX7S/wu/a+0jx3qFr8F/Ef7P/AIg+G+raVDp6aL8SNO1BLnRHWAQyMktkrC8jkwXaOdVOXKhwvFdj/wAEsf2Fv+HcH7D/AIP+EsmvR+JL7Q2u7y+v4bQWlvLc3VzLcyrDEPuQo0pRB12qDgZwADe/a++A3gvxJ4D8YeP9R8L6LqHjTQfBWr6dpms3Nqst5p1vJbyNIkLsCY9x+8VwSOCSOK8t/wCCCf8Ayhy/Z5/7FGD/ANDeup/4KCeF/wBpfx94cbw78C7X4Fy6Hr+j3mna5N48v9VtrqF5lMam2FnDIhUIzE+Zg7gOCM155/wR8/Zr/ab/AGNPg94X+FPxcHwJuvh74F8Of2Zo9/4Q1HVbjWrm6WZChuFureKERGNpslPm3CPAwWIAPtSiiigAooooAKKKKACiiigAooooAKKKKACiiigAooooAKKKKACiiigAooooAKKKKACiiigAooooAKKKKACiiigAooooAKKKKACiiigAooooAKKKKACiiigAooooAKKKKACiiigAooooAKKKKACiiigAooooAKKKKACiiigAooooAKKKKACiiigAooooAKKKKACiiigAooooAKKKKACiiigAooooAKKKKACiiigAooooAKKKKACiiigAooooAKKKKACiiigAooooAKKKKACiiigAooooAKKKKACiiigAooooAKKKKACiiigAooooAKKK4n9oz4wXnwG+DWteKtP8G+LPiBqGmiFLXw/4btkuNS1KWaaOFFjV2VFVWkDySMwWONJHPCmgDtqK+BP+HzPj74G/tHfDXwT+0T+zZrnwV0H4varHoXhnxND4xsfEloNQlIEVrerbxr9ldmZBkPIvzEglUdl++6ACiiigAor4q/4LFf8ABXm8/wCCUlh8O5bD4V3nxSm8dSaq81vba6ulyaba6dard3M4zBKJdsPmPtynEZ55r6w+DPxb0P4+fCPwv448MXf27w74w0q21nTLjGDLb3ESyxkjsdrDI7HI7UAdLRXwbpf/AAXEsPFX/BXvRf2X9D+HN1qWg6nqmr+HpfH39uKltHq+l6T/AGlfWcdoIG8wwiS3hdjMhV5T8uFG77yoAKKKKACiiigAooooAKK+O/8Agsd+1d8SP2evAHwj8I/CPUNP8P8Ajz44fEfTPAVp4gvbKO+i8OQXKyvPeiCT5JpEWMbUcFTlu4AP0F+zD8OfHvwp+E1tovxI+JB+K/ia3nld/ETeH7bQ5LmJmzGj29uTFuQfLuQKGwDtBzkA9Coor5B/4K6/tS+Ov2XT+zD/AMINrY0X/hYnx/8ACvgjxCDZW9z/AGhpF79r+02375H8vf5afvI9si7flYZOQD6+ooooAKKKKACiivin9o3/AIKV/Hn4Zaj421LwP+xz478a+BPAN1dQX+t6n4rsNBvNVjtXZZ7nTtPZZp7qHCM8bHyzMhUoG3AUAfa1FeS/sL/tneEP+Cgv7K3hH4ueBmvF8P8Ai23eRLe8QR3VjNFI8M1vKoJAeOWN1JBKsAGUlWBPrVABRRRQAUUUUAFFFFABRRRQAUUUUAFFFFABRRRQAUUUUAFFFFABRRRQAUUUUAFFFFABRRRQAUUUUAFFFFABRRRQAUUUUAFFFFABRRRQAUUUUAFFFFABRRRQAUUUUAFFFFABRRRQAUUUUAFFFFABRRRQAUUUUAFFFFABRRRQAUUUUAFFFFABRRRQAUUUUAFFFFABRRRQAUUUUAFFFFABRRRQAUUUUAFFFFABRRRQAUUUUAFFFFABRRRQAUUUUAFFFFABRRRQAUUUUAFFFFABRRRQAUUUUAFFFFABRRRQAUUUUAFFFFABX5HfAr/gnp4H/wCCgP8AwVs/bdsfitdeIvEXgHwz4m0F4/BcWrXFho9/e3GjQj7ZdLbujzyRpAqxqzbE3ucEkEfrjXgf7L37Dv8Awzb+1b+0B8Tv+Eo/tr/hemraXqn9m/2b9n/sT7FZfZdnm+a/n7/v52R7emG60Afmb/wSY/4JheB/23o/2jvh38Zde8ffEf4X/AX4o+IPhv4D8I6n4ju49O0G0guGYXX7mRHludrhEeRmEYU7QMjb9bf8G43xR8Q+O/8Agn1qegeItb1bxHJ8MfHmu+CtP1HU7g3F5PY2lwDAJHIySiShBknCooGAAB7Z+wB/wT+X9hbxN8ddSXxY3ij/AIXV8S9V+IhjOmfYv7G+3MrfY8+bJ52wg/vcJuz9xcc+M+HP+CMniT4df8E5Pi98B/B/xy1LwtqnxY8X6j4lfxbZ+Hts+mW99cQyT2KwC6BcNDG0JlEyEiVjtH3SAeY/GzU4v+C3P/BS34deGPA7Rah8Av2UfFUfinxb4tiy1r4g8TQDNrpVlJ92VYSCZ3QldshGRmMyfqBX54fs3/8ABJ/9qL9kr4PeH/h/8P8A9sLwd4c8H+GYBb2WnWvwK08KFzlmZzqBZ5HYlnkYlmZixJJJr9D6APxp+Lf7QH7MVj8VvE0Opft//t2aHqEOrXSXWm6bb6t9j0+UTOHgh26A6+UjZVcOw2qMM3U/e3/BJbxn4B8c/s16refDn4yfF7446FH4iuIpdf8AiMlwmrW1wLe2LWkfn2do/kKpR1xERumk+cnKr9QUUAfn3/wVf0Oz8T/8FP8A9grTdQtobzT9Q8S+LLa5t5l3RzxPoe10YHgqVJBHcGvB/wBkb9uj/hz3+xl+1Z8FPFc8l94g/ZR1SZ/AUF2Xkk1/SNYcy6FGMktIftE4jkCE+WrKvRa/QD9qH9h3/hpL9q39n/4nf8JR/Yv/AAovVtU1T+zf7N+0f239tsvsuzzfNTyNn387JN3TC9a8l/bO/wCCJ/gr9s3/AIKL/CH9oPVNen0u4+G6wprGgx2Alg8Wra3BurATSeYoQQ3B3MGjl8xVRDtCg0AfIXwe/Y+vP2Jf25v+CW3hPXpJLrx1q0fxO8S+M72Vt019rl/oMFxeO7fxFXfyg2BlYV4zXDfFC18af8FLf+Civ7SI8X/sweKP2pvBnwm8Ur4M8N6NH8TrPwronhNYIyJJBaSzQtPdXDFpGnYvtG1BtCgD9Tv2hv2GV+PX7dX7O3xqPig6UfgEPEuNGGnef/bp1jT47L/X+avkeT5e/wD1cm/dj5MZPk/xo/4JO+LrL9rTxd8aP2ffjzrXwJ8VfEiK2Txjp8vhm18TaH4gkt0aOG4NrO8ZinCsRvSTnngbn3AHkP8AwTy+G/xK/ZX/AGEv2jdD/aOPjb9n34O2l3c3Xg67vPH9rruu+DNEuLcrLDb6jbtMy+RJjyC26TdJgKxwW+H/ANozxF+z/wDBfUPhH8T/ANmD4T/tO/D7xpb/ABB0JR8T9Z0TXIND8YWN1cpHcR3d5fSstwJ1fIDoN3KgBGIP616t/wAE09S+NP7EPxL+Dvxq+MfjX4sT/FIu1/r89naaU+l/LD5KWNtAnlQxxyQpJsbfuYvuJDEV4X49/wCCI/xk+Pnwy8L+E/il+2B4i8Z6J4D1bStU0Cxt/AdlpNsWsbmGRft4hn829cwxtGrNIio7+aUdlwQDmP27v2aLL9rf/g4N+G/gnWvEXirQ/C198D76bXrTQdTl02bxDZx60rfYJp4isqW7yiF3EbKzCHbkBjVz9hf4AaL/AME6f+C9Hjb4D/C2TUtE+D3jL4KQ/EgeFpL+4urLSNVTXBp5e2E0jmMPGZGbHUuo6IoH154h/Yd/t7/gpf4c/aK/4Sjyf+Ef8AXXgb/hH/7N3ef516t19q+0+aNu3bs8vyjnOd46VH/wwx/xtN/4aX/4Sj/mlX/Csv8AhHP7N/6i/wDaX237V5v/AGz8ryv9rzP4aAOM/wCC6H7Vvir9ib/glF8YviT4IuRY+K9FsLSz027wC1jJe6ha2PnqGBBeNbkyLkEbkXPFfJv7Wv8AwQx+D37NP/BNbxt8WPCuq+NtN+P3w48E3njOH4p2/ivUG1zVdTs7N7t5JJGm2NHO0ZQqFwFcFfmGT+lP7Tv7N/hP9r74AeLPhn45sG1Lwr4ysH0/UIUfy5ApwyyRtztkjdVdGwcMinBxXxPcf8ETvjB46+D9t8HfHn7Y3jrxV8A4IYtPl8NweELDT9d1HTotuyyudaWRpZIyq7XIiVnXgnGQQD5Z/bs+BPw//wCCgvw0/wCCc3xm+JPgnTdU8dfGzxJ4V0Dxfd+fPGNUsJrCeeW22o6qkbTMzjaAw3Y3ECv2L+AnwE8I/swfCLRPAfgPRLfw54R8ORNBpumwSSSR2qNI0jANIzMcu7HknrXj37UH/BOjSfj1J+zvb6DrEPgnRf2efGWm+KNO02DTftUV5bWVtJbx2CnzU8ldjqBJ+8wExsOcj6QoA/Kn4HfsheCf+Cyn7d37VWt/tCQ33j3w38JfGv8Awr/wd4Ql1y7ttM0GC3gBmvBBbyR5muHfPmNkjawB+VSNr/gqx+znoH7JfwQ/YR+Hvhe41668P+H/ANqzweLE6xqcupXcUc1zqc4iM8pMjpH5pjTcSVjRFycZPsfxc/4JP+ONE/ax8bfF79nv4/6p8C9a+KItn8Z6VP4StPE+kaxcW8flx3UcE8kX2efb951ZtxLEj5jnb+LP/BLvxB8b/gz8AvDniz40eIPFXiD4LfFnS/ipfeJNY0eCS68SyWU13L9hEULwx2sZ+0hEZQ4iSJV2N2APEf8Agq5c/so+Of2tLfw78YtD+Nnx+8dWug28lv8ACzwZBq2tWWjQebIRqL2Fi0cSTy+ZgvPIzFI4yqjgt5N/wSXj+IXxX/Yh/bX+EPwZ1X4heA38N+Ib7SvhhYePFuLPWvBq3dgsiWchmLz2+1zhCxZoy/mcsST9b/tEf8Et/HniD9tTXPjp8Efj9qXwV8VeNtHtNE8W2s/hK08TWOsxWgK28kcdxIn2eZF+XcN4OPu8vuj/AGa/+CROrfs4/Dj48aRa/Hj4h3/iL426vaa8fF6wxW2vaPfQwQq8vmqTFMJJo2byxFGgifydpUbiAfLX/BI7wj8Af2c/2qfh34R1/wCF/wAYP2bP2pLjRbi2v7DxBq15d6V8UJEtf9LmS7M01rfqr7p1I8p0dAFBVQp8v8bfAzwH+y9+0r8QvE37bvgf4v6b4o1rx9can4O/aI8Pa1fXGj6RZSzxnTrYG3lI0sxA+WIpbdoztYElVQ194/B3/gld8RL39qv4ffFb49ftE6t8bdQ+Ecd7/wAIdptv4PsvDFnY3F3D9nmurkW7ubmUxcD7iggEKOQeS+NP/BGn4tftG+E9S+Gvjn9rzx14k+AutX8c9/4WuvClg2vXdok6zrZPre7zWjDIvzGEyEDBYjigD9ALe4ju7eOaGRJYpVDo6HcrqeQQe4PrXyL/AMFbv293/Zm+Fdt8NfANmvi79oL4xxS6D4D8LW/zzPLMrRvqNwOkVpbgtI8jlVPlkbgA7J9b6Zp0Oj6db2dtGIre1jWGJASdiKAAOeeABX5u6R/wRO+PPw//AG0vid8cPCP7W2l6f4u+JN3IDdaz8JbbXLzR9N81mg023nmv/wB3BEmxCIkjD+UhZeAAAfU3/BLH9hy3/wCCcf7Bfw8+EMd8mqXvhmxeTVL1M+XdX9xK9xcsmefLEsrqmcHYq55zX0FXl/7JXwx+KHwn+Gt1pvxZ+Kdl8XvEkuoyXEGtWvhSHw2kFqY4lS2NvFNKrFXWR/M3AnzQMDaCfUKACiiigAooooAKKKKACiiigAooooAKKKKACiiigAooooAKKKKACiiigAooooAKKKKACiiigAooooAKKKKACiiigAooooAKKKKACiiigAooooAKKKKACiiigAooooAKKKKACiiigAooooAKKKKACiiigAooooAKKKKACiiigAooooAKKKKACiiigAooooAKKKKACiiigAooooAKKKKACiiigAooooAKKKKACiiigAooooAKKKKACiiigAooooAKKKKACiiigAooooAKKKKACiiigAooooAKKKKACiiigAooooAKKKKACiiigAooooAKKKKACiiigAooooAKKKKACiiigAooooAKKKKACiiigAooooAKKKKACiiigAooooAKKKKACiiigAooooAKKKKACiiigAooooAKKKKACiiigAooooAKKKKACiiigAooooAKKKKACiiigAooooAKKKKACiiigAooooAKKKKACiiigAooooAKKKKACiiigAooooAKKKKACiiigAooooAKKKKACiiigAooooAKKKKACiiigAooooAKKKKACiiigAooooAKKKKACiiigAooooAKKKKACiiigAooooAKKKKACiiigAooooAKKKKACiiigAooooAKKKKACiiigAooooAKKKKACiiigAooooAKKKKACiiigAooooAKKKKACiiigAooooAKKKKACiiigAooooAKKKKACiiigAooooAKKKKACiiigAooooAKKKKACiiigAooooAKKKKACiiigAooooAKKKKACiiigAooooAKKKKACiiigAooooAKKKKACiiigAooooAKKKKACiiigAooooAKKKKACiiigAooooAKKKKACiiigAooooAKKKKACiiigAooooAKKKKACiiigAooooAKKKKACiiigAooooAKKKKACiiigAooooAKKKKACiiigAooooAKKKKACiiigAooooAKKKKACiiigAooooAKKKKACiiigAooooAKKKKACiiigAooooAKKKKACiiigAooooAKKKKACiiigAooooAKKKKACiiigAooooAKKKKACiiigAooooAKKKKACiiigAooooAKKKKACiiigAooooAKKKKACiiigAooooAKKKKACiiigAooooAKKKKACiiigAooooAKKKKACiiigAooooAKKKKACiiigAooooAKKKKACiiigAooooAKKKKACiiigAooooAKKKKACiiigAooooAKKKKACiiigAooooAKKKKACiiigAooooAKKKKACiiigAooooAKKKKACiiigAooooAKKKKACiiigAooooAKKKKACiiigAooooAKKKKACiiigAooooAKKKKACiiigAooooAKKKKACiiigAooooAKKKKACiiigAooooAKKKKACiiigAooooAKKKKACiiigAooooAKKKKACiiigAooooAKKKKACiiigAooooAKKKKACiiigAooooAKKKKACiiigAooooAKKKKACiiigAooooAKKKKACiiigAooooAKKKKACiiigAooooAKKKKACiiigAooooAKKKKACiiigAooooAKKKKACiiigAooooAKKKKACiiigAooooAKKKKACiiigAooooAKKKKACiiigAooooAKKKKACiiigAooooAKKKKACiiigAooooAKKKKACiiigAooooAKKKKACiiigAooooAKKKKACiiigAooooAKKKKACiiigAooooAKKKKACiiigAooooAKKKKACiiigAooooAKKKKACiiigAooooAKKKKACiiigAooooAKKKKACiiigAooooAKKKKACiiigAooooAKKKKACiiigAooooAKKKKACiiigAooooAKKKKACiiigAooooAKKKKACiiigAooooAKKKKACiiigAooooAKKKKACiiigAooooAKKKKACiiigAooooAKKKKACiiigAooooAKKKKACiiigAooooAKKKKACiiigAooooAKKKKACiiigAooooAKKKKACiiigAooooAKKKKACiiigAooooAKKKKACiiigAooooAKKKKACiiigAooooAKKKKACiiigAooooAKKKKACiiigAooooAKKKKACiiigAooooAKKKKACiiigAooooAKKKKACiiigAooooAKKKKACiiigAooooA//9k=)"
      ]
    },
    {
      "cell_type": "markdown",
      "metadata": {
        "id": "LFmlAla4uFm9"
      },
      "source": [
        "**class 1**"
      ]
    },
    {
      "cell_type": "code",
      "metadata": {
        "colab": {
          "base_uri": "https://localhost:8080/"
        },
        "id": "DI_nAdBfox3y",
        "outputId": "07bff068-489e-4e89-9a70-e657a332c158"
      },
      "source": [
        "c1=Data_2D.loc[df['species'].isin(['setosa'])]\n",
        "\n",
        "print(c1)"
      ],
      "execution_count": null,
      "outputs": [
        {
          "output_type": "stream",
          "text": [
            "    petal_length  petal_width species\n",
            "45           1.4          0.3  setosa\n",
            "46           1.6          0.2  setosa\n",
            "47           1.4          0.2  setosa\n",
            "48           1.5          0.2  setosa\n",
            "49           1.4          0.2  setosa\n"
          ],
          "name": "stdout"
        }
      ]
    },
    {
      "cell_type": "markdown",
      "metadata": {
        "id": "iWbYN9eyuI5_"
      },
      "source": [
        "**Class 2**"
      ]
    },
    {
      "cell_type": "code",
      "metadata": {
        "colab": {
          "base_uri": "https://localhost:8080/"
        },
        "id": "gJlh_aCSpziE",
        "outputId": "0b25fa3d-af91-4170-cbce-3c79fa12d111"
      },
      "source": [
        "c2=Data_2D.loc[df['species'].isin(['versicolor'])]\n",
        "print(c2)"
      ],
      "execution_count": null,
      "outputs": [
        {
          "output_type": "stream",
          "text": [
            "    petal_length  petal_width     species\n",
            "50           4.7          1.4  versicolor\n",
            "51           4.5          1.5  versicolor\n",
            "52           4.9          1.5  versicolor\n",
            "53           4.0          1.3  versicolor\n",
            "54           4.6          1.5  versicolor\n"
          ],
          "name": "stdout"
        }
      ]
    },
    {
      "cell_type": "markdown",
      "metadata": {
        "id": "z_eyZgU2qY0m"
      },
      "source": [
        "**Scatter matrix for class 1**"
      ]
    },
    {
      "cell_type": "code",
      "metadata": {
        "id": "qrVPzg4wp9Pt"
      },
      "source": [
        "#Mean of feature 1 and feature 2 for class 1\n",
        "mean_c1_x1=np.mean(c1['petal_length'].values) \n",
        "mean_c1_x2=np.mean(c1['petal_width'].values)"
      ],
      "execution_count": null,
      "outputs": []
    },
    {
      "cell_type": "code",
      "metadata": {
        "colab": {
          "base_uri": "https://localhost:8080/"
        },
        "id": "SsfmmNQXRMsm",
        "outputId": "ce95949c-63a9-412e-bda8-dc391fd2b06b"
      },
      "source": [
        "print(mean_c1_x1)\n",
        "print(mean_c1_x2)"
      ],
      "execution_count": null,
      "outputs": [
        {
          "output_type": "stream",
          "text": [
            "1.4600000000000002\n",
            "0.21999999999999997\n"
          ],
          "name": "stdout"
        }
      ]
    },
    {
      "cell_type": "code",
      "metadata": {
        "id": "ZRTbbdLyqyzj"
      },
      "source": [
        "\n",
        "c1_x1=(c1['petal_length']-mean_c1_x1)\n",
        "c1_x2=(c1['petal_width']-mean_c1_x2)"
      ],
      "execution_count": null,
      "outputs": []
    },
    {
      "cell_type": "code",
      "metadata": {
        "id": "8KQZpdhAq6_i"
      },
      "source": [
        "x1=pd.concat([c1_x1, c1_x2], axis=1)"
      ],
      "execution_count": null,
      "outputs": []
    },
    {
      "cell_type": "code",
      "metadata": {
        "colab": {
          "base_uri": "https://localhost:8080/"
        },
        "id": "J46J7X2OrBtl",
        "outputId": "0f15f9dc-ee32-4429-ced8-baa96afb50f3"
      },
      "source": [
        "x1"
      ],
      "execution_count": null,
      "outputs": [
        {
          "output_type": "execute_result",
          "data": {
            "text/html": [
              "<div>\n",
              "<style scoped>\n",
              "    .dataframe tbody tr th:only-of-type {\n",
              "        vertical-align: middle;\n",
              "    }\n",
              "\n",
              "    .dataframe tbody tr th {\n",
              "        vertical-align: top;\n",
              "    }\n",
              "\n",
              "    .dataframe thead th {\n",
              "        text-align: right;\n",
              "    }\n",
              "</style>\n",
              "<table border=\"1\" class=\"dataframe\">\n",
              "  <thead>\n",
              "    <tr style=\"text-align: right;\">\n",
              "      <th></th>\n",
              "      <th>petal_length</th>\n",
              "      <th>petal_width</th>\n",
              "    </tr>\n",
              "  </thead>\n",
              "  <tbody>\n",
              "    <tr>\n",
              "      <th>45</th>\n",
              "      <td>-0.06</td>\n",
              "      <td>0.08</td>\n",
              "    </tr>\n",
              "    <tr>\n",
              "      <th>46</th>\n",
              "      <td>0.14</td>\n",
              "      <td>-0.02</td>\n",
              "    </tr>\n",
              "    <tr>\n",
              "      <th>47</th>\n",
              "      <td>-0.06</td>\n",
              "      <td>-0.02</td>\n",
              "    </tr>\n",
              "    <tr>\n",
              "      <th>48</th>\n",
              "      <td>0.04</td>\n",
              "      <td>-0.02</td>\n",
              "    </tr>\n",
              "    <tr>\n",
              "      <th>49</th>\n",
              "      <td>-0.06</td>\n",
              "      <td>-0.02</td>\n",
              "    </tr>\n",
              "  </tbody>\n",
              "</table>\n",
              "</div>"
            ],
            "text/plain": [
              "    petal_length  petal_width\n",
              "45         -0.06         0.08\n",
              "46          0.14        -0.02\n",
              "47         -0.06        -0.02\n",
              "48          0.04        -0.02\n",
              "49         -0.06        -0.02"
            ]
          },
          "metadata": {
            "tags": []
          },
          "execution_count": 19
        }
      ]
    },
    {
      "cell_type": "code",
      "metadata": {
        "id": "KIOgFfc9rG3V"
      },
      "source": [
        "data1=x1.values"
      ],
      "execution_count": null,
      "outputs": []
    },
    {
      "cell_type": "code",
      "metadata": {
        "id": "hArgWsBArLZb"
      },
      "source": [
        "n_samples = data1.shape[0]\n",
        "sca_matrix1 = (np.dot(data1.T, data1))"
      ],
      "execution_count": null,
      "outputs": []
    },
    {
      "cell_type": "code",
      "metadata": {
        "colab": {
          "base_uri": "https://localhost:8080/"
        },
        "id": "UHcQx5o6rSWr",
        "outputId": "5c0873d1-9ab7-46e6-98e0-596f31586f55"
      },
      "source": [
        "print(sca_matrix1)"
      ],
      "execution_count": null,
      "outputs": [
        {
          "output_type": "stream",
          "text": [
            "[[ 0.032 -0.006]\n",
            " [-0.006  0.008]]\n"
          ],
          "name": "stdout"
        }
      ]
    },
    {
      "cell_type": "markdown",
      "metadata": {
        "id": "sBj-SToYrZrN"
      },
      "source": [
        "**Scatter matrix for class 2**"
      ]
    },
    {
      "cell_type": "code",
      "metadata": {
        "id": "bRr-vaairS8F"
      },
      "source": [
        "mean_c2_x1=np.mean(c2['petal_length'].values)\n",
        "mean_c2_x2=np.mean(c2['petal_width'].values)"
      ],
      "execution_count": null,
      "outputs": []
    },
    {
      "cell_type": "code",
      "metadata": {
        "colab": {
          "base_uri": "https://localhost:8080/"
        },
        "id": "soZvZSmZRZ1V",
        "outputId": "e4b55a7d-a6d1-4cdd-fccf-b93f7ede930c"
      },
      "source": [
        "print(mean_c2_x1)\n",
        "print(mean_c2_x2)"
      ],
      "execution_count": null,
      "outputs": [
        {
          "output_type": "stream",
          "text": [
            "4.540000000000001\n",
            "1.44\n"
          ],
          "name": "stdout"
        }
      ]
    },
    {
      "cell_type": "code",
      "metadata": {
        "id": "nxdPsgaIrh_T"
      },
      "source": [
        "c2_x1=(c2['petal_length']-mean_c2_x1)\n",
        "c2_x2=(c2['petal_width']-mean_c2_x2)"
      ],
      "execution_count": null,
      "outputs": []
    },
    {
      "cell_type": "code",
      "metadata": {
        "id": "UYlGoqVRrpmK"
      },
      "source": [
        "x2=pd.concat([c2_x1, c2_x2], axis=1)"
      ],
      "execution_count": null,
      "outputs": []
    },
    {
      "cell_type": "code",
      "metadata": {
        "colab": {
          "base_uri": "https://localhost:8080/",
          "height": 195
        },
        "id": "AOKFSkzmrthh",
        "outputId": "3863f98b-d22e-4c13-e8c5-00244fc689c8"
      },
      "source": [
        "x2"
      ],
      "execution_count": null,
      "outputs": [
        {
          "output_type": "execute_result",
          "data": {
            "text/html": [
              "<div>\n",
              "<style scoped>\n",
              "    .dataframe tbody tr th:only-of-type {\n",
              "        vertical-align: middle;\n",
              "    }\n",
              "\n",
              "    .dataframe tbody tr th {\n",
              "        vertical-align: top;\n",
              "    }\n",
              "\n",
              "    .dataframe thead th {\n",
              "        text-align: right;\n",
              "    }\n",
              "</style>\n",
              "<table border=\"1\" class=\"dataframe\">\n",
              "  <thead>\n",
              "    <tr style=\"text-align: right;\">\n",
              "      <th></th>\n",
              "      <th>petal_length</th>\n",
              "      <th>petal_width</th>\n",
              "    </tr>\n",
              "  </thead>\n",
              "  <tbody>\n",
              "    <tr>\n",
              "      <th>50</th>\n",
              "      <td>0.16</td>\n",
              "      <td>-0.04</td>\n",
              "    </tr>\n",
              "    <tr>\n",
              "      <th>51</th>\n",
              "      <td>-0.04</td>\n",
              "      <td>0.06</td>\n",
              "    </tr>\n",
              "    <tr>\n",
              "      <th>52</th>\n",
              "      <td>0.36</td>\n",
              "      <td>0.06</td>\n",
              "    </tr>\n",
              "    <tr>\n",
              "      <th>53</th>\n",
              "      <td>-0.54</td>\n",
              "      <td>-0.14</td>\n",
              "    </tr>\n",
              "    <tr>\n",
              "      <th>54</th>\n",
              "      <td>0.06</td>\n",
              "      <td>0.06</td>\n",
              "    </tr>\n",
              "  </tbody>\n",
              "</table>\n",
              "</div>"
            ],
            "text/plain": [
              "    petal_length  petal_width\n",
              "50          0.16        -0.04\n",
              "51         -0.04         0.06\n",
              "52          0.36         0.06\n",
              "53         -0.54        -0.14\n",
              "54          0.06         0.06"
            ]
          },
          "metadata": {
            "tags": []
          },
          "execution_count": 27
        }
      ]
    },
    {
      "cell_type": "code",
      "metadata": {
        "id": "nwGi07_7ruOa"
      },
      "source": [
        "data2=x2.values"
      ],
      "execution_count": null,
      "outputs": []
    },
    {
      "cell_type": "code",
      "metadata": {
        "id": "IIvdQZ2zry4B"
      },
      "source": [
        "n_samples = data2.shape[0]\n",
        "sca_matrix2 = (np.dot(data2.T, data2))"
      ],
      "execution_count": null,
      "outputs": []
    },
    {
      "cell_type": "code",
      "metadata": {
        "colab": {
          "base_uri": "https://localhost:8080/"
        },
        "id": "1cadNGzTr22P",
        "outputId": "ea0bddf3-2b4c-4b02-a5e1-79eb864fdcd8"
      },
      "source": [
        "print(sca_matrix2)"
      ],
      "execution_count": null,
      "outputs": [
        {
          "output_type": "stream",
          "text": [
            "[[0.452 0.092]\n",
            " [0.092 0.032]]\n"
          ],
          "name": "stdout"
        }
      ]
    },
    {
      "cell_type": "code",
      "metadata": {
        "id": "Uvp-kwTpsD8U"
      },
      "source": [
        "Sw=((sca_matrix1)+(sca_matrix2))"
      ],
      "execution_count": null,
      "outputs": []
    },
    {
      "cell_type": "markdown",
      "metadata": {
        "id": "EWQSrgRR0fVB"
      },
      "source": [
        "**Within class scatter matrix**"
      ]
    },
    {
      "cell_type": "code",
      "metadata": {
        "colab": {
          "base_uri": "https://localhost:8080/"
        },
        "id": "qF2dXfvrA28c",
        "outputId": "5a109395-58bf-464a-89b9-6fba8db59cf9"
      },
      "source": [
        "Sw"
      ],
      "execution_count": null,
      "outputs": [
        {
          "output_type": "execute_result",
          "data": {
            "text/plain": [
              "array([[0.484, 0.086],\n",
              "       [0.086, 0.04 ]])"
            ]
          },
          "metadata": {
            "tags": []
          },
          "execution_count": 32
        }
      ]
    },
    {
      "cell_type": "markdown",
      "metadata": {
        "id": "Y7wteKxeseY9"
      },
      "source": [
        "#Between class scatter matrix"
      ]
    },
    {
      "cell_type": "markdown",
      "metadata": {
        "id": "53lqphSR2xEW"
      },
      "source": [
        "![between class.jpg](data:image/jpeg;base64,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)"
      ]
    },
    {
      "cell_type": "code",
      "metadata": {
        "id": "rl7TRTfFgQDL"
      },
      "source": [
        "MEAN1=mean_c1_x1-mean_c2_x1\n",
        "MEAN2=mean_c1_x2-mean_c2_x2"
      ],
      "execution_count": null,
      "outputs": []
    },
    {
      "cell_type": "code",
      "metadata": {
        "id": "QPOa3JssgQF6"
      },
      "source": [
        "M1_NP=np.array([[MEAN1],[MEAN2]])"
      ],
      "execution_count": null,
      "outputs": []
    },
    {
      "cell_type": "code",
      "metadata": {
        "colab": {
          "base_uri": "https://localhost:8080/"
        },
        "id": "Zz4pYV555iSL",
        "outputId": "83cb92a5-7bc6-43e9-896f-a2d1a8259450"
      },
      "source": [
        "M1_NP"
      ],
      "execution_count": null,
      "outputs": [
        {
          "output_type": "execute_result",
          "data": {
            "text/plain": [
              "array([[-3.08],\n",
              "       [-1.22]])"
            ]
          },
          "metadata": {
            "tags": []
          },
          "execution_count": 35
        }
      ]
    },
    {
      "cell_type": "code",
      "metadata": {
        "id": "ny5GLns1gQPR"
      },
      "source": [
        "MEANN=((np.dot(M1_NP, M1_NP.T)))"
      ],
      "execution_count": null,
      "outputs": []
    },
    {
      "cell_type": "code",
      "metadata": {
        "id": "_eyf8ZyBgQRc"
      },
      "source": [
        "SB=MEANN"
      ],
      "execution_count": null,
      "outputs": []
    },
    {
      "cell_type": "code",
      "metadata": {
        "colab": {
          "base_uri": "https://localhost:8080/"
        },
        "id": "62i0GFoM59HT",
        "outputId": "3a97b2a4-7d0b-4fbc-a64e-5c39de1d22f5"
      },
      "source": [
        "SB"
      ],
      "execution_count": null,
      "outputs": [
        {
          "output_type": "execute_result",
          "data": {
            "text/plain": [
              "array([[9.4864, 3.7576],\n",
              "       [3.7576, 1.4884]])"
            ]
          },
          "metadata": {
            "tags": []
          },
          "execution_count": 38
        }
      ]
    },
    {
      "cell_type": "markdown",
      "metadata": {
        "id": "HrWmlARUuvYG"
      },
      "source": [
        "#Eigen Decomposition"
      ]
    },
    {
      "cell_type": "code",
      "metadata": {
        "id": "A9UBhDjAk1xm"
      },
      "source": [
        "eig_vals, eig_vecs = np.linalg.eig(np.dot(np.linalg.inv(Sw),SB))"
      ],
      "execution_count": null,
      "outputs": []
    },
    {
      "cell_type": "code",
      "metadata": {
        "id": "d1t5yESvyB3M"
      },
      "source": [
        "id = np.argsort(eig_vals, axis=0)[::-1]\n",
        "sorted_EigenVectors = eig_vecs[:, id]"
      ],
      "execution_count": null,
      "outputs": []
    },
    {
      "cell_type": "code",
      "metadata": {
        "colab": {
          "base_uri": "https://localhost:8080/"
        },
        "id": "bw26E5OgvH9w",
        "outputId": "42b81e41-75da-44c4-a5c4-15507cb90e79"
      },
      "source": [
        "print(eig_vecs)"
      ],
      "execution_count": null,
      "outputs": [
        {
          "output_type": "stream",
          "text": [
            "[[-0.36826591 -0.05605423]\n",
            " [ 0.9297205  -0.99842773]]\n"
          ],
          "name": "stdout"
        }
      ]
    },
    {
      "cell_type": "code",
      "metadata": {
        "colab": {
          "base_uri": "https://localhost:8080/"
        },
        "id": "g0BwdgnNvKju",
        "outputId": "a63f2d1a-fb17-4c80-b18d-0ccbb2f47d7f"
      },
      "source": [
        "print(eig_vals)"
      ],
      "execution_count": null,
      "outputs": [
        {
          "output_type": "stream",
          "text": [
            "[ 0.         37.90825811]\n"
          ],
          "name": "stdout"
        }
      ]
    },
    {
      "cell_type": "markdown",
      "metadata": {
        "id": "RezZvW9yx6Uf"
      },
      "source": [
        "#LDA"
      ]
    },
    {
      "cell_type": "code",
      "metadata": {
        "id": "e0vmU3ZSvMF2"
      },
      "source": [
        "lda=np.dot(Df_Data.values, sorted_EigenVectors[:, :1])"
      ],
      "execution_count": null,
      "outputs": []
    },
    {
      "cell_type": "code",
      "metadata": {
        "colab": {
          "base_uri": "https://localhost:8080/"
        },
        "id": "jRxPo3Ua8XFn",
        "outputId": "de783624-9345-41d1-8c48-f64d90e068b2"
      },
      "source": [
        "sorted_EigenVectors[:, :1]"
      ],
      "execution_count": null,
      "outputs": [
        {
          "output_type": "execute_result",
          "data": {
            "text/plain": [
              "array([[-0.05605423],\n",
              "       [-0.99842773]])"
            ]
          },
          "metadata": {
            "tags": []
          },
          "execution_count": 44
        }
      ]
    },
    {
      "cell_type": "code",
      "metadata": {
        "id": "eYXo3q_M2dlC"
      },
      "source": [
        "df_lda=pd.DataFrame(lda)"
      ],
      "execution_count": null,
      "outputs": []
    },
    {
      "cell_type": "code",
      "metadata": {
        "colab": {
          "base_uri": "https://localhost:8080/"
        },
        "id": "L_jWfwrrzgG0",
        "outputId": "29ee753b-ebf7-4998-c0d7-c08caf4b5e84"
      },
      "source": [
        "lda"
      ],
      "execution_count": null,
      "outputs": [
        {
          "output_type": "execute_result",
          "data": {
            "text/plain": [
              "array([[-0.37800425],\n",
              "       [-0.28937232],\n",
              "       [-0.27816147],\n",
              "       [-0.2837669 ],\n",
              "       [-0.27816147],\n",
              "       [-1.66125372],\n",
              "       [-1.74988564],\n",
              "       [-1.77230734],\n",
              "       [-1.52217298],\n",
              "       [-1.75549107]])"
            ]
          },
          "metadata": {
            "tags": []
          },
          "execution_count": 46
        }
      ]
    },
    {
      "cell_type": "code",
      "metadata": {
        "id": "5___tkHFfmAL"
      },
      "source": [
        "Y=Data_2D.loc[:,'species']"
      ],
      "execution_count": null,
      "outputs": []
    },
    {
      "cell_type": "code",
      "metadata": {
        "id": "53IdDmrO2Xyq"
      },
      "source": [
        "rows_setosa = Y=='setosa';\n",
        "rows_versicolor = Y=='versicolor';"
      ],
      "execution_count": null,
      "outputs": []
    },
    {
      "cell_type": "code",
      "metadata": {
        "colab": {
          "base_uri": "https://localhost:8080/"
        },
        "id": "asIGazM22Zg3",
        "outputId": "d8c049b2-4687-4816-9965-5506adf77670"
      },
      "source": [
        "print((df_lda.loc[rows_setosa.tolist(), 0]).shape)\n",
        "print(df_lda.loc[rows_versicolor.tolist(), 0].shape)"
      ],
      "execution_count": null,
      "outputs": [
        {
          "output_type": "stream",
          "text": [
            "(5,)\n",
            "(5,)\n"
          ],
          "name": "stdout"
        }
      ]
    },
    {
      "cell_type": "code",
      "metadata": {
        "colab": {
          "base_uri": "https://localhost:8080/"
        },
        "id": "RcefRw_72462",
        "outputId": "8d22d2e8-4a59-4847-adf7-9de6bbf94be4"
      },
      "source": [
        "fig, ax = plt.subplots(1,1, figsize=(10,8))\n",
        "ax.scatter(Data_2D.loc[rows_setosa.tolist(), 'petal_length'], Data_2D.loc[rows_setosa.tolist(), 'petal_width'], c='blue', edgecolor='k', s=120, label='Zero')\n",
        "ax.scatter(Data_2D.loc[rows_versicolor.tolist(), 'petal_length'], Data_2D.loc[rows_versicolor.tolist(), 'petal_width'], c='red', edgecolor='k', s=120, label='One')\n",
        "ax.set_title(\"Scatterplot of 2D data\", fontsize=22)"
      ],
      "execution_count": null,
      "outputs": [
        {
          "output_type": "execute_result",
          "data": {
            "text/plain": [
              "Text(0.5, 1.0, 'Scatterplot of 2D data')"
            ]
          },
          "metadata": {
            "tags": []
          },
          "execution_count": 50
        },
        {
          "output_type": "display_data",
          "data": {
            "image/png": "[encoded data removed]",
            "text/plain": [
              "<Figure size 720x576 with 1 Axes>"
            ]
          },
          "metadata": {
            "tags": [],
            "needs_background": "light"
          }
        }
      ]
    },
    {
      "cell_type": "code",
      "metadata": {
        "colab": {
          "base_uri": "https://localhost:8080/"
        },
        "id": "p_V85uol2od7",
        "outputId": "425defcf-1341-4c8a-ccf5-49bc8ac0a3b6"
      },
      "source": [
        "fig, ax = plt.subplots(1,1, figsize=(10,8))\n",
        "ax.scatter(df_lda.loc[rows_setosa.tolist(), 0], np.zeros([5]), c='blue', edgecolor='k', s=120, label='Zero')\n",
        "ax.scatter(df_lda.loc[rows_versicolor.tolist(), 0], np.zeros([5]), c='red', edgecolor='k', s=120, label='One')\n",
        "ax.set_title(\"Scatterplot of 1st linear discriminant\", fontsize=22)"
      ],
      "execution_count": null,
      "outputs": [
        {
          "output_type": "execute_result",
          "data": {
            "text/plain": [
              "Text(0.5, 1.0, 'Scatterplot of 1st linear discriminant')"
            ]
          },
          "metadata": {
            "tags": []
          },
          "execution_count": 51
        },
        {
          "output_type": "display_data",
          "data": {
            "image/png": "[encoded data removed]",
            "text/plain": [
              "<Figure size 720x576 with 1 Axes>"
            ]
          },
          "metadata": {
            "tags": [],
            "needs_background": "light"
          }
        }
      ]
    }
  ]
}