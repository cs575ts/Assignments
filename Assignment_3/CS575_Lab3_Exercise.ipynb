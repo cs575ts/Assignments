{
  "nbformat": 4,
  "nbformat_minor": 0,
  "metadata": {
    "colab": {
      "name": "CS575_Lab3_Exercise.ipynb",
      "provenance": []
    },
    "kernelspec": {
      "name": "python3",
      "display_name": "Python 3"
    }
  },
  "cells": [
    {
      "cell_type": "code",
      "metadata": {
        "id": "xF893KyCaPVK"
      },
      "source": [
        "#1"
      ],
      "execution_count": 1,
      "outputs": []
    },
    {
      "cell_type": "code",
      "metadata": {
        "id": "T_WMdCzyFkz2"
      },
      "source": [
        "#Load the dataset 'IndividualDetails.csv'."
      ],
      "execution_count": 2,
      "outputs": []
    },
    {
      "cell_type": "code",
      "metadata": {
        "id": "h5gfLXlzGGTU"
      },
      "source": [
        "# Count the number of missing values in the dataset 'IndividualDetails.csv'."
      ],
      "execution_count": 3,
      "outputs": []
    },
    {
      "cell_type": "code",
      "metadata": {
        "id": "cXqNX2uJG25d"
      },
      "source": [
        "#Impute missing values in 'age' with the median value of each state."
      ],
      "execution_count": 4,
      "outputs": []
    },
    {
      "cell_type": "code",
      "metadata": {
        "id": "sjSaQRo9USTp"
      },
      "source": [
        "#Impute missing values in 'gender' by mode of male & female in each state."
      ],
      "execution_count": 5,
      "outputs": []
    },
    {
      "cell_type": "code",
      "metadata": {
        "id": "UItZbePeaM-Z"
      },
      "source": [
        "\r\n",
        "#2"
      ],
      "execution_count": 6,
      "outputs": []
    },
    {
      "cell_type": "code",
      "metadata": {
        "id": "t7v_voFNTtqk"
      },
      "source": [
        "# Load the datasets 'population_india_census2011.csv' and 'covid_19_india.csv' and Impute the missing values."
      ],
      "execution_count": 7,
      "outputs": []
    },
    {
      "cell_type": "code",
      "metadata": {
        "id": "bI5q4BmDT6rT"
      },
      "source": [
        "# Use 'one way ANOVA' test to see effect of area_Group (>2) of state  on covid-19 Confirmed cases. "
      ],
      "execution_count": 10,
      "outputs": []
    },
    {
      "cell_type": "code",
      "metadata": {
        "id": "cN0ItgfNZnAL"
      },
      "source": [
        ""
      ],
      "execution_count": null,
      "outputs": []
    }
  ]
}