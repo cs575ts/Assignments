{
 "cells": [
  {
   "cell_type": "markdown",
   "metadata": {
    "colab_type": "text",
    "id": "view-in-github"
   },
   "source": [
    "<a href=\"https://colab.research.google.com/github/deepshak/CS575/blob/main/CS575_Lab1_exercise.ipynb\" target=\"_parent\"><img src=\"https://colab.research.google.com/assets/colab-badge.svg\" alt=\"Open In Colab\"/></a>"
   ]
  },
  {
   "cell_type": "markdown",
   "metadata": {
    "id": "7F14W_Xqjo8y"
   },
   "source": [
    "# Load the time series data AirPassengers.csv (https://www.kaggle.com/rakannimer/air-passengers)"
   ]
  },
  {
   "cell_type": "code",
   "execution_count": 1,
   "metadata": {
    "id": "Nfp8IGU4jo82"
   },
   "outputs": [],
   "source": [
    "# 1. Load the dataset which is indexed by the month."
   ]
  },
  {
   "cell_type": "code",
   "execution_count": 2,
   "metadata": {
    "id": "WqHy9xryjo82"
   },
   "outputs": [],
   "source": [
    "# 2. Review the data statistics"
   ]
  },
  {
   "cell_type": "code",
   "execution_count": 3,
   "metadata": {
    "id": "yDMdWdt9jo83"
   },
   "outputs": [],
   "source": [
    "# 3. Check for datatype in dataset"
   ]
  },
  {
   "cell_type": "code",
   "execution_count": 4,
   "metadata": {
    "id": "uF9dCrL9jo83"
   },
   "outputs": [],
   "source": [
    "# 4. Convert Month object into datetime"
   ]
  },
  {
   "cell_type": "code",
   "execution_count": 5,
   "metadata": {
    "id": "8VoARaaujo83"
   },
   "outputs": [],
   "source": [
    "# 5. Cleaning and preparing time series data"
   ]
  },
  {
   "cell_type": "code",
   "execution_count": 6,
   "metadata": {
    "id": "il3S92hOjo83"
   },
   "outputs": [],
   "source": [
    "# 6.  Check for Stationarity of time series"
   ]
  },
  {
   "cell_type": "markdown",
   "metadata": {
    "id": "6BVudfMIjo83"
   },
   "source": [
    "# Visualizing the dataset\n",
    "(Firstly with Matplotlib and secondly with Seaborn:)"
   ]
  },
  {
   "cell_type": "code",
   "execution_count": 7,
   "metadata": {
    "id": "yg1ETxUdjo84"
   },
   "outputs": [],
   "source": [
    "# 1. Plot the raw data. "
   ]
  },
  {
   "cell_type": "code",
   "execution_count": 8,
   "metadata": {
    "id": "gb6edy2hjo84"
   },
   "outputs": [],
   "source": [
    "# 2. Plot histogram."
   ]
  },
  {
   "cell_type": "code",
   "execution_count": 9,
   "metadata": {
    "id": "ck10ImeAjo84"
   },
   "outputs": [],
   "source": [
    "# 3. Use the boxplot function to see any seasonal effects."
   ]
  },
  {
   "cell_type": "code",
   "execution_count": 10,
   "metadata": {
    "id": "de21M9DYjo84"
   },
   "outputs": [],
   "source": [
    "# 4. Use countplot."
   ]
  },
  {
   "cell_type": "markdown",
   "metadata": {
    "id": "3rPdKYhCjo85"
   },
   "source": [
    "# Calculate"
   ]
  },
  {
   "cell_type": "code",
   "execution_count": 11,
   "metadata": {},
   "outputs": [],
   "source": [
    "# 1. Create a user-defined function to calculate skewness."
   ]
  },
  {
   "cell_type": "code",
   "execution_count": 12,
   "metadata": {},
   "outputs": [],
   "source": [
    "# 2. Create a user-defined function to calculate Kurtosis."
   ]
  },
  {
   "cell_type": "code",
   "execution_count": 13,
   "metadata": {},
   "outputs": [],
   "source": [
    "# 3. Verify with inbuilt function in python"
   ]
  }
 ],
 "metadata": {
  "colab": {
   "include_colab_link": true,
   "name": "CS575_Lab1_exercise.ipynb",
   "provenance": []
  },
  "kernelspec": {
   "display_name": "Python 3",
   "language": "python",
   "name": "python3"
  },
  "language_info": {
   "codemirror_mode": {
    "name": "ipython",
    "version": 3
   },
   "file_extension": ".py",
   "mimetype": "text/x-python",
   "name": "python",
   "nbconvert_exporter": "python",
   "pygments_lexer": "ipython3",
   "version": "3.8.5"
  }
 },
 "nbformat": 4,
 "nbformat_minor": 1
}
