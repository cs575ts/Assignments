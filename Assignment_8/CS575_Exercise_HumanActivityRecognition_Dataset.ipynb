{
  "nbformat": 4,
  "nbformat_minor": 0,
  "metadata": {
    "colab": {
      "name": "CS575_Exercise_HumanActivityRecognition_Dataset.ipynb",
      "provenance": []
    },
    "kernelspec": {
      "name": "python3",
      "display_name": "Python 3"
    },
    "language_info": {
      "name": "python"
    }
  },
  "cells": [
    {
      "cell_type": "code",
      "metadata": {
        "id": "2KQpS-FSAo-w"
      },
      "source": [
        "# Read the Raw signal form Human Activity Recognition DataSet"
      ],
      "execution_count": 1,
      "outputs": []
    },
    {
      "cell_type": "code",
      "metadata": {
        "id": "6lhGR0IPBCSV"
      },
      "source": [
        "# Extact following features from signals\n",
        "\n",
        "#mean(): Mean value\n",
        "#std(): Standard deviation\n",
        "#mad(): Median absolute deviation \n",
        "#max(): Largest value in array\n",
        "#min(): Smallest value in array\n",
        "#sma(): Signal magnitude area\n",
        "#energy(): Energy measure. Sum of the squares divided by the number of values. \n",
        "#iqr(): Interquartile range \n",
        "#entropy(): Signal entropy"
      ],
      "execution_count": 2,
      "outputs": []
    },
    {
      "cell_type": "code",
      "metadata": {
        "id": "J55nnHZaBm1g"
      },
      "source": [
        "# Extract and visualize first 3 principal components "
      ],
      "execution_count": 5,
      "outputs": []
    },
    {
      "cell_type": "code",
      "metadata": {
        "id": "1FMjZCqgB3Oa"
      },
      "source": [
        "# Extract and visualize first 3 linear discriminant "
      ],
      "execution_count": 6,
      "outputs": []
    },
    {
      "cell_type": "code",
      "metadata": {
        "id": "_mAu1Oa9DlnP"
      },
      "source": [
        ""
      ],
      "execution_count": null,
      "outputs": []
    },
    {
      "cell_type": "code",
      "metadata": {
        "id": "mezi-5bbDllH"
      },
      "source": [
        ""
      ],
      "execution_count": null,
      "outputs": []
    },
    {
      "cell_type": "code",
      "metadata": {
        "id": "rKCsToxvDljR"
      },
      "source": [
        ""
      ],
      "execution_count": null,
      "outputs": []
    },
    {
      "cell_type": "code",
      "metadata": {
        "id": "lcGgWPYlCHD8"
      },
      "source": [
        "# Read extracted features data form Human Activity Recognition DataSet (UCI_HAR_Dataset/train/X_train.txt)"
      ],
      "execution_count": 11,
      "outputs": []
    },
    {
      "cell_type": "code",
      "metadata": {
        "id": "8NU03jpRDkZ_"
      },
      "source": [
        "# Train non-linear SVM model on train set  "
      ],
      "execution_count": 12,
      "outputs": []
    },
    {
      "cell_type": "code",
      "metadata": {
        "id": "y8yCqE-2EDce"
      },
      "source": [
        "# Test the model on test data (UCI_HAR_Dataset/train/X_test.txt)"
      ],
      "execution_count": 13,
      "outputs": []
    },
    {
      "cell_type": "code",
      "metadata": {
        "id": "_yTewwuhD6DR"
      },
      "source": [
        "# print the accuracy and confusion matrix "
      ],
      "execution_count": 14,
      "outputs": []
    },
    {
      "cell_type": "code",
      "metadata": {
        "id": "43Vo7qwuEMnw"
      },
      "source": [
        ""
      ],
      "execution_count": null,
      "outputs": []
    }
  ]
}