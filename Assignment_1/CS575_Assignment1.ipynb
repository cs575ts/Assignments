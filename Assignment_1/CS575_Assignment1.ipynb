{
  "nbformat": 4,
  "nbformat_minor": 0,
  "metadata": {
    "colab": {
      "name": "CS575_Assignment1.ipynb",
      "provenance": [],
      "authorship_tag": "ABX9TyPV5n5PH1uJL2aC7psBdsab",
      "include_colab_link": true
    },
    "kernelspec": {
      "name": "python3",
      "display_name": "Python 3"
    }
  },
  "cells": [
    {
      "cell_type": "markdown",
      "metadata": {
        "id": "view-in-github",
        "colab_type": "text"
      },
      "source": [
        "<a href=\"https://colab.research.google.com/github/cs575ts/Assignments/blob/main/Assignment_1/CS575_Assignment1.ipynb\" target=\"_parent\"><img src=\"https://colab.research.google.com/assets/colab-badge.svg\" alt=\"Open In Colab\"/></a>"
      ]
    },
    {
      "cell_type": "markdown",
      "metadata": {
        "id": "5UVv_bwue7JE"
      },
      "source": [
        "#Basic Descriptive Stats"
      ]
    },
    {
      "cell_type": "markdown",
      "metadata": {
        "id": "r1WSk4v2pabB"
      },
      "source": [
        "##Load Numpy, Pandas and other Libraries"
      ]
    },
    {
      "cell_type": "markdown",
      "metadata": {
        "id": "0E_fqWDcpk1S"
      },
      "source": [
        "### Load Dataset \"Inc_Exp_Data.csv\" using Pandas"
      ]
    },
    {
      "cell_type": "markdown",
      "metadata": {
        "id": "26a653XTpsrL"
      },
      "source": [
        "Analyze the data using pandas info() *function*"
      ]
    },
    {
      "cell_type": "code",
      "metadata": {
        "id": "HbA5rIO4qJSS"
      },
      "source": [
        ""
      ],
      "execution_count": null,
      "outputs": []
    },
    {
      "cell_type": "markdown",
      "metadata": {
        "id": "0bfcP5Twp4Sr"
      },
      "source": [
        "Analyze the data using pandas describe() *function*"
      ]
    },
    {
      "cell_type": "code",
      "metadata": {
        "id": "wf08Cv0cqJ-K"
      },
      "source": [
        ""
      ],
      "execution_count": null,
      "outputs": []
    },
    {
      "cell_type": "markdown",
      "metadata": {
        "id": "Gy_Q1psDp3K0"
      },
      "source": [
        "Analyze the data using pandas shape object"
      ]
    },
    {
      "cell_type": "code",
      "metadata": {
        "id": "lskKTYblqKUC"
      },
      "source": [
        ""
      ],
      "execution_count": null,
      "outputs": []
    },
    {
      "cell_type": "markdown",
      "metadata": {
        "id": "bTQjekrUp9LW"
      },
      "source": [
        "Check for missing values"
      ]
    },
    {
      "cell_type": "code",
      "metadata": {
        "id": "e9FUUTH7qKtq"
      },
      "source": [
        ""
      ],
      "execution_count": null,
      "outputs": []
    },
    {
      "cell_type": "markdown",
      "metadata": {
        "id": "VSfKC-bgqLFC"
      },
      "source": [
        "What is the Mean Expense of a Household? Compute mean using Inbuilt pandas function and write your own function for the same."
      ]
    },
    {
      "cell_type": "code",
      "metadata": {
        "id": "DCRfeoKZqMzP"
      },
      "source": [
        ""
      ],
      "execution_count": null,
      "outputs": []
    },
    {
      "cell_type": "markdown",
      "metadata": {
        "id": "f9YrCDbZqNH6"
      },
      "source": [
        "What is the Median Household Expense? Compute Median using Inbuilt pandas function and write your own function for the same."
      ]
    },
    {
      "cell_type": "code",
      "metadata": {
        "id": "wYWaDFM2qPxq"
      },
      "source": [
        ""
      ],
      "execution_count": null,
      "outputs": []
    },
    {
      "cell_type": "markdown",
      "metadata": {
        "id": "jD4gKP8IqRFT"
      },
      "source": [
        "What is the Monthly Expense for most of the Households?\r\n"
      ]
    },
    {
      "cell_type": "code",
      "metadata": {
        "id": "OrUkGIVlqUJb"
      },
      "source": [
        ""
      ],
      "execution_count": null,
      "outputs": []
    },
    {
      "cell_type": "markdown",
      "metadata": {
        "id": "8jr8qcM2qV77"
      },
      "source": [
        "Plot the Histogram to count the Highest qualified member"
      ]
    },
    {
      "cell_type": "code",
      "metadata": {
        "id": "IWuA3qMPqWFL"
      },
      "source": [
        ""
      ],
      "execution_count": null,
      "outputs": []
    },
    {
      "cell_type": "markdown",
      "metadata": {
        "id": "ptQRMowytYWi"
      },
      "source": [
        "Write your observations from the histogram plotted"
      ]
    },
    {
      "cell_type": "code",
      "metadata": {
        "id": "VhlvZuolthEx"
      },
      "source": [
        ""
      ],
      "execution_count": null,
      "outputs": []
    },
    {
      "cell_type": "markdown",
      "metadata": {
        "id": "CZtVOZxJqXzz"
      },
      "source": [
        "Calculate IQR(difference between 75% and 25% quartile)"
      ]
    },
    {
      "cell_type": "code",
      "metadata": {
        "id": "sxPVuHYrqX8s"
      },
      "source": [
        ""
      ],
      "execution_count": null,
      "outputs": []
    },
    {
      "cell_type": "markdown",
      "metadata": {
        "id": "jElORm3tqblT"
      },
      "source": [
        "Calculate Standard Deviation for first 4 columns. Compute Standard Deviation using Inbuilt pandas function and write your own function for the same."
      ]
    },
    {
      "cell_type": "code",
      "metadata": {
        "id": "ZYA56UIHqbsD"
      },
      "source": [
        ""
      ],
      "execution_count": null,
      "outputs": []
    },
    {
      "cell_type": "markdown",
      "metadata": {
        "id": "UHL1TLkPqfNX"
      },
      "source": [
        "Calculate Variance for first 3 columns. Compute Variance using Inbuilt pandas \r\n",
        "function and write your own function for the same."
      ]
    },
    {
      "cell_type": "code",
      "metadata": {
        "id": "W30ohdg-tyAZ"
      },
      "source": [
        ""
      ],
      "execution_count": null,
      "outputs": []
    },
    {
      "cell_type": "markdown",
      "metadata": {
        "id": "ASY9WWAAuIx-"
      },
      "source": [
        "Calculate Skewness for first 3 columns. Compute Skewness using Inbuilt pandas function and write your own function for the same.\r\n"
      ]
    },
    {
      "cell_type": "code",
      "metadata": {
        "id": "Sl4uw-jouI88"
      },
      "source": [
        ""
      ],
      "execution_count": null,
      "outputs": []
    },
    {
      "cell_type": "markdown",
      "metadata": {
        "id": "bHm8S-umuKV9"
      },
      "source": [
        "Calculate Kurtosis for first 3 columns. Compute Kurtosis using Inbuilt pandas function and write your own function for the same."
      ]
    },
    {
      "cell_type": "code",
      "metadata": {
        "id": "_7DYdHt3uKkd"
      },
      "source": [
        ""
      ],
      "execution_count": null,
      "outputs": []
    },
    {
      "cell_type": "markdown",
      "metadata": {
        "id": "Mg32NdXwtCM6"
      },
      "source": [
        "Find the correlation coeeficient between the \"Mthly_HH_Income\" and\t\"Mthly_HH_Expense\". Compute correlation coeeficient using Inbuilt pandas function and write your own function for the same.\r\n"
      ]
    },
    {
      "cell_type": "code",
      "metadata": {
        "id": "my0YjieUq2A6"
      },
      "source": [
        ""
      ],
      "execution_count": null,
      "outputs": []
    },
    {
      "cell_type": "markdown",
      "metadata": {
        "id": "sNTnuxS3q2kD"
      },
      "source": [
        "Calculate the total counts under each qualification"
      ]
    },
    {
      "cell_type": "code",
      "metadata": {
        "id": "9uYeQk_xq2si"
      },
      "source": [
        ""
      ],
      "execution_count": null,
      "outputs": []
    },
    {
      "cell_type": "markdown",
      "metadata": {
        "id": "mrFFxCwYrKiy"
      },
      "source": [
        "Plot the Histogram to count the No_of_Earning_Members"
      ]
    },
    {
      "cell_type": "code",
      "metadata": {
        "id": "U3eCyvv0rK8r"
      },
      "source": [
        ""
      ],
      "execution_count": null,
      "outputs": []
    },
    {
      "cell_type": "markdown",
      "metadata": {
        "id": "tJmxeuVDuRKc"
      },
      "source": [
        "Plot pairplot using seaborn. for the whole dataset. Try with at least three different options of the diagonal row."
      ]
    },
    {
      "cell_type": "code",
      "metadata": {
        "id": "S9ZNPW76uV1d"
      },
      "source": [
        ""
      ],
      "execution_count": null,
      "outputs": []
    },
    {
      "cell_type": "markdown",
      "metadata": {
        "id": "cXRkqhTdu7Yc"
      },
      "source": [
        "What is the observation from the pairplot"
      ]
    },
    {
      "cell_type": "code",
      "metadata": {
        "id": "FadEcJ5XuRQs"
      },
      "source": [
        ""
      ],
      "execution_count": null,
      "outputs": []
    },
    {
      "cell_type": "markdown",
      "metadata": {
        "id": "BkRdqVJBu1jN"
      },
      "source": [
        "Plot  the boxplot for all numerical columns. "
      ]
    },
    {
      "cell_type": "code",
      "metadata": {
        "id": "vUmtulERu1q8"
      },
      "source": [
        ""
      ],
      "execution_count": null,
      "outputs": []
    }
  ]
}