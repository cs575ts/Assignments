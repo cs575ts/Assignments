{
  "nbformat": 4,
  "nbformat_minor": 0,
  "metadata": {
    "colab": {
      "name": "LSTM_AnomalyDetection.ipynb",
      "provenance": [],
      "collapsed_sections": []
    },
    "kernelspec": {
      "name": "python3",
      "display_name": "Python 3"
    }
  },
  "cells": [
    {
      "cell_type": "markdown",
      "metadata": {
        "id": "1puhAUraGN4e"
      },
      "source": [
        "# **Anomaly detection using LSTM**"
      ]
    },
    {
      "cell_type": "markdown",
      "metadata": {
        "id": "ASdaQpO9GVBP"
      },
      "source": [
        "## **Long Short Term Memory**\n"
      ]
    },
    {
      "cell_type": "markdown",
      "metadata": {
        "id": "jBS-NMDAHdll"
      },
      "source": [
        "\n",
        "\n",
        "\n",
        "\n",
        "*   Recurrent neural network have vanishing gradient problem.\n",
        "\n",
        "\n",
        "*   Long Short Term Memory networks capable of learning long-term dependencies using cell memory unit.\n",
        "\n",
        "\n",
        "\n",
        "*   **LSTM has three gates to control the cell state**  - Input gate , Output gate , Forget gate\n",
        "\n",
        "\n",
        "\n",
        "\n",
        "\n",
        "\n"
      ]
    },
    {
      "cell_type": "code",
      "metadata": {
        "id": "Up3CCwVJm4aD",
        "colab": {
          "resources": {
            "http://localhost:8080/nbextensions/google.colab/files.js": {
              "data": "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",
              "ok": true,
              "headers": [
                [
                  "content-type",
                  "application/javascript"
                ]
              ],
              "status": 200,
              "status_text": ""
            }
          },
          "base_uri": "https://localhost:8080/",
          "height": 73
        },
        "outputId": "5db4cb89-f800-4833-d0eb-dc32cfeae2aa"
      },
      "source": [
        "from google.colab import files\n",
        "uploaded = files.upload()"
      ],
      "execution_count": null,
      "outputs": [
        {
          "output_type": "display_data",
          "data": {
            "text/html": [
              "\n",
              "     <input type=\"file\" id=\"files-997b676e-ae0b-497e-811a-e6dfbc5280d6\" name=\"files[]\" multiple disabled\n",
              "        style=\"border:none\" />\n",
              "     <output id=\"result-997b676e-ae0b-497e-811a-e6dfbc5280d6\">\n",
              "      Upload widget is only available when the cell has been executed in the\n",
              "      current browser session. Please rerun this cell to enable.\n",
              "      </output>\n",
              "      <script src=\"/nbextensions/google.colab/files.js\"></script> "
            ],
            "text/plain": [
              "<IPython.core.display.HTML object>"
            ]
          },
          "metadata": {
            "tags": []
          }
        },
        {
          "output_type": "stream",
          "text": [
            "Saving ambient_temperature_system_failure.txt to ambient_temperature_system_failure.txt\n"
          ],
          "name": "stdout"
        }
      ]
    },
    {
      "cell_type": "code",
      "metadata": {
        "id": "GeXDlvUdtWQR"
      },
      "source": [
        "import pandas as pd\n",
        "import numpy as np\n",
        "from sklearn import preprocessing\n",
        "from keras.models import Sequential\n",
        "from keras.layers.recurrent import LSTM\n",
        "from keras.layers.core import Dense, Activation, Dropout\n",
        "from sklearn.metrics import confusion_matrix\n",
        "import time \n",
        "import matplotlib.pyplot as plt"
      ],
      "execution_count": null,
      "outputs": []
    },
    {
      "cell_type": "code",
      "metadata": {
        "id": "crnZ2nXOj-aE"
      },
      "source": [
        "df = pd.read_csv(\"ambient_temperature_system_failure.txt\")"
      ],
      "execution_count": null,
      "outputs": []
    },
    {
      "cell_type": "code",
      "metadata": {
        "colab": {
          "base_uri": "https://localhost:8080/"
        },
        "id": "7spFAMlOlVU_",
        "outputId": "64e32be0-5ff1-4d3c-c930-4903343bf772"
      },
      "source": [
        "print(df.info())"
      ],
      "execution_count": null,
      "outputs": [
        {
          "output_type": "stream",
          "text": [
            "<class 'pandas.core.frame.DataFrame'>\n",
            "RangeIndex: 7267 entries, 0 to 7266\n",
            "Data columns (total 2 columns):\n",
            " #   Column     Non-Null Count  Dtype  \n",
            "---  ------     --------------  -----  \n",
            " 0   timestamp  7267 non-null   object \n",
            " 1   value      7267 non-null   float64\n",
            "dtypes: float64(1), object(1)\n",
            "memory usage: 113.7+ KB\n",
            "None\n"
          ],
          "name": "stdout"
        }
      ]
    },
    {
      "cell_type": "code",
      "metadata": {
        "colab": {
          "base_uri": "https://localhost:8080/"
        },
        "id": "ix9enUdjlVXa",
        "outputId": "9328a6e0-bf18-4555-d023-39edc6b089f5"
      },
      "source": [
        "print(df.head(10))"
      ],
      "execution_count": null,
      "outputs": [
        {
          "output_type": "stream",
          "text": [
            "             timestamp      value\n",
            "0  2013-07-04 00:00:00  69.880835\n",
            "1  2013-07-04 01:00:00  71.220227\n",
            "2  2013-07-04 02:00:00  70.877805\n",
            "3  2013-07-04 03:00:00  68.959400\n",
            "4  2013-07-04 04:00:00  69.283551\n",
            "5  2013-07-04 05:00:00  70.060966\n",
            "6  2013-07-04 06:00:00  69.279765\n",
            "7  2013-07-04 07:00:00  69.369608\n",
            "8  2013-07-04 08:00:00  69.166714\n",
            "9  2013-07-04 09:00:00  68.986083\n"
          ],
          "name": "stdout"
        }
      ]
    },
    {
      "cell_type": "code",
      "metadata": {
        "colab": {
          "base_uri": "https://localhost:8080/",
          "height": 295
        },
        "id": "sMT154xllVZW",
        "outputId": "9ec9d752-8639-48f9-d60e-4cd2bbb4c484"
      },
      "source": [
        "df['timestamp'] = pd.to_datetime(df['timestamp'])\n",
        "df['value'] = (df['value'] - 32) * 5/9\n",
        "df.plot(x='timestamp', y='value')"
      ],
      "execution_count": null,
      "outputs": [
        {
          "output_type": "execute_result",
          "data": {
            "text/plain": [
              "<matplotlib.axes._subplots.AxesSubplot at 0x7fd255b71c10>"
            ]
          },
          "metadata": {
            "tags": []
          },
          "execution_count": 8
        },
        {
          "output_type": "display_data",
          "data": {
            "image/png": "[encoded data removed]",
            "text/plain": [
              "<Figure size 432x288 with 1 Axes>"
            ]
          },
          "metadata": {
            "tags": [],
            "needs_background": "light"
          }
        }
      ]
    },
    {
      "cell_type": "markdown",
      "metadata": {
        "id": "crvvdafrl8bw"
      },
      "source": [
        "# Extract useful features\n",
        "\n",
        "Extracting the following useful features :\n",
        "\n",
        "**1. Hours** - 24 hours (0-23) \\\n",
        "\n",
        "**2. Daytime** - \\\n",
        " Daytime = 1 , if hour is in 7:00 AM to 10:00 PM \\\n",
        " Daytime = 0 , otherwise (Night_time) \\\n",
        "\n",
        "**3. DayOfTheWeek** -  ( Monday - 0 )  to (Sunday - 6) \\\n",
        "\n",
        "**4. WeekDay** - \\\n",
        "WeekDay = 1 , if Day of week < 5 \\\n",
        "WeekDay = 0 , Otherwise (saturday and sunday)\n",
        "\n",
        "**5. categories** - \\\n",
        "0 - Week end night \\\n",
        "1 - Week end daytime \\\n",
        "2 - Week day night \\\n",
        "3 - Week day day time \\\n"
      ]
    },
    {
      "cell_type": "code",
      "metadata": {
        "id": "HaF8NVR3lgWa"
      },
      "source": [
        "df['hours'] = df['timestamp'].dt.hour\n",
        "df['daylight'] = ((df['hours'] >= 7) & (df['hours'] <= 22)).astype(int)"
      ],
      "execution_count": null,
      "outputs": []
    },
    {
      "cell_type": "code",
      "metadata": {
        "id": "egEnqoNClgYz"
      },
      "source": [
        "df['DayOfTheWeek'] = df['timestamp'].dt.dayofweek\n",
        "df['WeekDay'] = (df['DayOfTheWeek'] < 5).astype(int)"
      ],
      "execution_count": null,
      "outputs": []
    },
    {
      "cell_type": "code",
      "metadata": {
        "id": "21iW-XRUlggj"
      },
      "source": [
        "df['time_epoch'] = (df['timestamp'].astype(np.int64)/100000000000).astype(np.int64)"
      ],
      "execution_count": null,
      "outputs": []
    },
    {
      "cell_type": "code",
      "metadata": {
        "id": "Izjom2Q-lgj9"
      },
      "source": [
        "df['categories'] = df['WeekDay']*2 + df['daylight']\n",
        "\n",
        "a = df.loc[df['categories'] == 0, 'value']\n",
        "b = df.loc[df['categories'] == 1, 'value']\n",
        "c = df.loc[df['categories'] == 2, 'value']\n",
        "d = df.loc[df['categories'] == 3, 'value']"
      ],
      "execution_count": null,
      "outputs": []
    },
    {
      "cell_type": "code",
      "metadata": {
        "id": "7AtbLWpOlVbr"
      },
      "source": [
        "df.to_csv(\"data1.csv\",index=None)"
      ],
      "execution_count": null,
      "outputs": []
    },
    {
      "cell_type": "markdown",
      "metadata": {
        "id": "jpOkQJLxt6Bm"
      },
      "source": [
        "# Long Short term memory (LSTM) model -1\n",
        "\n",
        " - Anomaly detection using time series forecasting"
      ]
    },
    {
      "cell_type": "markdown",
      "metadata": {
        "id": "v5uMStp4uPlf"
      },
      "source": [
        "**# Read the data**"
      ]
    },
    {
      "cell_type": "code",
      "metadata": {
        "id": "JdsL3P9-tqnB"
      },
      "source": [
        "df = pd.read_csv(\"data1.csv\")"
      ],
      "execution_count": null,
      "outputs": []
    },
    {
      "cell_type": "code",
      "metadata": {
        "id": "a23dQ46sYnSk",
        "colab": {
          "base_uri": "https://localhost:8080/",
          "height": 194
        },
        "outputId": "f7680090-9e35-45fd-f9ce-fd78f5514232"
      },
      "source": [
        "df.head()"
      ],
      "execution_count": null,
      "outputs": [
        {
          "output_type": "execute_result",
          "data": {
            "text/html": [
              "<div>\n",
              "<style scoped>\n",
              "    .dataframe tbody tr th:only-of-type {\n",
              "        vertical-align: middle;\n",
              "    }\n",
              "\n",
              "    .dataframe tbody tr th {\n",
              "        vertical-align: top;\n",
              "    }\n",
              "\n",
              "    .dataframe thead th {\n",
              "        text-align: right;\n",
              "    }\n",
              "</style>\n",
              "<table border=\"1\" class=\"dataframe\">\n",
              "  <thead>\n",
              "    <tr style=\"text-align: right;\">\n",
              "      <th></th>\n",
              "      <th>timestamp</th>\n",
              "      <th>value</th>\n",
              "      <th>hours</th>\n",
              "      <th>daylight</th>\n",
              "      <th>DayOfTheWeek</th>\n",
              "      <th>WeekDay</th>\n",
              "      <th>time_epoch</th>\n",
              "      <th>categories</th>\n",
              "    </tr>\n",
              "  </thead>\n",
              "  <tbody>\n",
              "    <tr>\n",
              "      <th>0</th>\n",
              "      <td>2013-07-04 00:00:00</td>\n",
              "      <td>21.044908</td>\n",
              "      <td>0</td>\n",
              "      <td>0</td>\n",
              "      <td>3</td>\n",
              "      <td>1</td>\n",
              "      <td>13728960</td>\n",
              "      <td>2</td>\n",
              "    </tr>\n",
              "    <tr>\n",
              "      <th>1</th>\n",
              "      <td>2013-07-04 01:00:00</td>\n",
              "      <td>21.789015</td>\n",
              "      <td>1</td>\n",
              "      <td>0</td>\n",
              "      <td>3</td>\n",
              "      <td>1</td>\n",
              "      <td>13728996</td>\n",
              "      <td>2</td>\n",
              "    </tr>\n",
              "    <tr>\n",
              "      <th>2</th>\n",
              "      <td>2013-07-04 02:00:00</td>\n",
              "      <td>21.598781</td>\n",
              "      <td>2</td>\n",
              "      <td>0</td>\n",
              "      <td>3</td>\n",
              "      <td>1</td>\n",
              "      <td>13729032</td>\n",
              "      <td>2</td>\n",
              "    </tr>\n",
              "    <tr>\n",
              "      <th>3</th>\n",
              "      <td>2013-07-04 03:00:00</td>\n",
              "      <td>20.533000</td>\n",
              "      <td>3</td>\n",
              "      <td>0</td>\n",
              "      <td>3</td>\n",
              "      <td>1</td>\n",
              "      <td>13729068</td>\n",
              "      <td>2</td>\n",
              "    </tr>\n",
              "    <tr>\n",
              "      <th>4</th>\n",
              "      <td>2013-07-04 04:00:00</td>\n",
              "      <td>20.713084</td>\n",
              "      <td>4</td>\n",
              "      <td>0</td>\n",
              "      <td>3</td>\n",
              "      <td>1</td>\n",
              "      <td>13729104</td>\n",
              "      <td>2</td>\n",
              "    </tr>\n",
              "  </tbody>\n",
              "</table>\n",
              "</div>"
            ],
            "text/plain": [
              "             timestamp      value  hours  ...  WeekDay  time_epoch  categories\n",
              "0  2013-07-04 00:00:00  21.044908      0  ...        1    13728960           2\n",
              "1  2013-07-04 01:00:00  21.789015      1  ...        1    13728996           2\n",
              "2  2013-07-04 02:00:00  21.598781      2  ...        1    13729032           2\n",
              "3  2013-07-04 03:00:00  20.533000      3  ...        1    13729068           2\n",
              "4  2013-07-04 04:00:00  20.713084      4  ...        1    13729104           2\n",
              "\n",
              "[5 rows x 8 columns]"
            ]
          },
          "metadata": {
            "tags": []
          },
          "execution_count": 16
        }
      ]
    },
    {
      "cell_type": "markdown",
      "metadata": {
        "id": "dRBXXLaHunNe"
      },
      "source": [
        "**# Standardize data**\n",
        "\n",
        "Standardize features by removing the mean and scaling to unit variance. \\"
      ]
    },
    {
      "cell_type": "code",
      "metadata": {
        "id": "83jtqeN6uOyW"
      },
      "source": [
        "data_n = df[['value', 'hours', 'daylight', 'DayOfTheWeek', 'WeekDay','categories']]\n",
        "min_max_scaler = preprocessing.StandardScaler()\n",
        "np_scaled = min_max_scaler.fit_transform(data_n)\n",
        "data_n = pd.DataFrame(np_scaled)"
      ],
      "execution_count": null,
      "outputs": []
    },
    {
      "cell_type": "code",
      "metadata": {
        "id": "LYzzgp0LhZ0Q",
        "colab": {
          "base_uri": "https://localhost:8080/",
          "height": 194
        },
        "outputId": "80bbbf6e-535e-4a54-a8fa-e89ef0b07409"
      },
      "source": [
        "data_n.head(5)"
      ],
      "execution_count": null,
      "outputs": [
        {
          "output_type": "execute_result",
          "data": {
            "text/html": [
              "<div>\n",
              "<style scoped>\n",
              "    .dataframe tbody tr th:only-of-type {\n",
              "        vertical-align: middle;\n",
              "    }\n",
              "\n",
              "    .dataframe tbody tr th {\n",
              "        vertical-align: top;\n",
              "    }\n",
              "\n",
              "    .dataframe thead th {\n",
              "        text-align: right;\n",
              "    }\n",
              "</style>\n",
              "<table border=\"1\" class=\"dataframe\">\n",
              "  <thead>\n",
              "    <tr style=\"text-align: right;\">\n",
              "      <th></th>\n",
              "      <th>0</th>\n",
              "      <th>1</th>\n",
              "      <th>2</th>\n",
              "      <th>3</th>\n",
              "      <th>4</th>\n",
              "      <th>5</th>\n",
              "    </tr>\n",
              "  </thead>\n",
              "  <tbody>\n",
              "    <tr>\n",
              "      <th>0</th>\n",
              "      <td>-0.320586</td>\n",
              "      <td>-1.661537</td>\n",
              "      <td>-1.414798</td>\n",
              "      <td>0.005769</td>\n",
              "      <td>0.62132</td>\n",
              "      <td>-0.108248</td>\n",
              "    </tr>\n",
              "    <tr>\n",
              "      <th>1</th>\n",
              "      <td>-0.005228</td>\n",
              "      <td>-1.517172</td>\n",
              "      <td>-1.414798</td>\n",
              "      <td>0.005769</td>\n",
              "      <td>0.62132</td>\n",
              "      <td>-0.108248</td>\n",
              "    </tr>\n",
              "    <tr>\n",
              "      <th>2</th>\n",
              "      <td>-0.085851</td>\n",
              "      <td>-1.372807</td>\n",
              "      <td>-1.414798</td>\n",
              "      <td>0.005769</td>\n",
              "      <td>0.62132</td>\n",
              "      <td>-0.108248</td>\n",
              "    </tr>\n",
              "    <tr>\n",
              "      <th>3</th>\n",
              "      <td>-0.537536</td>\n",
              "      <td>-1.228442</td>\n",
              "      <td>-1.414798</td>\n",
              "      <td>0.005769</td>\n",
              "      <td>0.62132</td>\n",
              "      <td>-0.108248</td>\n",
              "    </tr>\n",
              "    <tr>\n",
              "      <th>4</th>\n",
              "      <td>-0.461215</td>\n",
              "      <td>-1.084077</td>\n",
              "      <td>-1.414798</td>\n",
              "      <td>0.005769</td>\n",
              "      <td>0.62132</td>\n",
              "      <td>-0.108248</td>\n",
              "    </tr>\n",
              "  </tbody>\n",
              "</table>\n",
              "</div>"
            ],
            "text/plain": [
              "          0         1         2         3        4         5\n",
              "0 -0.320586 -1.661537 -1.414798  0.005769  0.62132 -0.108248\n",
              "1 -0.005228 -1.517172 -1.414798  0.005769  0.62132 -0.108248\n",
              "2 -0.085851 -1.372807 -1.414798  0.005769  0.62132 -0.108248\n",
              "3 -0.537536 -1.228442 -1.414798  0.005769  0.62132 -0.108248\n",
              "4 -0.461215 -1.084077 -1.414798  0.005769  0.62132 -0.108248"
            ]
          },
          "metadata": {
            "tags": []
          },
          "execution_count": 18
        }
      ]
    },
    {
      "cell_type": "code",
      "metadata": {
        "id": "t738HEI1jwj7",
        "colab": {
          "base_uri": "https://localhost:8080/",
          "height": 283
        },
        "outputId": "bf7edffa-5416-40ee-8046-b7dffb6024bd"
      },
      "source": [
        "plt.plot(data_n[0])"
      ],
      "execution_count": null,
      "outputs": [
        {
          "output_type": "execute_result",
          "data": {
            "text/plain": [
              "[<matplotlib.lines.Line2D at 0x7fd254f44810>]"
            ]
          },
          "metadata": {
            "tags": []
          },
          "execution_count": 19
        },
        {
          "output_type": "display_data",
          "data": {
            "image/png": "[encoded data removed]",
            "text/plain": [
              "<Figure size 432x288 with 1 Axes>"
            ]
          },
          "metadata": {
            "tags": [],
            "needs_background": "light"
          }
        }
      ]
    },
    {
      "cell_type": "markdown",
      "metadata": {
        "id": "O9hZTnEOmmsp"
      },
      "source": [
        "**Time Series Lag Scatter Plots**\n",
        "\n",
        " - Time series modeling assumes a relationship between an observation and the previous observation.\n",
        "\n",
        " - If the points cluster along a diagonal line from the bottom-left to the top-right of the plot, it suggests a positive correlation relationship.\n",
        "\n",
        " - If the points cluster along a diagonal line from the top-left to the bottom-right, it suggests a negative correlation relationship.\n",
        "\n",
        "\n",
        "**Example -**\n",
        "\n",
        "**Series** \\\n",
        " {1,2,3,4,5,6,7,8,9}\n",
        "\n",
        "**Lagged version of series** \\\n",
        " {1,2,3,4,5,6,7,8} \\\n",
        " {2,3,4,5,6,7,8,9}"
      ]
    },
    {
      "cell_type": "code",
      "metadata": {
        "id": "qRzBGrORmdKF",
        "colab": {
          "base_uri": "https://localhost:8080/",
          "height": 297
        },
        "outputId": "b1459683-be28-41b2-edb0-8fa792256a14"
      },
      "source": [
        "pd.plotting.lag_plot(df['value'], lag=2)"
      ],
      "execution_count": null,
      "outputs": [
        {
          "output_type": "execute_result",
          "data": {
            "text/plain": [
              "<matplotlib.axes._subplots.AxesSubplot at 0x7fd2548f5390>"
            ]
          },
          "metadata": {
            "tags": []
          },
          "execution_count": 21
        },
        {
          "output_type": "display_data",
          "data": {
            "image/png": "[encoded data removed]",
            "text/plain": [
              "<Figure size 432x288 with 1 Axes>"
            ]
          },
          "metadata": {
            "tags": [],
            "needs_background": "light"
          }
        }
      ]
    },
    {
      "cell_type": "markdown",
      "metadata": {
        "id": "uCUT3T8wCC8y"
      },
      "source": [
        "# Prepare data set for time series forecasting"
      ]
    },
    {
      "cell_type": "markdown",
      "metadata": {
        "id": "lI1y2LvyvQDM"
      },
      "source": [
        "**# split the data set into train and test set** \\\n",
        "\n",
        "Train set - (input_train, output_train) \\\n",
        "test set - (input_test, output_test)  \\\n",
        " \n",
        "**# dataset** "
      ]
    },
    {
      "cell_type": "code",
      "metadata": {
        "id": "bMrEk7feroZ_",
        "colab": {
          "base_uri": "https://localhost:8080/"
        },
        "outputId": "d4d47cad-57f7-41fa-cc96-e32967489119"
      },
      "source": [
        "data_n.shape"
      ],
      "execution_count": null,
      "outputs": [
        {
          "output_type": "execute_result",
          "data": {
            "text/plain": [
              "(7267, 6)"
            ]
          },
          "metadata": {
            "tags": []
          },
          "execution_count": 22
        }
      ]
    },
    {
      "cell_type": "code",
      "metadata": {
        "id": "ejVn6_ghvRy6"
      },
      "source": [
        "# important parameters\n",
        "prediction_time = 1 \n",
        "testdatasize = 1000\n",
        "unroll_length = 50\n",
        "testdatacut = testdatasize + unroll_length  + 1\n",
        "\n",
        "#train data\n",
        "x_train = data_n[0:-prediction_time-testdatacut].values\n",
        "y_train = data_n[prediction_time:-testdatacut  ][0].values\n",
        "\n",
        "# test data\n",
        "x_test = data_n[0-testdatacut:-prediction_time].values\n",
        "y_test = data_n[prediction_time-testdatacut:  ][0].values"
      ],
      "execution_count": null,
      "outputs": []
    },
    {
      "cell_type": "code",
      "metadata": {
        "id": "n2H2WY96wa81",
        "colab": {
          "base_uri": "https://localhost:8080/",
          "height": 194
        },
        "outputId": "59b39d89-7920-48cd-ac66-0f5509d51b5f"
      },
      "source": [
        "data_n.head()"
      ],
      "execution_count": null,
      "outputs": [
        {
          "output_type": "execute_result",
          "data": {
            "text/html": [
              "<div>\n",
              "<style scoped>\n",
              "    .dataframe tbody tr th:only-of-type {\n",
              "        vertical-align: middle;\n",
              "    }\n",
              "\n",
              "    .dataframe tbody tr th {\n",
              "        vertical-align: top;\n",
              "    }\n",
              "\n",
              "    .dataframe thead th {\n",
              "        text-align: right;\n",
              "    }\n",
              "</style>\n",
              "<table border=\"1\" class=\"dataframe\">\n",
              "  <thead>\n",
              "    <tr style=\"text-align: right;\">\n",
              "      <th></th>\n",
              "      <th>0</th>\n",
              "      <th>1</th>\n",
              "      <th>2</th>\n",
              "      <th>3</th>\n",
              "      <th>4</th>\n",
              "      <th>5</th>\n",
              "    </tr>\n",
              "  </thead>\n",
              "  <tbody>\n",
              "    <tr>\n",
              "      <th>0</th>\n",
              "      <td>-0.320586</td>\n",
              "      <td>-1.661537</td>\n",
              "      <td>-1.414798</td>\n",
              "      <td>0.005769</td>\n",
              "      <td>0.62132</td>\n",
              "      <td>-0.108248</td>\n",
              "    </tr>\n",
              "    <tr>\n",
              "      <th>1</th>\n",
              "      <td>-0.005228</td>\n",
              "      <td>-1.517172</td>\n",
              "      <td>-1.414798</td>\n",
              "      <td>0.005769</td>\n",
              "      <td>0.62132</td>\n",
              "      <td>-0.108248</td>\n",
              "    </tr>\n",
              "    <tr>\n",
              "      <th>2</th>\n",
              "      <td>-0.085851</td>\n",
              "      <td>-1.372807</td>\n",
              "      <td>-1.414798</td>\n",
              "      <td>0.005769</td>\n",
              "      <td>0.62132</td>\n",
              "      <td>-0.108248</td>\n",
              "    </tr>\n",
              "    <tr>\n",
              "      <th>3</th>\n",
              "      <td>-0.537536</td>\n",
              "      <td>-1.228442</td>\n",
              "      <td>-1.414798</td>\n",
              "      <td>0.005769</td>\n",
              "      <td>0.62132</td>\n",
              "      <td>-0.108248</td>\n",
              "    </tr>\n",
              "    <tr>\n",
              "      <th>4</th>\n",
              "      <td>-0.461215</td>\n",
              "      <td>-1.084077</td>\n",
              "      <td>-1.414798</td>\n",
              "      <td>0.005769</td>\n",
              "      <td>0.62132</td>\n",
              "      <td>-0.108248</td>\n",
              "    </tr>\n",
              "  </tbody>\n",
              "</table>\n",
              "</div>"
            ],
            "text/plain": [
              "          0         1         2         3        4         5\n",
              "0 -0.320586 -1.661537 -1.414798  0.005769  0.62132 -0.108248\n",
              "1 -0.005228 -1.517172 -1.414798  0.005769  0.62132 -0.108248\n",
              "2 -0.085851 -1.372807 -1.414798  0.005769  0.62132 -0.108248\n",
              "3 -0.537536 -1.228442 -1.414798  0.005769  0.62132 -0.108248\n",
              "4 -0.461215 -1.084077 -1.414798  0.005769  0.62132 -0.108248"
            ]
          },
          "metadata": {
            "tags": []
          },
          "execution_count": 24
        }
      ]
    },
    {
      "cell_type": "code",
      "metadata": {
        "id": "30s1Gzbwwfbu",
        "colab": {
          "base_uri": "https://localhost:8080/"
        },
        "outputId": "bfb7a4fa-111d-4d1b-afb6-b79ebf6e3463"
      },
      "source": [
        "print(x_train[0])\n",
        "print(x_train[1])\n",
        "print(x_train[2])\n",
        "print(x_train[3])\n",
        "print(x_train[4])"
      ],
      "execution_count": null,
      "outputs": [
        {
          "output_type": "stream",
          "text": [
            "[-0.32058581 -1.66153683 -1.41479759  0.00576899  0.62131999 -0.10824848]\n",
            "[-0.00522828 -1.51717197 -1.41479759  0.00576899  0.62131999 -0.10824848]\n",
            "[-0.08585098 -1.37280711 -1.41479759  0.00576899  0.62131999 -0.10824848]\n",
            "[-0.53753615 -1.22844225 -1.41479759  0.00576899  0.62131999 -0.10824848]\n",
            "[-0.46121534 -1.08407739 -1.41479759  0.00576899  0.62131999 -0.10824848]\n"
          ],
          "name": "stdout"
        }
      ]
    },
    {
      "cell_type": "code",
      "metadata": {
        "id": "fDyeKX_PwoUj",
        "colab": {
          "base_uri": "https://localhost:8080/"
        },
        "outputId": "b233b374-cf38-45bc-b112-88c2c07abd68"
      },
      "source": [
        "print(y_train[0])\n",
        "print(y_train[1])\n",
        "print(y_train[2])\n",
        "print(y_train[3])\n",
        "print(y_train[4])"
      ],
      "execution_count": null,
      "outputs": [
        {
          "output_type": "stream",
          "text": [
            "-0.005228281827377506\n",
            "-0.08585097833639213\n",
            "-0.537536152011907\n",
            "-0.4612153358440551\n",
            "-0.27817435608313573\n"
          ],
          "name": "stdout"
        }
      ]
    },
    {
      "cell_type": "markdown",
      "metadata": {
        "id": "wFzQ1rFKsTqK"
      },
      "source": [
        "**# size of train and test data set**"
      ]
    },
    {
      "cell_type": "code",
      "metadata": {
        "id": "fEs8flyLsZ8a",
        "colab": {
          "base_uri": "https://localhost:8080/"
        },
        "outputId": "cbe2cec8-bdec-4eb3-8f6a-c2cc87b32078"
      },
      "source": [
        "print(x_train.shape)\n",
        "print(y_train.shape)\n",
        "print(x_test.shape)\n",
        "print(y_test.shape)"
      ],
      "execution_count": null,
      "outputs": [
        {
          "output_type": "stream",
          "text": [
            "(6215, 6)\n",
            "(6215,)\n",
            "(1050, 6)\n",
            "(1050,)\n"
          ],
          "name": "stdout"
        }
      ]
    },
    {
      "cell_type": "markdown",
      "metadata": {
        "id": "42_QIenaw_nQ"
      },
      "source": [
        "**# windowing**\n",
        "\n",
        "Window size = 50"
      ]
    },
    {
      "cell_type": "code",
      "metadata": {
        "id": "dDy2prJcw7YM"
      },
      "source": [
        "#windowing\n",
        "def unroll(data,sequence_length=24):\n",
        "    result = []\n",
        "    for index in range(len(data) - sequence_length):\n",
        "        result.append(data[index: index + sequence_length])\n",
        "    return np.asarray(result)\n",
        "\n",
        "# adapt the datasets for the sequence data shape\n",
        "x_train = unroll(x_train,unroll_length)\n",
        "x_test  = unroll(x_test,unroll_length)\n",
        "y_train = y_train[-x_train.shape[0]:]\n",
        "y_test  = y_test[-x_test.shape[0]:]"
      ],
      "execution_count": null,
      "outputs": []
    },
    {
      "cell_type": "markdown",
      "metadata": {
        "id": "UHRXzhmexMb8"
      },
      "source": [
        "**# shape of data**"
      ]
    },
    {
      "cell_type": "code",
      "metadata": {
        "id": "4N0aU-uUxHdb",
        "colab": {
          "base_uri": "https://localhost:8080/"
        },
        "outputId": "2fcd1b2f-5b39-4904-8de1-5746b177ef1a"
      },
      "source": [
        "print(\"x_train\", x_train.shape)\n",
        "print(\"y_train\", y_train.shape)\n",
        "print(\"x_test\", x_test.shape)\n",
        "print(\"y_test\", y_test.shape)"
      ],
      "execution_count": null,
      "outputs": [
        {
          "output_type": "stream",
          "text": [
            "x_train (6165, 50, 6)\n",
            "y_train (6165,)\n",
            "x_test (1000, 50, 6)\n",
            "y_test (1000,)\n"
          ],
          "name": "stdout"
        }
      ]
    },
    {
      "cell_type": "markdown",
      "metadata": {
        "id": "94r-h-mnyZ3E"
      },
      "source": [
        "# LSTM model -1\n",
        "\n",
        "\n"
      ]
    },
    {
      "cell_type": "code",
      "metadata": {
        "id": "GqqXu2StxXYG",
        "colab": {
          "base_uri": "https://localhost:8080/"
        },
        "outputId": "b459d87e-4fe0-4ca4-cc7b-9780cad9ce4f"
      },
      "source": [
        "model1 = Sequential()\n",
        "model1.add(LSTM(30,input_dim=x_train.shape[-1],return_sequences=True))\n",
        "model1.add(Dropout(0.5))\n",
        "model1.add(LSTM(30,return_sequences=False))\n",
        "model1.add(Dropout(0.5))\n",
        "model1.add(Dense(units=1))\n",
        "model1.add(Activation('linear'))\n",
        "model1.summary()"
      ],
      "execution_count": null,
      "outputs": [
        {
          "output_type": "stream",
          "text": [
            "Model: \"sequential\"\n",
            "_________________________________________________________________\n",
            "Layer (type)                 Output Shape              Param #   \n",
            "=================================================================\n",
            "lstm (LSTM)                  (None, None, 30)          4440      \n",
            "_________________________________________________________________\n",
            "dropout (Dropout)            (None, None, 30)          0         \n",
            "_________________________________________________________________\n",
            "lstm_1 (LSTM)                (None, 30)                7320      \n",
            "_________________________________________________________________\n",
            "dropout_1 (Dropout)          (None, 30)                0         \n",
            "_________________________________________________________________\n",
            "dense (Dense)                (None, 1)                 31        \n",
            "_________________________________________________________________\n",
            "activation (Activation)      (None, 1)                 0         \n",
            "=================================================================\n",
            "Total params: 11,791\n",
            "Trainable params: 11,791\n",
            "Non-trainable params: 0\n",
            "_________________________________________________________________\n"
          ],
          "name": "stdout"
        }
      ]
    },
    {
      "cell_type": "code",
      "metadata": {
        "colab": {
          "base_uri": "https://localhost:8080/"
        },
        "id": "6uJgxq3kHn4i",
        "outputId": "8c3995aa-23a0-41b2-8726-221d129bdccf"
      },
      "source": [
        "x_train.shape"
      ],
      "execution_count": null,
      "outputs": [
        {
          "output_type": "execute_result",
          "data": {
            "text/plain": [
              "(6165, 50, 6)"
            ]
          },
          "metadata": {
            "tags": []
          },
          "execution_count": 31
        }
      ]
    },
    {
      "cell_type": "markdown",
      "metadata": {
        "id": "A-XfKdu5zUdv"
      },
      "source": [
        "**# compile the model**"
      ]
    },
    {
      "cell_type": "code",
      "metadata": {
        "id": "_efD1iJ_zJk_",
        "colab": {
          "base_uri": "https://localhost:8080/"
        },
        "outputId": "fa82bd91-f573-4685-d03e-72440ca18884"
      },
      "source": [
        "start = time.time()\n",
        "model1.compile(loss='mse', optimizer='adam')\n",
        "print('compilation time : {}'.format(time.time() - start))"
      ],
      "execution_count": null,
      "outputs": [
        {
          "output_type": "stream",
          "text": [
            "compilation time : 0.01616692543029785\n"
          ],
          "name": "stdout"
        }
      ]
    },
    {
      "cell_type": "markdown",
      "metadata": {
        "id": "KHGq1uCizuII"
      },
      "source": [
        "**# Train the model**"
      ]
    },
    {
      "cell_type": "code",
      "metadata": {
        "id": "N7MVPyOhzSbl",
        "colab": {
          "base_uri": "https://localhost:8080/"
        },
        "outputId": "f19a678f-f851-4e12-f4cc-9f107df9ea03"
      },
      "source": [
        "model1.fit(\n",
        "    x_train,\n",
        "    y_train,\n",
        "    batch_size=3000,\n",
        "    epochs=20,\n",
        "    validation_split=0.1)"
      ],
      "execution_count": null,
      "outputs": [
        {
          "output_type": "stream",
          "text": [
            "Epoch 1/20\n",
            "2/2 [==============================] - 7s 2s/step - loss: 0.7489 - val_loss: 1.1659\n",
            "Epoch 2/20\n",
            "2/2 [==============================] - 2s 812ms/step - loss: 0.6253 - val_loss: 1.0418\n",
            "Epoch 3/20\n",
            "2/2 [==============================] - 2s 827ms/step - loss: 0.5292 - val_loss: 0.9339\n",
            "Epoch 4/20\n",
            "2/2 [==============================] - 2s 805ms/step - loss: 0.4455 - val_loss: 0.8407\n",
            "Epoch 5/20\n",
            "2/2 [==============================] - 2s 832ms/step - loss: 0.3564 - val_loss: 0.7574\n",
            "Epoch 6/20\n",
            "2/2 [==============================] - 2s 824ms/step - loss: 0.3087 - val_loss: 0.6763\n",
            "Epoch 7/20\n",
            "2/2 [==============================] - 2s 835ms/step - loss: 0.2636 - val_loss: 0.5910\n",
            "Epoch 8/20\n",
            "2/2 [==============================] - 2s 852ms/step - loss: 0.2356 - val_loss: 0.5034\n",
            "Epoch 9/20\n",
            "2/2 [==============================] - 2s 831ms/step - loss: 0.2219 - val_loss: 0.4197\n",
            "Epoch 10/20\n",
            "2/2 [==============================] - 2s 844ms/step - loss: 0.2104 - val_loss: 0.3500\n",
            "Epoch 11/20\n",
            "2/2 [==============================] - 2s 825ms/step - loss: 0.1980 - val_loss: 0.2994\n",
            "Epoch 12/20\n",
            "2/2 [==============================] - 2s 822ms/step - loss: 0.1924 - val_loss: 0.2676\n",
            "Epoch 13/20\n",
            "2/2 [==============================] - 2s 816ms/step - loss: 0.1755 - val_loss: 0.2500\n",
            "Epoch 14/20\n",
            "2/2 [==============================] - 2s 843ms/step - loss: 0.1702 - val_loss: 0.2426\n",
            "Epoch 15/20\n",
            "2/2 [==============================] - 2s 831ms/step - loss: 0.1635 - val_loss: 0.2427\n",
            "Epoch 16/20\n",
            "2/2 [==============================] - 2s 833ms/step - loss: 0.1571 - val_loss: 0.2478\n",
            "Epoch 17/20\n",
            "2/2 [==============================] - 2s 813ms/step - loss: 0.1570 - val_loss: 0.2548\n",
            "Epoch 18/20\n",
            "2/2 [==============================] - 2s 830ms/step - loss: 0.1446 - val_loss: 0.2604\n",
            "Epoch 19/20\n",
            "2/2 [==============================] - 2s 821ms/step - loss: 0.1455 - val_loss: 0.2634\n",
            "Epoch 20/20\n",
            "2/2 [==============================] - 2s 826ms/step - loss: 0.1422 - val_loss: 0.2614\n"
          ],
          "name": "stdout"
        },
        {
          "output_type": "execute_result",
          "data": {
            "text/plain": [
              "<tensorflow.python.keras.callbacks.History at 0x7fd2505f1a90>"
            ]
          },
          "metadata": {
            "tags": []
          },
          "execution_count": 33
        }
      ]
    },
    {
      "cell_type": "markdown",
      "metadata": {
        "id": "HFYkIUVfsQwb"
      },
      "source": [
        "# Predict model on train and test data "
      ]
    },
    {
      "cell_type": "markdown",
      "metadata": {
        "id": "nb1JUstVnkhh"
      },
      "source": [
        " **- Difference between prediction and test data**"
      ]
    },
    {
      "cell_type": "code",
      "metadata": {
        "id": "89HrCgtz0ifS"
      },
      "source": [
        "loaded_model = model1\n",
        "diff=[]\n",
        "p = loaded_model.predict(x_test)\n",
        "q = loaded_model.predict(x_train)\n",
        "for u in range(len(y_test)):\n",
        "    pr = p[u][0]\n",
        "    diff.append(abs(y_test[u]- pr))"
      ],
      "execution_count": null,
      "outputs": []
    },
    {
      "cell_type": "markdown",
      "metadata": {
        "id": "pNk7a5THnsiV"
      },
      "source": [
        "**# Plot the prediction and the reality (for the test data)**"
      ]
    },
    {
      "cell_type": "code",
      "metadata": {
        "id": "a6lZAsdB0oT6",
        "colab": {
          "base_uri": "https://localhost:8080/",
          "height": 54
        },
        "outputId": "adfa1b62-d3be-442d-ae27-2c3f440981bb"
      },
      "source": [
        " #plot the prediction and the reality (for the test data)\n",
        "fig, axs = plt.subplots()\n",
        "axs.plot(q,color='red', label='prediction')\n",
        "axs.plot(y_train,color='blue',alpha = 0.25, label='y_test')\n",
        "plt.legend(loc='upper left')\n",
        "plt.show()"
      ],
      "execution_count": null,
      "outputs": [
        {
          "output_type": "display_data",
          "data": {
            "image/png": "[encoded data removed]",
            "text/plain": [
              "<Figure size 432x288 with 1 Axes>"
            ]
          },
          "metadata": {
            "tags": [],
            "needs_background": "light"
          }
        }
      ]
    },
    {
      "cell_type": "code",
      "metadata": {
        "id": "pbte76D2K3g8"
      },
      "source": [
        "#Pick the most distant prediction/reality data points as anomalies\n",
        "outlier=0.1\n",
        "diff = pd.Series(diff)\n",
        "number_of_outliers = int(outlier*len(diff))\n",
        "threshold = diff.nlargest(number_of_outliers).min()\n",
        "#Data with anomaly label\n",
        "test = (diff >= threshold).astype(int)\n",
        "pred=pd.DataFrame({'B' : test,'C' : y_test,'A': df.iloc[-1001:-1,6:7].values.flatten()})\n",
        "#pred.append(test, ignore_index='True')"
      ],
      "execution_count": null,
      "outputs": []
    },
    {
      "cell_type": "code",
      "metadata": {
        "id": "r7ynh3R1euGV",
        "colab": {
          "base_uri": "https://localhost:8080/",
          "height": 281
        },
        "outputId": "31322579-9092-439b-f7f4-1e93517f2e84"
      },
      "source": [
        "fig, ax = plt.subplots()\n",
        "\n",
        "a = pred.loc[pred['B'] == 1, ['A', 'C']] #anomaly\n",
        "\n",
        "ax.plot(pred['A'], pred['C'], color='blue')\n",
        "ax.scatter(a['A'],a['C'], color='red')\n",
        "plt.show()"
      ],
      "execution_count": null,
      "outputs": [
        {
          "output_type": "display_data",
          "data": {
            "image/png": "[encoded data removed]",
            "text/plain": [
              "<Figure size 432x288 with 1 Axes>"
            ]
          },
          "metadata": {
            "tags": [],
            "needs_background": "light"
          }
        }
      ]
    },
    {
      "cell_type": "markdown",
      "metadata": {
        "id": "_kUg2k606KhA"
      },
      "source": [
        "# LSTM model - 2"
      ]
    },
    {
      "cell_type": "code",
      "metadata": {
        "id": "nD-Y8nNH2AiF",
        "colab": {
          "base_uri": "https://localhost:8080/"
        },
        "outputId": "8bd09dd7-cb58-4d5a-9b94-e23c9bb79464"
      },
      "source": [
        "model2 = Sequential()\n",
        "model2.add(LSTM(128,input_dim=x_train.shape[-1],return_sequences=True))\n",
        "model2.add(Dropout(0.2))\n",
        "model2.add(LSTM(128,return_sequences=False))\n",
        "model2.add(Dropout(0.2))\n",
        "model2.add(Dense(units=1))\n",
        "model2.add(Activation('linear'))\n",
        "model2.summary()"
      ],
      "execution_count": null,
      "outputs": [
        {
          "output_type": "stream",
          "text": [
            "Model: \"sequential_1\"\n",
            "_________________________________________________________________\n",
            "Layer (type)                 Output Shape              Param #   \n",
            "=================================================================\n",
            "lstm_2 (LSTM)                (None, None, 128)         69120     \n",
            "_________________________________________________________________\n",
            "dropout_2 (Dropout)          (None, None, 128)         0         \n",
            "_________________________________________________________________\n",
            "lstm_3 (LSTM)                (None, 128)               131584    \n",
            "_________________________________________________________________\n",
            "dropout_3 (Dropout)          (None, 128)               0         \n",
            "_________________________________________________________________\n",
            "dense_1 (Dense)              (None, 1)                 129       \n",
            "_________________________________________________________________\n",
            "activation_1 (Activation)    (None, 1)                 0         \n",
            "=================================================================\n",
            "Total params: 200,833\n",
            "Trainable params: 200,833\n",
            "Non-trainable params: 0\n",
            "_________________________________________________________________\n"
          ],
          "name": "stdout"
        }
      ]
    },
    {
      "cell_type": "code",
      "metadata": {
        "id": "C7Eq8nHj2YDB"
      },
      "source": [
        "start = time.time()\n",
        "model2.compile(loss='mse', optimizer='adam')"
      ],
      "execution_count": null,
      "outputs": []
    },
    {
      "cell_type": "code",
      "metadata": {
        "id": "rAuDWonH2do3",
        "colab": {
          "base_uri": "https://localhost:8080/"
        },
        "outputId": "de2fbda4-df93-4265-aff6-1cc3fc4af458"
      },
      "source": [
        "model2.fit(\n",
        "    x_train,\n",
        "    y_train,\n",
        "    batch_size=3000,\n",
        "    epochs=20,\n",
        "    validation_split=0.1)"
      ],
      "execution_count": null,
      "outputs": [
        {
          "output_type": "stream",
          "text": [
            "Epoch 1/20\n",
            "2/2 [==============================] - 15s 6s/step - loss: 0.7670 - val_loss: 0.8603\n",
            "Epoch 2/20\n",
            "2/2 [==============================] - 10s 5s/step - loss: 0.3645 - val_loss: 0.5149\n",
            "Epoch 3/20\n",
            "2/2 [==============================] - 10s 5s/step - loss: 0.1912 - val_loss: 0.2702\n",
            "Epoch 4/20\n",
            "2/2 [==============================] - 10s 5s/step - loss: 0.1503 - val_loss: 0.2208\n",
            "Epoch 5/20\n",
            "2/2 [==============================] - 10s 5s/step - loss: 0.1090 - val_loss: 0.1777\n",
            "Epoch 6/20\n",
            "2/2 [==============================] - 10s 5s/step - loss: 0.1153 - val_loss: 0.1577\n",
            "Epoch 7/20\n",
            "2/2 [==============================] - 10s 5s/step - loss: 0.1106 - val_loss: 0.1588\n",
            "Epoch 8/20\n",
            "2/2 [==============================] - 10s 5s/step - loss: 0.0897 - val_loss: 0.1566\n",
            "Epoch 9/20\n",
            "2/2 [==============================] - 10s 5s/step - loss: 0.0870 - val_loss: 0.1591\n",
            "Epoch 10/20\n",
            "2/2 [==============================] - 10s 5s/step - loss: 0.0898 - val_loss: 0.1723\n",
            "Epoch 11/20\n",
            "2/2 [==============================] - 10s 5s/step - loss: 0.0779 - val_loss: 0.1800\n",
            "Epoch 12/20\n",
            "2/2 [==============================] - 10s 5s/step - loss: 0.0748 - val_loss: 0.1668\n",
            "Epoch 13/20\n",
            "2/2 [==============================] - 10s 5s/step - loss: 0.0733 - val_loss: 0.1470\n",
            "Epoch 14/20\n",
            "2/2 [==============================] - 10s 5s/step - loss: 0.0730 - val_loss: 0.1340\n",
            "Epoch 15/20\n",
            "2/2 [==============================] - 10s 5s/step - loss: 0.0692 - val_loss: 0.1271\n",
            "Epoch 16/20\n",
            "2/2 [==============================] - 10s 5s/step - loss: 0.0677 - val_loss: 0.1234\n",
            "Epoch 17/20\n",
            "2/2 [==============================] - 10s 5s/step - loss: 0.0657 - val_loss: 0.1199\n",
            "Epoch 18/20\n",
            "2/2 [==============================] - 10s 5s/step - loss: 0.0626 - val_loss: 0.1166\n",
            "Epoch 19/20\n",
            "2/2 [==============================] - 10s 5s/step - loss: 0.0633 - val_loss: 0.1156\n",
            "Epoch 20/20\n",
            "2/2 [==============================] - 10s 5s/step - loss: 0.0609 - val_loss: 0.1150\n"
          ],
          "name": "stdout"
        },
        {
          "output_type": "execute_result",
          "data": {
            "text/plain": [
              "<tensorflow.python.keras.callbacks.History at 0x7fd24c2f5ed0>"
            ]
          },
          "metadata": {
            "tags": []
          },
          "execution_count": 40
        }
      ]
    },
    {
      "cell_type": "code",
      "metadata": {
        "id": "UAHnWz-8CVnD"
      },
      "source": [
        "loaded_model = model2\n",
        "diff=[]\n",
        "p = loaded_model.predict(x_test)\n",
        "q = loaded_model.predict(x_train)\n",
        "for u in range(len(y_test)):\n",
        "    pr = p[u][0]\n",
        "    diff.append(abs(y_test[u]- pr))"
      ],
      "execution_count": null,
      "outputs": []
    },
    {
      "cell_type": "code",
      "metadata": {
        "id": "N9Jebbt7CkYm",
        "colab": {
          "base_uri": "https://localhost:8080/"
        },
        "outputId": "6571e2f8-e8f8-4a21-f5d6-85faea4f585f"
      },
      "source": [
        " #plot the prediction and the reality (for the test data)\n",
        "fig, axs = plt.subplots()\n",
        "axs.plot(q,color='red', label='prediction')\n",
        "axs.plot(y_train,color='blue',alpha = 0.25, label='y_test')\n",
        "plt.legend(loc='upper left')\n",
        "plt.show()"
      ],
      "execution_count": null,
      "outputs": [
        {
          "output_type": "display_data",
          "data": {
            "image/png": "[encoded data removed]",
            "text/plain": [
              "<Figure size 432x288 with 1 Axes>"
            ]
          },
          "metadata": {
            "tags": [],
            "needs_background": "light"
          }
        }
      ]
    },
    {
      "cell_type": "code",
      "metadata": {
        "id": "VrN3dyvVCatZ"
      },
      "source": [
        "#Pick the most distant prediction/reality data points as anomalies\n",
        "outlier=0.1\n",
        "diff = pd.Series(diff)\n",
        "number_of_outliers = int(outlier*len(diff))\n",
        "threshold = diff.nlargest(number_of_outliers).min()\n",
        "#Data with anomaly label\n",
        "test = (diff >= threshold).astype(int)\n",
        "pred=pd.DataFrame({'B' : test,'C' : y_test,'A': df.iloc[-1001:-1,6:7].values.flatten()})\n",
        "#pred.append(test, ignore_index='True')"
      ],
      "execution_count": null,
      "outputs": []
    },
    {
      "cell_type": "code",
      "metadata": {
        "id": "2EYBOFirCb7f",
        "colab": {
          "base_uri": "https://localhost:8080/",
          "height": 281
        },
        "outputId": "186bc04e-e6ce-4b34-dcb9-c3339703b1b9"
      },
      "source": [
        "fig, ax = plt.subplots()\n",
        "\n",
        "a = pred.loc[pred['B'] == 1, ['A', 'C']] #anomaly\n",
        "\n",
        "ax.plot(pred['A'], pred['C'], color='blue')\n",
        "ax.scatter(a['A'],a['C'], color='red')\n",
        "plt.show()"
      ],
      "execution_count": null,
      "outputs": [
        {
          "output_type": "display_data",
          "data": {
            "image/png": "[encoded data removed]",
            "text/plain": [
              "<Figure size 432x288 with 1 Axes>"
            ]
          },
          "metadata": {
            "tags": [],
            "needs_background": "light"
          }
        }
      ]
    },
    {
      "cell_type": "code",
      "metadata": {
        "id": "nUr9hw-MsySL"
      },
      "source": [
        ""
      ],
      "execution_count": null,
      "outputs": []
    }
  ]
}