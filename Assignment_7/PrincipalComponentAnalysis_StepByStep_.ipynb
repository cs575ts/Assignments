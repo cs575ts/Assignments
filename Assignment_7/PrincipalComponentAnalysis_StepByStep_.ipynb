{
  "nbformat": 4,
  "nbformat_minor": 0,
  "metadata": {
    "colab": {
      "name": "PrincipalComponentAnalysis_StepByStep.ipynb",
      "provenance": []
    },
    "kernelspec": {
      "name": "python3",
      "display_name": "Python 3"
    }
  },
  "cells": [
    {
      "cell_type": "code",
      "metadata": {
        "id": "xU9MnTsYpnsa"
      },
      "source": [
        "# Load Packages\n",
        "import pandas as pd\n",
        "#https://pandas.pydata.org/docs/reference/index.html\n",
        " \n",
        "import numpy as np\n",
        "#https://numpy.org/doc/stable/user/tutorials_index.html\n",
        "\n",
        "import matplotlib.pyplot as plt\n",
        "#https://matplotlib.org/tutorials/index.html\n",
        "\n",
        "from sklearn.decomposition import PCA\n",
        "#https://scikit-learn.org/stable/user_guide.html\n",
        "\n",
        "%matplotlib inline\n",
        "np.set_printoptions(precision=3)\n",
        "pd.set_option('max_rows', 500)\n",
        "pd.set_option('max_columns', 500)"
      ],
      "execution_count": 1,
      "outputs": []
    },
    {
      "cell_type": "markdown",
      "metadata": {
        "id": "Khyaa7tw3kWs"
      },
      "source": [
        "#Import Iris Data"
      ]
    },
    {
      "cell_type": "code",
      "metadata": {
        "colab": {
          "base_uri": "https://localhost:8080/"
        },
        "id": "4DAxMJ-cpxhL",
        "outputId": "508e98f5-49fe-4768-8cc4-37f33878c6dc"
      },
      "source": [
        "df = pd.read_csv('https://raw.githubusercontent.com/uiuc-cse/data-fa14/gh-pages/data/iris.csv')\n",
        "print(df.info())"
      ],
      "execution_count": 2,
      "outputs": [
        {
          "output_type": "stream",
          "text": [
            "<class 'pandas.core.frame.DataFrame'>\n",
            "RangeIndex: 150 entries, 0 to 149\n",
            "Data columns (total 5 columns):\n",
            " #   Column        Non-Null Count  Dtype  \n",
            "---  ------        --------------  -----  \n",
            " 0   sepal_length  150 non-null    float64\n",
            " 1   sepal_width   150 non-null    float64\n",
            " 2   petal_length  150 non-null    float64\n",
            " 3   petal_width   150 non-null    float64\n",
            " 4   species       150 non-null    object \n",
            "dtypes: float64(4), object(1)\n",
            "memory usage: 6.0+ KB\n",
            "None\n"
          ],
          "name": "stdout"
        }
      ]
    },
    {
      "cell_type": "code",
      "metadata": {
        "colab": {
          "base_uri": "https://localhost:8080/"
        },
        "id": "2-a0FUW0p9if",
        "outputId": "e2505127-042e-4f85-f53c-8c7b4c13a8f8"
      },
      "source": [
        "print(df.shape)"
      ],
      "execution_count": 3,
      "outputs": [
        {
          "output_type": "stream",
          "text": [
            "(150, 5)\n"
          ],
          "name": "stdout"
        }
      ]
    },
    {
      "cell_type": "code",
      "metadata": {
        "colab": {
          "base_uri": "https://localhost:8080/",
          "height": 195
        },
        "id": "Cw_LI8iwrvVh",
        "outputId": "a912b195-86c6-4c0d-98d0-085f9dbc85fd"
      },
      "source": [
        "df.head()"
      ],
      "execution_count": 4,
      "outputs": [
        {
          "output_type": "execute_result",
          "data": {
            "text/html": [
              "<div>\n",
              "<style scoped>\n",
              "    .dataframe tbody tr th:only-of-type {\n",
              "        vertical-align: middle;\n",
              "    }\n",
              "\n",
              "    .dataframe tbody tr th {\n",
              "        vertical-align: top;\n",
              "    }\n",
              "\n",
              "    .dataframe thead th {\n",
              "        text-align: right;\n",
              "    }\n",
              "</style>\n",
              "<table border=\"1\" class=\"dataframe\">\n",
              "  <thead>\n",
              "    <tr style=\"text-align: right;\">\n",
              "      <th></th>\n",
              "      <th>sepal_length</th>\n",
              "      <th>sepal_width</th>\n",
              "      <th>petal_length</th>\n",
              "      <th>petal_width</th>\n",
              "      <th>species</th>\n",
              "    </tr>\n",
              "  </thead>\n",
              "  <tbody>\n",
              "    <tr>\n",
              "      <th>0</th>\n",
              "      <td>5.1</td>\n",
              "      <td>3.5</td>\n",
              "      <td>1.4</td>\n",
              "      <td>0.2</td>\n",
              "      <td>setosa</td>\n",
              "    </tr>\n",
              "    <tr>\n",
              "      <th>1</th>\n",
              "      <td>4.9</td>\n",
              "      <td>3.0</td>\n",
              "      <td>1.4</td>\n",
              "      <td>0.2</td>\n",
              "      <td>setosa</td>\n",
              "    </tr>\n",
              "    <tr>\n",
              "      <th>2</th>\n",
              "      <td>4.7</td>\n",
              "      <td>3.2</td>\n",
              "      <td>1.3</td>\n",
              "      <td>0.2</td>\n",
              "      <td>setosa</td>\n",
              "    </tr>\n",
              "    <tr>\n",
              "      <th>3</th>\n",
              "      <td>4.6</td>\n",
              "      <td>3.1</td>\n",
              "      <td>1.5</td>\n",
              "      <td>0.2</td>\n",
              "      <td>setosa</td>\n",
              "    </tr>\n",
              "    <tr>\n",
              "      <th>4</th>\n",
              "      <td>5.0</td>\n",
              "      <td>3.6</td>\n",
              "      <td>1.4</td>\n",
              "      <td>0.2</td>\n",
              "      <td>setosa</td>\n",
              "    </tr>\n",
              "  </tbody>\n",
              "</table>\n",
              "</div>"
            ],
            "text/plain": [
              "   sepal_length  sepal_width  petal_length  petal_width species\n",
              "0           5.1          3.5           1.4          0.2  setosa\n",
              "1           4.9          3.0           1.4          0.2  setosa\n",
              "2           4.7          3.2           1.3          0.2  setosa\n",
              "3           4.6          3.1           1.5          0.2  setosa\n",
              "4           5.0          3.6           1.4          0.2  setosa"
            ]
          },
          "metadata": {
            "tags": []
          },
          "execution_count": 4
        }
      ]
    },
    {
      "cell_type": "code",
      "metadata": {
        "id": "scM1gCwqqGpV"
      },
      "source": [
        "df_2=df.loc[df['species'].isin(['setosa', 'versicolor'])]"
      ],
      "execution_count": 5,
      "outputs": []
    },
    {
      "cell_type": "code",
      "metadata": {
        "id": "aa2uVP8mq8r_"
      },
      "source": [
        "df_2D=df_2.drop(['sepal_length', 'sepal_width'], axis=1)"
      ],
      "execution_count": 6,
      "outputs": []
    },
    {
      "cell_type": "code",
      "metadata": {
        "id": "5qQTYMbbsiX_"
      },
      "source": [
        "Data_2D=df_2D.loc[45:54,:]"
      ],
      "execution_count": 7,
      "outputs": []
    },
    {
      "cell_type": "markdown",
      "metadata": {
        "id": "d__LCi-DqQIZ"
      },
      "source": [
        "10 samples from Iris Dataset :"
      ]
    },
    {
      "cell_type": "code",
      "metadata": {
        "colab": {
          "base_uri": "https://localhost:8080/",
          "height": 343
        },
        "id": "9BdcIWips5sQ",
        "outputId": "d1dbf81e-479c-41b4-94f2-95c00eeeb5ac"
      },
      "source": [
        "Data_2D"
      ],
      "execution_count": 8,
      "outputs": [
        {
          "output_type": "execute_result",
          "data": {
            "text/html": [
              "<div>\n",
              "<style scoped>\n",
              "    .dataframe tbody tr th:only-of-type {\n",
              "        vertical-align: middle;\n",
              "    }\n",
              "\n",
              "    .dataframe tbody tr th {\n",
              "        vertical-align: top;\n",
              "    }\n",
              "\n",
              "    .dataframe thead th {\n",
              "        text-align: right;\n",
              "    }\n",
              "</style>\n",
              "<table border=\"1\" class=\"dataframe\">\n",
              "  <thead>\n",
              "    <tr style=\"text-align: right;\">\n",
              "      <th></th>\n",
              "      <th>petal_length</th>\n",
              "      <th>petal_width</th>\n",
              "      <th>species</th>\n",
              "    </tr>\n",
              "  </thead>\n",
              "  <tbody>\n",
              "    <tr>\n",
              "      <th>45</th>\n",
              "      <td>1.4</td>\n",
              "      <td>0.3</td>\n",
              "      <td>setosa</td>\n",
              "    </tr>\n",
              "    <tr>\n",
              "      <th>46</th>\n",
              "      <td>1.6</td>\n",
              "      <td>0.2</td>\n",
              "      <td>setosa</td>\n",
              "    </tr>\n",
              "    <tr>\n",
              "      <th>47</th>\n",
              "      <td>1.4</td>\n",
              "      <td>0.2</td>\n",
              "      <td>setosa</td>\n",
              "    </tr>\n",
              "    <tr>\n",
              "      <th>48</th>\n",
              "      <td>1.5</td>\n",
              "      <td>0.2</td>\n",
              "      <td>setosa</td>\n",
              "    </tr>\n",
              "    <tr>\n",
              "      <th>49</th>\n",
              "      <td>1.4</td>\n",
              "      <td>0.2</td>\n",
              "      <td>setosa</td>\n",
              "    </tr>\n",
              "    <tr>\n",
              "      <th>50</th>\n",
              "      <td>4.7</td>\n",
              "      <td>1.4</td>\n",
              "      <td>versicolor</td>\n",
              "    </tr>\n",
              "    <tr>\n",
              "      <th>51</th>\n",
              "      <td>4.5</td>\n",
              "      <td>1.5</td>\n",
              "      <td>versicolor</td>\n",
              "    </tr>\n",
              "    <tr>\n",
              "      <th>52</th>\n",
              "      <td>4.9</td>\n",
              "      <td>1.5</td>\n",
              "      <td>versicolor</td>\n",
              "    </tr>\n",
              "    <tr>\n",
              "      <th>53</th>\n",
              "      <td>4.0</td>\n",
              "      <td>1.3</td>\n",
              "      <td>versicolor</td>\n",
              "    </tr>\n",
              "    <tr>\n",
              "      <th>54</th>\n",
              "      <td>4.6</td>\n",
              "      <td>1.5</td>\n",
              "      <td>versicolor</td>\n",
              "    </tr>\n",
              "  </tbody>\n",
              "</table>\n",
              "</div>"
            ],
            "text/plain": [
              "    petal_length  petal_width     species\n",
              "45           1.4          0.3      setosa\n",
              "46           1.6          0.2      setosa\n",
              "47           1.4          0.2      setosa\n",
              "48           1.5          0.2      setosa\n",
              "49           1.4          0.2      setosa\n",
              "50           4.7          1.4  versicolor\n",
              "51           4.5          1.5  versicolor\n",
              "52           4.9          1.5  versicolor\n",
              "53           4.0          1.3  versicolor\n",
              "54           4.6          1.5  versicolor"
            ]
          },
          "metadata": {
            "tags": []
          },
          "execution_count": 8
        }
      ]
    },
    {
      "cell_type": "markdown",
      "metadata": {
        "id": "8vhbKaTA3dNu"
      },
      "source": [
        "#Computing the covariance matrix"
      ]
    },
    {
      "cell_type": "markdown",
      "metadata": {
        "id": "NTmSyU_fF4-d"
      },
      "source": [
        "![cov.jpg](data:image/jpeg;base64,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)"
      ]
    },
    {
      "cell_type": "code",
      "metadata": {
        "id": "PwYk3yoUtOKD"
      },
      "source": [
        "mean_x1=np.mean(Data_2D['petal_length'].values)\n",
        "mean_x2=np.mean(Data_2D['petal_width'].values)"
      ],
      "execution_count": 9,
      "outputs": []
    },
    {
      "cell_type": "code",
      "metadata": {
        "colab": {
          "base_uri": "https://localhost:8080/"
        },
        "id": "YHNvlMM1O2Sh",
        "outputId": "8e9a3bb4-7d35-46ac-9e0e-acfc7d1df942"
      },
      "source": [
        "print(mean_x1)\n",
        "print(mean_x2)"
      ],
      "execution_count": 10,
      "outputs": [
        {
          "output_type": "stream",
          "text": [
            "3.0\n",
            "0.8300000000000001\n"
          ],
          "name": "stdout"
        }
      ]
    },
    {
      "cell_type": "code",
      "metadata": {
        "id": "34Y--f6Tzh-l"
      },
      "source": [
        "x1=(Data_2D['petal_length']-mean_x1)\n",
        "x2=(Data_2D['petal_width']-mean_x2)"
      ],
      "execution_count": 11,
      "outputs": []
    },
    {
      "cell_type": "code",
      "metadata": {
        "id": "aGlUs-j4_6iW"
      },
      "source": [
        "x=pd.concat([x1, x2], axis=1)"
      ],
      "execution_count": 12,
      "outputs": []
    },
    {
      "cell_type": "code",
      "metadata": {
        "colab": {
          "base_uri": "https://localhost:8080/",
          "height": 343
        },
        "id": "SmerFvOU0Ane",
        "outputId": "b9e9c899-194f-484b-c08a-8ee60c5ea91a"
      },
      "source": [
        "x"
      ],
      "execution_count": 13,
      "outputs": [
        {
          "output_type": "execute_result",
          "data": {
            "text/html": [
              "<div>\n",
              "<style scoped>\n",
              "    .dataframe tbody tr th:only-of-type {\n",
              "        vertical-align: middle;\n",
              "    }\n",
              "\n",
              "    .dataframe tbody tr th {\n",
              "        vertical-align: top;\n",
              "    }\n",
              "\n",
              "    .dataframe thead th {\n",
              "        text-align: right;\n",
              "    }\n",
              "</style>\n",
              "<table border=\"1\" class=\"dataframe\">\n",
              "  <thead>\n",
              "    <tr style=\"text-align: right;\">\n",
              "      <th></th>\n",
              "      <th>petal_length</th>\n",
              "      <th>petal_width</th>\n",
              "    </tr>\n",
              "  </thead>\n",
              "  <tbody>\n",
              "    <tr>\n",
              "      <th>45</th>\n",
              "      <td>-1.6</td>\n",
              "      <td>-0.53</td>\n",
              "    </tr>\n",
              "    <tr>\n",
              "      <th>46</th>\n",
              "      <td>-1.4</td>\n",
              "      <td>-0.63</td>\n",
              "    </tr>\n",
              "    <tr>\n",
              "      <th>47</th>\n",
              "      <td>-1.6</td>\n",
              "      <td>-0.63</td>\n",
              "    </tr>\n",
              "    <tr>\n",
              "      <th>48</th>\n",
              "      <td>-1.5</td>\n",
              "      <td>-0.63</td>\n",
              "    </tr>\n",
              "    <tr>\n",
              "      <th>49</th>\n",
              "      <td>-1.6</td>\n",
              "      <td>-0.63</td>\n",
              "    </tr>\n",
              "    <tr>\n",
              "      <th>50</th>\n",
              "      <td>1.7</td>\n",
              "      <td>0.57</td>\n",
              "    </tr>\n",
              "    <tr>\n",
              "      <th>51</th>\n",
              "      <td>1.5</td>\n",
              "      <td>0.67</td>\n",
              "    </tr>\n",
              "    <tr>\n",
              "      <th>52</th>\n",
              "      <td>1.9</td>\n",
              "      <td>0.67</td>\n",
              "    </tr>\n",
              "    <tr>\n",
              "      <th>53</th>\n",
              "      <td>1.0</td>\n",
              "      <td>0.47</td>\n",
              "    </tr>\n",
              "    <tr>\n",
              "      <th>54</th>\n",
              "      <td>1.6</td>\n",
              "      <td>0.67</td>\n",
              "    </tr>\n",
              "  </tbody>\n",
              "</table>\n",
              "</div>"
            ],
            "text/plain": [
              "    petal_length  petal_width\n",
              "45          -1.6        -0.53\n",
              "46          -1.4        -0.63\n",
              "47          -1.6        -0.63\n",
              "48          -1.5        -0.63\n",
              "49          -1.6        -0.63\n",
              "50           1.7         0.57\n",
              "51           1.5         0.67\n",
              "52           1.9         0.67\n",
              "53           1.0         0.47\n",
              "54           1.6         0.67"
            ]
          },
          "metadata": {
            "tags": []
          },
          "execution_count": 13
        }
      ]
    },
    {
      "cell_type": "code",
      "metadata": {
        "id": "FNKGvfi0TrOQ"
      },
      "source": [
        "data=x.values"
      ],
      "execution_count": 14,
      "outputs": []
    },
    {
      "cell_type": "code",
      "metadata": {
        "colab": {
          "base_uri": "https://localhost:8080/"
        },
        "id": "wjr_3r0Y8Uxm",
        "outputId": "2cdf5573-1c7a-438e-eefc-566bad5ef36e"
      },
      "source": [
        "data.T.shape"
      ],
      "execution_count": 15,
      "outputs": [
        {
          "output_type": "execute_result",
          "data": {
            "text/plain": [
              "(2, 10)"
            ]
          },
          "metadata": {
            "tags": []
          },
          "execution_count": 15
        }
      ]
    },
    {
      "cell_type": "code",
      "metadata": {
        "id": "md8zRxP3TjIe"
      },
      "source": [
        "n_samples = data.shape[0]\n",
        "cov_matrix = (np.dot(data.T, data)) / (n_samples-1)"
      ],
      "execution_count": 16,
      "outputs": []
    },
    {
      "cell_type": "code",
      "metadata": {
        "id": "QqC_G6qWVVPL",
        "colab": {
          "base_uri": "https://localhost:8080/"
        },
        "outputId": "47ca8a4f-1a37-4ed7-89c0-0c09f9e27e91"
      },
      "source": [
        "print(cov_matrix)"
      ],
      "execution_count": 17,
      "outputs": [
        {
          "output_type": "stream",
          "text": [
            "[[2.689 1.053]\n",
            " [1.053 0.418]]\n"
          ],
          "name": "stdout"
        }
      ]
    },
    {
      "cell_type": "markdown",
      "metadata": {
        "id": "aQTnUagBUvyO"
      },
      "source": [
        "#Eigen Decomposition"
      ]
    },
    {
      "cell_type": "code",
      "metadata": {
        "id": "vKm5NUTeTjKm"
      },
      "source": [
        "eig_values, eig_vectors = np.linalg.eig(cov_matrix)"
      ],
      "execution_count": 18,
      "outputs": []
    },
    {
      "cell_type": "code",
      "metadata": {
        "id": "kJoBnq8lel5Y",
        "colab": {
          "base_uri": "https://localhost:8080/"
        },
        "outputId": "0bbb831c-40b9-4bc4-cc59-ae6c3e9db605"
      },
      "source": [
        "print(eig_vectors)"
      ],
      "execution_count": 19,
      "outputs": [
        {
          "output_type": "stream",
          "text": [
            "[[ 0.931 -0.365]\n",
            " [ 0.365  0.931]]\n"
          ],
          "name": "stdout"
        }
      ]
    },
    {
      "cell_type": "code",
      "metadata": {
        "id": "g1CY4eXkU4LL",
        "colab": {
          "base_uri": "https://localhost:8080/"
        },
        "outputId": "0c400490-74e1-4341-af87-757ec41db55c"
      },
      "source": [
        "print(eig_values)"
      ],
      "execution_count": 20,
      "outputs": [
        {
          "output_type": "stream",
          "text": [
            "[3.102 0.005]\n"
          ],
          "name": "stdout"
        }
      ]
    },
    {
      "cell_type": "code",
      "metadata": {
        "id": "zWeCOBcQekN3"
      },
      "source": [
        "id = np.argsort(eig_values, axis=0)[::-1]\n",
        "sorted_EigenVectors = eig_vectors[:, id]"
      ],
      "execution_count": 21,
      "outputs": []
    },
    {
      "cell_type": "markdown",
      "metadata": {
        "id": "DDlz8xtKe_jV"
      },
      "source": [
        "#Compute principal components "
      ]
    },
    {
      "cell_type": "code",
      "metadata": {
        "id": "2pwtG4AOVnwk"
      },
      "source": [
        "eig_scores = np.dot(data, sorted_EigenVectors[:, :1])"
      ],
      "execution_count": 22,
      "outputs": []
    },
    {
      "cell_type": "code",
      "metadata": {
        "colab": {
          "base_uri": "https://localhost:8080/"
        },
        "id": "RxuO-wLTpvdW",
        "outputId": "dfa555cb-e029-4e12-b5ed-15766a20ced5"
      },
      "source": [
        "sorted_EigenVectors[:, :1]"
      ],
      "execution_count": 23,
      "outputs": [
        {
          "output_type": "execute_result",
          "data": {
            "text/plain": [
              "array([[0.931],\n",
              "       [0.365]])"
            ]
          },
          "metadata": {
            "tags": []
          },
          "execution_count": 23
        }
      ]
    },
    {
      "cell_type": "code",
      "metadata": {
        "id": "vCB5e_qfVn00"
      },
      "source": [
        "components=pd.DataFrame(eig_scores)"
      ],
      "execution_count": 24,
      "outputs": []
    },
    {
      "cell_type": "code",
      "metadata": {
        "id": "3V5XfA_BVn2s",
        "colab": {
          "base_uri": "https://localhost:8080/",
          "height": 343
        },
        "outputId": "26691391-c0b1-4735-8c12-fc674e207109"
      },
      "source": [
        "components"
      ],
      "execution_count": 25,
      "outputs": [
        {
          "output_type": "execute_result",
          "data": {
            "text/html": [
              "<div>\n",
              "<style scoped>\n",
              "    .dataframe tbody tr th:only-of-type {\n",
              "        vertical-align: middle;\n",
              "    }\n",
              "\n",
              "    .dataframe tbody tr th {\n",
              "        vertical-align: top;\n",
              "    }\n",
              "\n",
              "    .dataframe thead th {\n",
              "        text-align: right;\n",
              "    }\n",
              "</style>\n",
              "<table border=\"1\" class=\"dataframe\">\n",
              "  <thead>\n",
              "    <tr style=\"text-align: right;\">\n",
              "      <th></th>\n",
              "      <th>0</th>\n",
              "    </tr>\n",
              "  </thead>\n",
              "  <tbody>\n",
              "    <tr>\n",
              "      <th>0</th>\n",
              "      <td>-1.683034</td>\n",
              "    </tr>\n",
              "    <tr>\n",
              "      <th>1</th>\n",
              "      <td>-1.533384</td>\n",
              "    </tr>\n",
              "    <tr>\n",
              "      <th>2</th>\n",
              "      <td>-1.719563</td>\n",
              "    </tr>\n",
              "    <tr>\n",
              "      <th>3</th>\n",
              "      <td>-1.626473</td>\n",
              "    </tr>\n",
              "    <tr>\n",
              "      <th>4</th>\n",
              "      <td>-1.719563</td>\n",
              "    </tr>\n",
              "    <tr>\n",
              "      <th>5</th>\n",
              "      <td>1.790735</td>\n",
              "    </tr>\n",
              "    <tr>\n",
              "      <th>6</th>\n",
              "      <td>1.641085</td>\n",
              "    </tr>\n",
              "    <tr>\n",
              "      <th>7</th>\n",
              "      <td>2.013443</td>\n",
              "    </tr>\n",
              "    <tr>\n",
              "      <th>8</th>\n",
              "      <td>1.102580</td>\n",
              "    </tr>\n",
              "    <tr>\n",
              "      <th>9</th>\n",
              "      <td>1.734174</td>\n",
              "    </tr>\n",
              "  </tbody>\n",
              "</table>\n",
              "</div>"
            ],
            "text/plain": [
              "          0\n",
              "0 -1.683034\n",
              "1 -1.533384\n",
              "2 -1.719563\n",
              "3 -1.626473\n",
              "4 -1.719563\n",
              "5  1.790735\n",
              "6  1.641085\n",
              "7  2.013443\n",
              "8  1.102580\n",
              "9  1.734174"
            ]
          },
          "metadata": {
            "tags": []
          },
          "execution_count": 25
        }
      ]
    },
    {
      "cell_type": "markdown",
      "metadata": {
        "id": "Th10xHN9gl40"
      },
      "source": [
        "#PCA using Scikit-Learn Library"
      ]
    },
    {
      "cell_type": "code",
      "metadata": {
        "id": "qOg27tLQ8z91"
      },
      "source": [
        "pca = PCA(n_components=1)\n",
        "np_pca = pca.fit_transform(X=data)"
      ],
      "execution_count": 26,
      "outputs": []
    },
    {
      "cell_type": "code",
      "metadata": {
        "colab": {
          "base_uri": "https://localhost:8080/"
        },
        "id": "xFbh_Wly88Ks",
        "outputId": "26247cb0-f0fb-4c8c-a8f1-3e6f43dc3bc2"
      },
      "source": [
        "pca.components_"
      ],
      "execution_count": 27,
      "outputs": [
        {
          "output_type": "execute_result",
          "data": {
            "text/plain": [
              "array([[0.931, 0.365]])"
            ]
          },
          "metadata": {
            "tags": []
          },
          "execution_count": 27
        }
      ]
    },
    {
      "cell_type": "code",
      "metadata": {
        "colab": {
          "base_uri": "https://localhost:8080/"
        },
        "id": "yaTLZR5Y9ACD",
        "outputId": "96518c85-1d51-4c88-f319-66c69cb7dff9"
      },
      "source": [
        "pca.explained_variance_"
      ],
      "execution_count": 28,
      "outputs": [
        {
          "output_type": "execute_result",
          "data": {
            "text/plain": [
              "array([3.102])"
            ]
          },
          "metadata": {
            "tags": []
          },
          "execution_count": 28
        }
      ]
    },
    {
      "cell_type": "code",
      "metadata": {
        "colab": {
          "base_uri": "https://localhost:8080/",
          "height": 343
        },
        "id": "XV27HnhI-w8K",
        "outputId": "986b63eb-714b-48b2-fd5a-c84ea4d5480e"
      },
      "source": [
        "df_pca=pd.DataFrame(np_pca)\n",
        "df_pca"
      ],
      "execution_count": 29,
      "outputs": [
        {
          "output_type": "execute_result",
          "data": {
            "text/html": [
              "<div>\n",
              "<style scoped>\n",
              "    .dataframe tbody tr th:only-of-type {\n",
              "        vertical-align: middle;\n",
              "    }\n",
              "\n",
              "    .dataframe tbody tr th {\n",
              "        vertical-align: top;\n",
              "    }\n",
              "\n",
              "    .dataframe thead th {\n",
              "        text-align: right;\n",
              "    }\n",
              "</style>\n",
              "<table border=\"1\" class=\"dataframe\">\n",
              "  <thead>\n",
              "    <tr style=\"text-align: right;\">\n",
              "      <th></th>\n",
              "      <th>0</th>\n",
              "    </tr>\n",
              "  </thead>\n",
              "  <tbody>\n",
              "    <tr>\n",
              "      <th>0</th>\n",
              "      <td>-1.683034</td>\n",
              "    </tr>\n",
              "    <tr>\n",
              "      <th>1</th>\n",
              "      <td>-1.533384</td>\n",
              "    </tr>\n",
              "    <tr>\n",
              "      <th>2</th>\n",
              "      <td>-1.719563</td>\n",
              "    </tr>\n",
              "    <tr>\n",
              "      <th>3</th>\n",
              "      <td>-1.626473</td>\n",
              "    </tr>\n",
              "    <tr>\n",
              "      <th>4</th>\n",
              "      <td>-1.719563</td>\n",
              "    </tr>\n",
              "    <tr>\n",
              "      <th>5</th>\n",
              "      <td>1.790735</td>\n",
              "    </tr>\n",
              "    <tr>\n",
              "      <th>6</th>\n",
              "      <td>1.641085</td>\n",
              "    </tr>\n",
              "    <tr>\n",
              "      <th>7</th>\n",
              "      <td>2.013443</td>\n",
              "    </tr>\n",
              "    <tr>\n",
              "      <th>8</th>\n",
              "      <td>1.102580</td>\n",
              "    </tr>\n",
              "    <tr>\n",
              "      <th>9</th>\n",
              "      <td>1.734174</td>\n",
              "    </tr>\n",
              "  </tbody>\n",
              "</table>\n",
              "</div>"
            ],
            "text/plain": [
              "          0\n",
              "0 -1.683034\n",
              "1 -1.533384\n",
              "2 -1.719563\n",
              "3 -1.626473\n",
              "4 -1.719563\n",
              "5  1.790735\n",
              "6  1.641085\n",
              "7  2.013443\n",
              "8  1.102580\n",
              "9  1.734174"
            ]
          },
          "metadata": {
            "tags": []
          },
          "execution_count": 29
        }
      ]
    },
    {
      "cell_type": "code",
      "metadata": {
        "id": "Ta5kTl_ujZ1L"
      },
      "source": [
        "Y=Data_2D.loc[:,'species']"
      ],
      "execution_count": 30,
      "outputs": []
    },
    {
      "cell_type": "code",
      "metadata": {
        "id": "khKn9i8ojJqs"
      },
      "source": [
        "rows_setosa = Y=='setosa';\n",
        "rows_versicolor = Y=='versicolor';"
      ],
      "execution_count": 31,
      "outputs": []
    },
    {
      "cell_type": "code",
      "metadata": {
        "id": "eT8KZvnTkDrF",
        "colab": {
          "base_uri": "https://localhost:8080/"
        },
        "outputId": "457d836f-5b5f-48bf-9d6f-ade9edb4f789"
      },
      "source": [
        "print((df_pca.loc[rows_setosa.tolist(), 0]).shape)\n",
        "print(df_pca.loc[rows_versicolor.tolist(), 0].shape)"
      ],
      "execution_count": 32,
      "outputs": [
        {
          "output_type": "stream",
          "text": [
            "(5,)\n",
            "(5,)\n"
          ],
          "name": "stdout"
        }
      ]
    },
    {
      "cell_type": "code",
      "metadata": {
        "id": "ybuinItujDRg",
        "colab": {
          "base_uri": "https://localhost:8080/",
          "height": 522
        },
        "outputId": "b4490460-6c2e-420e-e49f-f8f371448372"
      },
      "source": [
        "fig, ax = plt.subplots(1,1, figsize=(10,8))\n",
        "ax.scatter(df_pca.loc[rows_setosa.tolist(), 0], np.zeros([5]), c='blue', edgecolor='k', s=120, label='Zero')\n",
        "ax.scatter(df_pca.loc[rows_versicolor.tolist(), 0], np.zeros([5]), c='red', edgecolor='k', s=120, label='One')\n",
        "ax.set_title(\"Scatterplot of 1st principal component\", fontsize=22)"
      ],
      "execution_count": 33,
      "outputs": [
        {
          "output_type": "execute_result",
          "data": {
            "text/plain": [
              "Text(0.5, 1.0, 'Scatterplot of 1st principal component')"
            ]
          },
          "metadata": {
            "tags": []
          },
          "execution_count": 33
        },
        {
          "output_type": "display_data",
          "data": {
            "image/png": "[encoded data removed]",
            "text/plain": [
              "<Figure size 720x576 with 1 Axes>"
            ]
          },
          "metadata": {
            "tags": [],
            "needs_background": "light"
          }
        }
      ]
    },
    {
      "cell_type": "code",
      "metadata": {
        "id": "viZ1D3yYkley",
        "colab": {
          "base_uri": "https://localhost:8080/",
          "height": 522
        },
        "outputId": "29bc7aab-dc3b-4be8-a5ee-5ca98c2b09eb"
      },
      "source": [
        "fig, ax = plt.subplots(1,1, figsize=(10,8))\n",
        "ax.scatter(Data_2D.loc[rows_setosa.tolist(), 'petal_length'], Data_2D.loc[rows_setosa.tolist(), 'petal_width'], c='blue', edgecolor='k', s=120, label='Zero')\n",
        "ax.scatter(Data_2D.loc[rows_versicolor.tolist(), 'petal_length'], Data_2D.loc[rows_versicolor.tolist(), 'petal_width'], c='red', edgecolor='k', s=120, label='One')\n",
        "ax.set_title(\"Scatterplot of 2D data\", fontsize=22)"
      ],
      "execution_count": 34,
      "outputs": [
        {
          "output_type": "execute_result",
          "data": {
            "text/plain": [
              "Text(0.5, 1.0, 'Scatterplot of 2D data')"
            ]
          },
          "metadata": {
            "tags": []
          },
          "execution_count": 34
        },
        {
          "output_type": "display_data",
          "data": {
            "image/png": "[encoded data removed]",
            "text/plain": [
              "<Figure size 720x576 with 1 Axes>"
            ]
          },
          "metadata": {
            "tags": [],
            "needs_background": "light"
          }
        }
      ]
    },
    {
      "cell_type": "code",
      "metadata": {
        "id": "A-u2OAplktK0"
      },
      "source": [
        "original_data = pca.inverse_transform(np_pca)"
      ],
      "execution_count": 35,
      "outputs": []
    },
    {
      "cell_type": "code",
      "metadata": {
        "id": "bWMGE__Wk7t5"
      },
      "source": [
        "original_data[:,0]=original_data[:,0]+3.0\n",
        "original_data[:,1]=original_data[:,1]+0.83"
      ],
      "execution_count": 36,
      "outputs": []
    },
    {
      "cell_type": "code",
      "metadata": {
        "colab": {
          "base_uri": "https://localhost:8080/"
        },
        "id": "o0h0frjdltHU",
        "outputId": "b25e170c-c4d6-486b-cf2e-ef6bc2ba0bad"
      },
      "source": [
        "original_data[:,0]"
      ],
      "execution_count": 37,
      "outputs": [
        {
          "output_type": "execute_result",
          "data": {
            "text/plain": [
              "array([1.433, 1.573, 1.399, 1.486, 1.399, 4.667, 4.528, 4.874, 4.026,\n",
              "       4.614])"
            ]
          },
          "metadata": {
            "tags": []
          },
          "execution_count": 37
        }
      ]
    },
    {
      "cell_type": "code",
      "metadata": {
        "colab": {
          "base_uri": "https://localhost:8080/"
        },
        "id": "h3DaIf4ClgJl",
        "outputId": "302c4f06-76df-474e-d6d4-aeea6c8351dd"
      },
      "source": [
        "original_data #Reconstructed data"
      ],
      "execution_count": 38,
      "outputs": [
        {
          "output_type": "execute_result",
          "data": {
            "text/plain": [
              "array([[1.433, 0.215],\n",
              "       [1.573, 0.27 ],\n",
              "       [1.399, 0.202],\n",
              "       [1.486, 0.236],\n",
              "       [1.399, 0.202],\n",
              "       [4.667, 1.484],\n",
              "       [4.528, 1.429],\n",
              "       [4.874, 1.565],\n",
              "       [4.026, 1.233],\n",
              "       [4.614, 1.463]])"
            ]
          },
          "metadata": {
            "tags": []
          },
          "execution_count": 38
        }
      ]
    },
    {
      "cell_type": "code",
      "metadata": {
        "id": "drzVdBxxmk97"
      },
      "source": [
        "od=\tData_2D[['petal_length','petal_width']].values"
      ],
      "execution_count": 39,
      "outputs": []
    },
    {
      "cell_type": "code",
      "metadata": {
        "id": "Xa_jROM5l0kN"
      },
      "source": [
        "mse = ((od- original_data)**2).mean(axis=0)"
      ],
      "execution_count": 40,
      "outputs": []
    },
    {
      "cell_type": "code",
      "metadata": {
        "id": "TsstsDTWnZaC",
        "colab": {
          "base_uri": "https://localhost:8080/"
        },
        "outputId": "9cd8504e-3350-4cd5-fe1b-874094f29883"
      },
      "source": [
        "mse"
      ],
      "execution_count": 41,
      "outputs": [
        {
          "output_type": "execute_result",
          "data": {
            "text/plain": [
              "array([0.001, 0.004])"
            ]
          },
          "metadata": {
            "tags": []
          },
          "execution_count": 41
        }
      ]
    },
    {
      "cell_type": "code",
      "metadata": {
        "id": "qK84Ue7snZ1p"
      },
      "source": [
        ""
      ],
      "execution_count": 41,
      "outputs": []
    }
  ]
}