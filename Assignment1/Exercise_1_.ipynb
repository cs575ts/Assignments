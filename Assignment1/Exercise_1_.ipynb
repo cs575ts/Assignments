{
  "nbformat": 4,
  "nbformat_minor": 0,
  "metadata": {
    "colab": {
      "name": "Exercise -1_.ipynb",
      "provenance": [],
      "collapsed_sections": []
    },
    "kernelspec": {
      "name": "python3",
      "display_name": "Python 3"
    }
  },
  "cells": [
    {
      "cell_type": "markdown",
      "metadata": {
        "id": "ziOxgZxKmCws"
      },
      "source": [
        " Read the ambient_temperature_system_failure dataset as a dataframe from github : URL- https://raw.githubusercontent.com/jyotie02/CS575/main/ambient_temperature_system_failure.txt\r\n",
        "\r\n"
      ]
    },
    {
      "cell_type": "markdown",
      "metadata": {
        "id": "I5zcDtJ7cTcU"
      },
      "source": [
        "**1.** Extract the Year , Month , Week , and Hour information from timestamp for each sample. \\\r\n"
      ]
    },
    {
      "cell_type": "markdown",
      "metadata": {
        "id": "KXL2QXBXcMBo"
      },
      "source": [
        "\r\n",
        "\r\n",
        "**2.** Add the extracted information (Year , Month , Week , and Hour) as new column in the dataframe.\r\n",
        "\r\n"
      ]
    },
    {
      "cell_type": "markdown",
      "metadata": {
        "id": "5hrk3x8dtZUz"
      },
      "source": [
        "Example-"
      ]
    },
    {
      "cell_type": "code",
      "metadata": {
        "colab": {
          "base_uri": "https://localhost:8080/",
          "height": 47
        },
        "id": "3GlLqQ_Nh6Ss",
        "outputId": "38c55849-9b59-4b15-805a-60ec616d3f19"
      },
      "source": [
        "import pandas as pd \r\n",
        "data=[]\r\n",
        "df = pd.DataFrame(data, columns=['Temperature', 'Year', 'Month', 'Week', 'Hour'])\r\n",
        "df"
      ],
      "execution_count": 2,
      "outputs": [
        {
          "output_type": "execute_result",
          "data": {
            "text/html": [
              "<div>\n",
              "<style scoped>\n",
              "    .dataframe tbody tr th:only-of-type {\n",
              "        vertical-align: middle;\n",
              "    }\n",
              "\n",
              "    .dataframe tbody tr th {\n",
              "        vertical-align: top;\n",
              "    }\n",
              "\n",
              "    .dataframe thead th {\n",
              "        text-align: right;\n",
              "    }\n",
              "</style>\n",
              "<table border=\"1\" class=\"dataframe\">\n",
              "  <thead>\n",
              "    <tr style=\"text-align: right;\">\n",
              "      <th></th>\n",
              "      <th>Temperature</th>\n",
              "      <th>Year</th>\n",
              "      <th>Month</th>\n",
              "      <th>Week</th>\n",
              "      <th>Hour</th>\n",
              "    </tr>\n",
              "  </thead>\n",
              "  <tbody>\n",
              "  </tbody>\n",
              "</table>\n",
              "</div>"
            ],
            "text/plain": [
              "Empty DataFrame\n",
              "Columns: [Temperature, Year, Month, Week, Hour]\n",
              "Index: []"
            ]
          },
          "metadata": {
            "tags": []
          },
          "execution_count": 2
        }
      ]
    },
    {
      "cell_type": "markdown",
      "metadata": {
        "id": "Q7h2SwhPlV8e"
      },
      "source": [
        "**3.** Split the dataset into groups based on month. For each group find the following. \r\n",
        "\r\n",
        "-Mean \\\r\n",
        "-Median \\\r\n",
        "-Variance\\\r\n",
        "-Standard Deviation"
      ]
    }
  ]
}